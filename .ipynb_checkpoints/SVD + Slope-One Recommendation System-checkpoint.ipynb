{
 "cells": [
  {
   "cell_type": "markdown",
   "metadata": {},
   "source": [
    "In this notebook we will implement recommendation system based on Slope-One and SVD algorithms\n",
    "\n",
    "The original paper of [Slope-one](https://arxiv.org/abs/cs/0702144) algorithm\n",
    "\n",
    "We will explore [Movielens 100k dataset](https://grouplens.org/datasets/movielens/100k/) and compare the accuracy rate of the recommendation system built with 2 techiques:\n",
    "1. The only Slop-One\n",
    "2. SVD (low rank approximation) + Slope-One on the reduced matrix (The idea is taken from [this](https://www.atlantis-press.com/proceedings/mcei-15/25840929) paper)"
   ]
  },
  {
   "cell_type": "markdown",
   "metadata": {},
   "source": [
    "## 1. Data vizualization"
   ]
  },
  {
   "cell_type": "markdown",
   "metadata": {},
   "source": [
    "MovieLens data sets were collected by the GroupLens Research Project\n",
    "at the University of Minnesota.\n",
    " \n",
    "This data set consists of:\n",
    "\t* 100,000 ratings (1-5) from 943 users on 1682 movies. \n",
    "\t* Each user has rated at least 20 movies. \n",
    "    * Simple demographic info for the users (age, gender, occupation, zip) (it is not used in our project)\n",
    "    \n",
    "- `ua.base` and `ua.test`   - are datasets the were obtained by split the `u.data` file into a training set and a test set with exactly 10 ratings per user in the test set."
   ]
  },
  {
   "cell_type": "code",
   "execution_count": 1,
   "metadata": {},
   "outputs": [],
   "source": [
    "import pandas as pd\n",
    "import numpy as np\n",
    "import sys\n",
    "\n",
    "data = pd.read_csv('ml-100k/u.data', sep = '\\t', names = ['user id', 'item id', 'rating', 'timestamp'])\n",
    "data.drop('timestamp', axis = 1, inplace = True)"
   ]
  },
  {
   "cell_type": "markdown",
   "metadata": {},
   "source": [
    "### Distribution of ratings"
   ]
  },
  {
   "cell_type": "code",
   "execution_count": 26,
   "metadata": {},
   "outputs": [
    {
     "data": {
      "text/html": [
       "        <script type=\"text/javascript\">\n",
       "        window.PlotlyConfig = {MathJaxConfig: 'local'};\n",
       "        if (window.MathJax) {MathJax.Hub.Config({SVG: {font: \"STIX-Web\"}});}\n",
       "        if (typeof require !== 'undefined') {\n",
       "        require.undef(\"plotly\");\n",
       "        requirejs.config({\n",
       "            paths: {\n",
       "                'plotly': ['https://cdn.plot.ly/plotly-latest.min']\n",
       "            }\n",
       "        });\n",
       "        require(['plotly'], function(Plotly) {\n",
       "            window._Plotly = Plotly;\n",
       "        });\n",
       "        }\n",
       "        </script>\n",
       "        "
      ]
     },
     "metadata": {},
     "output_type": "display_data"
    },
    {
     "data": {
      "application/vnd.plotly.v1+json": {
       "config": {
        "linkText": "Export to plot.ly",
        "plotlyServerURL": "https://plot.ly",
        "showLink": true
       },
       "data": [
        {
         "text": [
          "21.2 %",
          "34.2 %",
          "27.1 %",
          "11.4 %",
          "6.1 %"
         ],
         "textfont": {
          "color": "#000000"
         },
         "textposition": "auto",
         "type": "bar",
         "x": [
          5,
          4,
          3,
          2,
          1
         ],
         "y": [
          21201,
          34174,
          27145,
          11370,
          6110
         ]
        }
       ],
       "layout": {
        "template": {
         "data": {
          "bar": [
           {
            "error_x": {
             "color": "#2a3f5f"
            },
            "error_y": {
             "color": "#2a3f5f"
            },
            "marker": {
             "line": {
              "color": "#E5ECF6",
              "width": 0.5
             }
            },
            "type": "bar"
           }
          ],
          "barpolar": [
           {
            "marker": {
             "line": {
              "color": "#E5ECF6",
              "width": 0.5
             }
            },
            "type": "barpolar"
           }
          ],
          "carpet": [
           {
            "aaxis": {
             "endlinecolor": "#2a3f5f",
             "gridcolor": "white",
             "linecolor": "white",
             "minorgridcolor": "white",
             "startlinecolor": "#2a3f5f"
            },
            "baxis": {
             "endlinecolor": "#2a3f5f",
             "gridcolor": "white",
             "linecolor": "white",
             "minorgridcolor": "white",
             "startlinecolor": "#2a3f5f"
            },
            "type": "carpet"
           }
          ],
          "choropleth": [
           {
            "colorbar": {
             "outlinewidth": 0,
             "ticks": ""
            },
            "type": "choropleth"
           }
          ],
          "contour": [
           {
            "colorbar": {
             "outlinewidth": 0,
             "ticks": ""
            },
            "colorscale": [
             [
              0,
              "#0d0887"
             ],
             [
              0.1111111111111111,
              "#46039f"
             ],
             [
              0.2222222222222222,
              "#7201a8"
             ],
             [
              0.3333333333333333,
              "#9c179e"
             ],
             [
              0.4444444444444444,
              "#bd3786"
             ],
             [
              0.5555555555555556,
              "#d8576b"
             ],
             [
              0.6666666666666666,
              "#ed7953"
             ],
             [
              0.7777777777777778,
              "#fb9f3a"
             ],
             [
              0.8888888888888888,
              "#fdca26"
             ],
             [
              1,
              "#f0f921"
             ]
            ],
            "type": "contour"
           }
          ],
          "contourcarpet": [
           {
            "colorbar": {
             "outlinewidth": 0,
             "ticks": ""
            },
            "type": "contourcarpet"
           }
          ],
          "heatmap": [
           {
            "colorbar": {
             "outlinewidth": 0,
             "ticks": ""
            },
            "colorscale": [
             [
              0,
              "#0d0887"
             ],
             [
              0.1111111111111111,
              "#46039f"
             ],
             [
              0.2222222222222222,
              "#7201a8"
             ],
             [
              0.3333333333333333,
              "#9c179e"
             ],
             [
              0.4444444444444444,
              "#bd3786"
             ],
             [
              0.5555555555555556,
              "#d8576b"
             ],
             [
              0.6666666666666666,
              "#ed7953"
             ],
             [
              0.7777777777777778,
              "#fb9f3a"
             ],
             [
              0.8888888888888888,
              "#fdca26"
             ],
             [
              1,
              "#f0f921"
             ]
            ],
            "type": "heatmap"
           }
          ],
          "heatmapgl": [
           {
            "colorbar": {
             "outlinewidth": 0,
             "ticks": ""
            },
            "colorscale": [
             [
              0,
              "#0d0887"
             ],
             [
              0.1111111111111111,
              "#46039f"
             ],
             [
              0.2222222222222222,
              "#7201a8"
             ],
             [
              0.3333333333333333,
              "#9c179e"
             ],
             [
              0.4444444444444444,
              "#bd3786"
             ],
             [
              0.5555555555555556,
              "#d8576b"
             ],
             [
              0.6666666666666666,
              "#ed7953"
             ],
             [
              0.7777777777777778,
              "#fb9f3a"
             ],
             [
              0.8888888888888888,
              "#fdca26"
             ],
             [
              1,
              "#f0f921"
             ]
            ],
            "type": "heatmapgl"
           }
          ],
          "histogram": [
           {
            "marker": {
             "colorbar": {
              "outlinewidth": 0,
              "ticks": ""
             }
            },
            "type": "histogram"
           }
          ],
          "histogram2d": [
           {
            "colorbar": {
             "outlinewidth": 0,
             "ticks": ""
            },
            "colorscale": [
             [
              0,
              "#0d0887"
             ],
             [
              0.1111111111111111,
              "#46039f"
             ],
             [
              0.2222222222222222,
              "#7201a8"
             ],
             [
              0.3333333333333333,
              "#9c179e"
             ],
             [
              0.4444444444444444,
              "#bd3786"
             ],
             [
              0.5555555555555556,
              "#d8576b"
             ],
             [
              0.6666666666666666,
              "#ed7953"
             ],
             [
              0.7777777777777778,
              "#fb9f3a"
             ],
             [
              0.8888888888888888,
              "#fdca26"
             ],
             [
              1,
              "#f0f921"
             ]
            ],
            "type": "histogram2d"
           }
          ],
          "histogram2dcontour": [
           {
            "colorbar": {
             "outlinewidth": 0,
             "ticks": ""
            },
            "colorscale": [
             [
              0,
              "#0d0887"
             ],
             [
              0.1111111111111111,
              "#46039f"
             ],
             [
              0.2222222222222222,
              "#7201a8"
             ],
             [
              0.3333333333333333,
              "#9c179e"
             ],
             [
              0.4444444444444444,
              "#bd3786"
             ],
             [
              0.5555555555555556,
              "#d8576b"
             ],
             [
              0.6666666666666666,
              "#ed7953"
             ],
             [
              0.7777777777777778,
              "#fb9f3a"
             ],
             [
              0.8888888888888888,
              "#fdca26"
             ],
             [
              1,
              "#f0f921"
             ]
            ],
            "type": "histogram2dcontour"
           }
          ],
          "mesh3d": [
           {
            "colorbar": {
             "outlinewidth": 0,
             "ticks": ""
            },
            "type": "mesh3d"
           }
          ],
          "parcoords": [
           {
            "line": {
             "colorbar": {
              "outlinewidth": 0,
              "ticks": ""
             }
            },
            "type": "parcoords"
           }
          ],
          "pie": [
           {
            "automargin": true,
            "type": "pie"
           }
          ],
          "scatter": [
           {
            "marker": {
             "colorbar": {
              "outlinewidth": 0,
              "ticks": ""
             }
            },
            "type": "scatter"
           }
          ],
          "scatter3d": [
           {
            "line": {
             "colorbar": {
              "outlinewidth": 0,
              "ticks": ""
             }
            },
            "marker": {
             "colorbar": {
              "outlinewidth": 0,
              "ticks": ""
             }
            },
            "type": "scatter3d"
           }
          ],
          "scattercarpet": [
           {
            "marker": {
             "colorbar": {
              "outlinewidth": 0,
              "ticks": ""
             }
            },
            "type": "scattercarpet"
           }
          ],
          "scattergeo": [
           {
            "marker": {
             "colorbar": {
              "outlinewidth": 0,
              "ticks": ""
             }
            },
            "type": "scattergeo"
           }
          ],
          "scattergl": [
           {
            "marker": {
             "colorbar": {
              "outlinewidth": 0,
              "ticks": ""
             }
            },
            "type": "scattergl"
           }
          ],
          "scattermapbox": [
           {
            "marker": {
             "colorbar": {
              "outlinewidth": 0,
              "ticks": ""
             }
            },
            "type": "scattermapbox"
           }
          ],
          "scatterpolar": [
           {
            "marker": {
             "colorbar": {
              "outlinewidth": 0,
              "ticks": ""
             }
            },
            "type": "scatterpolar"
           }
          ],
          "scatterpolargl": [
           {
            "marker": {
             "colorbar": {
              "outlinewidth": 0,
              "ticks": ""
             }
            },
            "type": "scatterpolargl"
           }
          ],
          "scatterternary": [
           {
            "marker": {
             "colorbar": {
              "outlinewidth": 0,
              "ticks": ""
             }
            },
            "type": "scatterternary"
           }
          ],
          "surface": [
           {
            "colorbar": {
             "outlinewidth": 0,
             "ticks": ""
            },
            "colorscale": [
             [
              0,
              "#0d0887"
             ],
             [
              0.1111111111111111,
              "#46039f"
             ],
             [
              0.2222222222222222,
              "#7201a8"
             ],
             [
              0.3333333333333333,
              "#9c179e"
             ],
             [
              0.4444444444444444,
              "#bd3786"
             ],
             [
              0.5555555555555556,
              "#d8576b"
             ],
             [
              0.6666666666666666,
              "#ed7953"
             ],
             [
              0.7777777777777778,
              "#fb9f3a"
             ],
             [
              0.8888888888888888,
              "#fdca26"
             ],
             [
              1,
              "#f0f921"
             ]
            ],
            "type": "surface"
           }
          ],
          "table": [
           {
            "cells": {
             "fill": {
              "color": "#EBF0F8"
             },
             "line": {
              "color": "white"
             }
            },
            "header": {
             "fill": {
              "color": "#C8D4E3"
             },
             "line": {
              "color": "white"
             }
            },
            "type": "table"
           }
          ]
         },
         "layout": {
          "annotationdefaults": {
           "arrowcolor": "#2a3f5f",
           "arrowhead": 0,
           "arrowwidth": 1
          },
          "coloraxis": {
           "colorbar": {
            "outlinewidth": 0,
            "ticks": ""
           }
          },
          "colorscale": {
           "diverging": [
            [
             0,
             "#8e0152"
            ],
            [
             0.1,
             "#c51b7d"
            ],
            [
             0.2,
             "#de77ae"
            ],
            [
             0.3,
             "#f1b6da"
            ],
            [
             0.4,
             "#fde0ef"
            ],
            [
             0.5,
             "#f7f7f7"
            ],
            [
             0.6,
             "#e6f5d0"
            ],
            [
             0.7,
             "#b8e186"
            ],
            [
             0.8,
             "#7fbc41"
            ],
            [
             0.9,
             "#4d9221"
            ],
            [
             1,
             "#276419"
            ]
           ],
           "sequential": [
            [
             0,
             "#0d0887"
            ],
            [
             0.1111111111111111,
             "#46039f"
            ],
            [
             0.2222222222222222,
             "#7201a8"
            ],
            [
             0.3333333333333333,
             "#9c179e"
            ],
            [
             0.4444444444444444,
             "#bd3786"
            ],
            [
             0.5555555555555556,
             "#d8576b"
            ],
            [
             0.6666666666666666,
             "#ed7953"
            ],
            [
             0.7777777777777778,
             "#fb9f3a"
            ],
            [
             0.8888888888888888,
             "#fdca26"
            ],
            [
             1,
             "#f0f921"
            ]
           ],
           "sequentialminus": [
            [
             0,
             "#0d0887"
            ],
            [
             0.1111111111111111,
             "#46039f"
            ],
            [
             0.2222222222222222,
             "#7201a8"
            ],
            [
             0.3333333333333333,
             "#9c179e"
            ],
            [
             0.4444444444444444,
             "#bd3786"
            ],
            [
             0.5555555555555556,
             "#d8576b"
            ],
            [
             0.6666666666666666,
             "#ed7953"
            ],
            [
             0.7777777777777778,
             "#fb9f3a"
            ],
            [
             0.8888888888888888,
             "#fdca26"
            ],
            [
             1,
             "#f0f921"
            ]
           ]
          },
          "colorway": [
           "#636efa",
           "#EF553B",
           "#00cc96",
           "#ab63fa",
           "#FFA15A",
           "#19d3f3",
           "#FF6692",
           "#B6E880",
           "#FF97FF",
           "#FECB52"
          ],
          "font": {
           "color": "#2a3f5f"
          },
          "geo": {
           "bgcolor": "white",
           "lakecolor": "white",
           "landcolor": "#E5ECF6",
           "showlakes": true,
           "showland": true,
           "subunitcolor": "white"
          },
          "hoverlabel": {
           "align": "left"
          },
          "hovermode": "closest",
          "mapbox": {
           "style": "light"
          },
          "paper_bgcolor": "white",
          "plot_bgcolor": "#E5ECF6",
          "polar": {
           "angularaxis": {
            "gridcolor": "white",
            "linecolor": "white",
            "ticks": ""
           },
           "bgcolor": "#E5ECF6",
           "radialaxis": {
            "gridcolor": "white",
            "linecolor": "white",
            "ticks": ""
           }
          },
          "scene": {
           "xaxis": {
            "backgroundcolor": "#E5ECF6",
            "gridcolor": "white",
            "gridwidth": 2,
            "linecolor": "white",
            "showbackground": true,
            "ticks": "",
            "zerolinecolor": "white"
           },
           "yaxis": {
            "backgroundcolor": "#E5ECF6",
            "gridcolor": "white",
            "gridwidth": 2,
            "linecolor": "white",
            "showbackground": true,
            "ticks": "",
            "zerolinecolor": "white"
           },
           "zaxis": {
            "backgroundcolor": "#E5ECF6",
            "gridcolor": "white",
            "gridwidth": 2,
            "linecolor": "white",
            "showbackground": true,
            "ticks": "",
            "zerolinecolor": "white"
           }
          },
          "shapedefaults": {
           "line": {
            "color": "#2a3f5f"
           }
          },
          "ternary": {
           "aaxis": {
            "gridcolor": "white",
            "linecolor": "white",
            "ticks": ""
           },
           "baxis": {
            "gridcolor": "white",
            "linecolor": "white",
            "ticks": ""
           },
           "bgcolor": "#E5ECF6",
           "caxis": {
            "gridcolor": "white",
            "linecolor": "white",
            "ticks": ""
           }
          },
          "title": {
           "x": 0.05
          },
          "xaxis": {
           "automargin": true,
           "gridcolor": "white",
           "linecolor": "white",
           "ticks": "",
           "title": {
            "standoff": 15
           },
           "zerolinecolor": "white",
           "zerolinewidth": 2
          },
          "yaxis": {
           "automargin": true,
           "gridcolor": "white",
           "linecolor": "white",
           "ticks": "",
           "title": {
            "standoff": 15
           },
           "zerolinecolor": "white",
           "zerolinewidth": 2
          }
         }
        },
        "title": {
         "text": "Distribution of 100000 film-ratings"
        },
        "xaxis": {
         "title": {
          "text": "Rating"
         }
        },
        "yaxis": {
         "title": {
          "text": "Count"
         }
        }
       }
      },
      "text/html": [
       "<div>\n",
       "        \n",
       "        \n",
       "            <div id=\"b486c796-bb14-42c0-a0fc-5257b3bb6a7c\" class=\"plotly-graph-div\" style=\"height:525px; width:100%;\"></div>\n",
       "            <script type=\"text/javascript\">\n",
       "                require([\"plotly\"], function(Plotly) {\n",
       "                    window.PLOTLYENV=window.PLOTLYENV || {};\n",
       "                    window.PLOTLYENV.BASE_URL='https://plot.ly';\n",
       "                    \n",
       "                if (document.getElementById(\"b486c796-bb14-42c0-a0fc-5257b3bb6a7c\")) {\n",
       "                    Plotly.newPlot(\n",
       "                        'b486c796-bb14-42c0-a0fc-5257b3bb6a7c',\n",
       "                        [{\"text\": [\"21.2 %\", \"34.2 %\", \"27.1 %\", \"11.4 %\", \"6.1 %\"], \"textfont\": {\"color\": \"#000000\"}, \"textposition\": \"auto\", \"type\": \"bar\", \"x\": [5, 4, 3, 2, 1], \"y\": [21201, 34174, 27145, 11370, 6110]}],\n",
       "                        {\"template\": {\"data\": {\"bar\": [{\"error_x\": {\"color\": \"#2a3f5f\"}, \"error_y\": {\"color\": \"#2a3f5f\"}, \"marker\": {\"line\": {\"color\": \"#E5ECF6\", \"width\": 0.5}}, \"type\": \"bar\"}], \"barpolar\": [{\"marker\": {\"line\": {\"color\": \"#E5ECF6\", \"width\": 0.5}}, \"type\": \"barpolar\"}], \"carpet\": [{\"aaxis\": {\"endlinecolor\": \"#2a3f5f\", \"gridcolor\": \"white\", \"linecolor\": \"white\", \"minorgridcolor\": \"white\", \"startlinecolor\": \"#2a3f5f\"}, \"baxis\": {\"endlinecolor\": \"#2a3f5f\", \"gridcolor\": \"white\", \"linecolor\": \"white\", \"minorgridcolor\": \"white\", \"startlinecolor\": \"#2a3f5f\"}, \"type\": \"carpet\"}], \"choropleth\": [{\"colorbar\": {\"outlinewidth\": 0, \"ticks\": \"\"}, \"type\": \"choropleth\"}], \"contour\": [{\"colorbar\": {\"outlinewidth\": 0, \"ticks\": \"\"}, \"colorscale\": [[0.0, \"#0d0887\"], [0.1111111111111111, \"#46039f\"], [0.2222222222222222, \"#7201a8\"], [0.3333333333333333, \"#9c179e\"], [0.4444444444444444, \"#bd3786\"], [0.5555555555555556, \"#d8576b\"], [0.6666666666666666, \"#ed7953\"], [0.7777777777777778, \"#fb9f3a\"], [0.8888888888888888, \"#fdca26\"], [1.0, \"#f0f921\"]], \"type\": \"contour\"}], \"contourcarpet\": [{\"colorbar\": {\"outlinewidth\": 0, \"ticks\": \"\"}, \"type\": \"contourcarpet\"}], \"heatmap\": [{\"colorbar\": {\"outlinewidth\": 0, \"ticks\": \"\"}, \"colorscale\": [[0.0, \"#0d0887\"], [0.1111111111111111, \"#46039f\"], [0.2222222222222222, \"#7201a8\"], [0.3333333333333333, \"#9c179e\"], [0.4444444444444444, \"#bd3786\"], [0.5555555555555556, \"#d8576b\"], [0.6666666666666666, \"#ed7953\"], [0.7777777777777778, \"#fb9f3a\"], [0.8888888888888888, \"#fdca26\"], [1.0, \"#f0f921\"]], \"type\": \"heatmap\"}], \"heatmapgl\": [{\"colorbar\": {\"outlinewidth\": 0, \"ticks\": \"\"}, \"colorscale\": [[0.0, \"#0d0887\"], [0.1111111111111111, \"#46039f\"], [0.2222222222222222, \"#7201a8\"], [0.3333333333333333, \"#9c179e\"], [0.4444444444444444, \"#bd3786\"], [0.5555555555555556, \"#d8576b\"], [0.6666666666666666, \"#ed7953\"], [0.7777777777777778, \"#fb9f3a\"], [0.8888888888888888, \"#fdca26\"], [1.0, \"#f0f921\"]], \"type\": \"heatmapgl\"}], \"histogram\": [{\"marker\": {\"colorbar\": {\"outlinewidth\": 0, \"ticks\": \"\"}}, \"type\": \"histogram\"}], \"histogram2d\": [{\"colorbar\": {\"outlinewidth\": 0, \"ticks\": \"\"}, \"colorscale\": [[0.0, \"#0d0887\"], [0.1111111111111111, \"#46039f\"], [0.2222222222222222, \"#7201a8\"], [0.3333333333333333, \"#9c179e\"], [0.4444444444444444, \"#bd3786\"], [0.5555555555555556, \"#d8576b\"], [0.6666666666666666, \"#ed7953\"], [0.7777777777777778, \"#fb9f3a\"], [0.8888888888888888, \"#fdca26\"], [1.0, \"#f0f921\"]], \"type\": \"histogram2d\"}], \"histogram2dcontour\": [{\"colorbar\": {\"outlinewidth\": 0, \"ticks\": \"\"}, \"colorscale\": [[0.0, \"#0d0887\"], [0.1111111111111111, \"#46039f\"], [0.2222222222222222, \"#7201a8\"], [0.3333333333333333, \"#9c179e\"], [0.4444444444444444, \"#bd3786\"], [0.5555555555555556, \"#d8576b\"], [0.6666666666666666, \"#ed7953\"], [0.7777777777777778, \"#fb9f3a\"], [0.8888888888888888, \"#fdca26\"], [1.0, \"#f0f921\"]], \"type\": \"histogram2dcontour\"}], \"mesh3d\": [{\"colorbar\": {\"outlinewidth\": 0, \"ticks\": \"\"}, \"type\": \"mesh3d\"}], \"parcoords\": [{\"line\": {\"colorbar\": {\"outlinewidth\": 0, \"ticks\": \"\"}}, \"type\": \"parcoords\"}], \"pie\": [{\"automargin\": true, \"type\": \"pie\"}], \"scatter\": [{\"marker\": {\"colorbar\": {\"outlinewidth\": 0, \"ticks\": \"\"}}, \"type\": \"scatter\"}], \"scatter3d\": [{\"line\": {\"colorbar\": {\"outlinewidth\": 0, \"ticks\": \"\"}}, \"marker\": {\"colorbar\": {\"outlinewidth\": 0, \"ticks\": \"\"}}, \"type\": \"scatter3d\"}], \"scattercarpet\": [{\"marker\": {\"colorbar\": {\"outlinewidth\": 0, \"ticks\": \"\"}}, \"type\": \"scattercarpet\"}], \"scattergeo\": [{\"marker\": {\"colorbar\": {\"outlinewidth\": 0, \"ticks\": \"\"}}, \"type\": \"scattergeo\"}], \"scattergl\": [{\"marker\": {\"colorbar\": {\"outlinewidth\": 0, \"ticks\": \"\"}}, \"type\": \"scattergl\"}], \"scattermapbox\": [{\"marker\": {\"colorbar\": {\"outlinewidth\": 0, \"ticks\": \"\"}}, \"type\": \"scattermapbox\"}], \"scatterpolar\": [{\"marker\": {\"colorbar\": {\"outlinewidth\": 0, \"ticks\": \"\"}}, \"type\": \"scatterpolar\"}], \"scatterpolargl\": [{\"marker\": {\"colorbar\": {\"outlinewidth\": 0, \"ticks\": \"\"}}, \"type\": \"scatterpolargl\"}], \"scatterternary\": [{\"marker\": {\"colorbar\": {\"outlinewidth\": 0, \"ticks\": \"\"}}, \"type\": \"scatterternary\"}], \"surface\": [{\"colorbar\": {\"outlinewidth\": 0, \"ticks\": \"\"}, \"colorscale\": [[0.0, \"#0d0887\"], [0.1111111111111111, \"#46039f\"], [0.2222222222222222, \"#7201a8\"], [0.3333333333333333, \"#9c179e\"], [0.4444444444444444, \"#bd3786\"], [0.5555555555555556, \"#d8576b\"], [0.6666666666666666, \"#ed7953\"], [0.7777777777777778, \"#fb9f3a\"], [0.8888888888888888, \"#fdca26\"], [1.0, \"#f0f921\"]], \"type\": \"surface\"}], \"table\": [{\"cells\": {\"fill\": {\"color\": \"#EBF0F8\"}, \"line\": {\"color\": \"white\"}}, \"header\": {\"fill\": {\"color\": \"#C8D4E3\"}, \"line\": {\"color\": \"white\"}}, \"type\": \"table\"}]}, \"layout\": {\"annotationdefaults\": {\"arrowcolor\": \"#2a3f5f\", \"arrowhead\": 0, \"arrowwidth\": 1}, \"coloraxis\": {\"colorbar\": {\"outlinewidth\": 0, \"ticks\": \"\"}}, \"colorscale\": {\"diverging\": [[0, \"#8e0152\"], [0.1, \"#c51b7d\"], [0.2, \"#de77ae\"], [0.3, \"#f1b6da\"], [0.4, \"#fde0ef\"], [0.5, \"#f7f7f7\"], [0.6, \"#e6f5d0\"], [0.7, \"#b8e186\"], [0.8, \"#7fbc41\"], [0.9, \"#4d9221\"], [1, \"#276419\"]], \"sequential\": [[0.0, \"#0d0887\"], [0.1111111111111111, \"#46039f\"], [0.2222222222222222, \"#7201a8\"], [0.3333333333333333, \"#9c179e\"], [0.4444444444444444, \"#bd3786\"], [0.5555555555555556, \"#d8576b\"], [0.6666666666666666, \"#ed7953\"], [0.7777777777777778, \"#fb9f3a\"], [0.8888888888888888, \"#fdca26\"], [1.0, \"#f0f921\"]], \"sequentialminus\": [[0.0, \"#0d0887\"], [0.1111111111111111, \"#46039f\"], [0.2222222222222222, \"#7201a8\"], [0.3333333333333333, \"#9c179e\"], [0.4444444444444444, \"#bd3786\"], [0.5555555555555556, \"#d8576b\"], [0.6666666666666666, \"#ed7953\"], [0.7777777777777778, \"#fb9f3a\"], [0.8888888888888888, \"#fdca26\"], [1.0, \"#f0f921\"]]}, \"colorway\": [\"#636efa\", \"#EF553B\", \"#00cc96\", \"#ab63fa\", \"#FFA15A\", \"#19d3f3\", \"#FF6692\", \"#B6E880\", \"#FF97FF\", \"#FECB52\"], \"font\": {\"color\": \"#2a3f5f\"}, \"geo\": {\"bgcolor\": \"white\", \"lakecolor\": \"white\", \"landcolor\": \"#E5ECF6\", \"showlakes\": true, \"showland\": true, \"subunitcolor\": \"white\"}, \"hoverlabel\": {\"align\": \"left\"}, \"hovermode\": \"closest\", \"mapbox\": {\"style\": \"light\"}, \"paper_bgcolor\": \"white\", \"plot_bgcolor\": \"#E5ECF6\", \"polar\": {\"angularaxis\": {\"gridcolor\": \"white\", \"linecolor\": \"white\", \"ticks\": \"\"}, \"bgcolor\": \"#E5ECF6\", \"radialaxis\": {\"gridcolor\": \"white\", \"linecolor\": \"white\", \"ticks\": \"\"}}, \"scene\": {\"xaxis\": {\"backgroundcolor\": \"#E5ECF6\", \"gridcolor\": \"white\", \"gridwidth\": 2, \"linecolor\": \"white\", \"showbackground\": true, \"ticks\": \"\", \"zerolinecolor\": \"white\"}, \"yaxis\": {\"backgroundcolor\": \"#E5ECF6\", \"gridcolor\": \"white\", \"gridwidth\": 2, \"linecolor\": \"white\", \"showbackground\": true, \"ticks\": \"\", \"zerolinecolor\": \"white\"}, \"zaxis\": {\"backgroundcolor\": \"#E5ECF6\", \"gridcolor\": \"white\", \"gridwidth\": 2, \"linecolor\": \"white\", \"showbackground\": true, \"ticks\": \"\", \"zerolinecolor\": \"white\"}}, \"shapedefaults\": {\"line\": {\"color\": \"#2a3f5f\"}}, \"ternary\": {\"aaxis\": {\"gridcolor\": \"white\", \"linecolor\": \"white\", \"ticks\": \"\"}, \"baxis\": {\"gridcolor\": \"white\", \"linecolor\": \"white\", \"ticks\": \"\"}, \"bgcolor\": \"#E5ECF6\", \"caxis\": {\"gridcolor\": \"white\", \"linecolor\": \"white\", \"ticks\": \"\"}}, \"title\": {\"x\": 0.05}, \"xaxis\": {\"automargin\": true, \"gridcolor\": \"white\", \"linecolor\": \"white\", \"ticks\": \"\", \"title\": {\"standoff\": 15}, \"zerolinecolor\": \"white\", \"zerolinewidth\": 2}, \"yaxis\": {\"automargin\": true, \"gridcolor\": \"white\", \"linecolor\": \"white\", \"ticks\": \"\", \"title\": {\"standoff\": 15}, \"zerolinecolor\": \"white\", \"zerolinewidth\": 2}}}, \"title\": {\"text\": \"Distribution of 100000 film-ratings\"}, \"xaxis\": {\"title\": {\"text\": \"Rating\"}}, \"yaxis\": {\"title\": {\"text\": \"Count\"}}},\n",
       "                        {\"showLink\": true, \"linkText\": \"Export to plot.ly\", \"plotlyServerURL\": \"https://plot.ly\", \"responsive\": true}\n",
       "                    ).then(function(){\n",
       "                            \n",
       "var gd = document.getElementById('b486c796-bb14-42c0-a0fc-5257b3bb6a7c');\n",
       "var x = new MutationObserver(function (mutations, observer) {{\n",
       "        var display = window.getComputedStyle(gd).display;\n",
       "        if (!display || display === 'none') {{\n",
       "            console.log([gd, 'removed!']);\n",
       "            Plotly.purge(gd);\n",
       "            observer.disconnect();\n",
       "        }}\n",
       "}});\n",
       "\n",
       "// Listen for the removal of the full notebook cells\n",
       "var notebookContainer = gd.closest('#notebook-container');\n",
       "if (notebookContainer) {{\n",
       "    x.observe(notebookContainer, {childList: true});\n",
       "}}\n",
       "\n",
       "// Listen for the clearing of the current output cell\n",
       "var outputEl = gd.closest('.output');\n",
       "if (outputEl) {{\n",
       "    x.observe(outputEl, {childList: true});\n",
       "}}\n",
       "\n",
       "                        })\n",
       "                };\n",
       "                });\n",
       "            </script>\n",
       "        </div>"
      ]
     },
     "metadata": {},
     "output_type": "display_data"
    }
   ],
   "source": [
    "import matplotlib.pyplot as plt\n",
    "from plotly.offline import init_notebook_mode, plot, iplot\n",
    "import plotly.graph_objs as go\n",
    "init_notebook_mode(connected=True)\n",
    "%matplotlib inline\n",
    "\n",
    "df = data['rating'].value_counts().sort_index(ascending=False)\n",
    "trace = go.Bar(x = df.index,\n",
    "               text = ['{:.1f} %'.format(val) for val in (df.values / data.shape[0] * 100)],\n",
    "               textposition = 'auto',\n",
    "               textfont = dict(color = '#000000'),\n",
    "               y = df.values,\n",
    "               )\n",
    "# Create layout\n",
    "layout = dict(title = 'Distribution of {} film-ratings'.format(data.shape[0]),\n",
    "              xaxis = dict(title = 'Rating'),\n",
    "              yaxis = dict(title = 'Count'))\n",
    "# Create plot\n",
    "fig = go.Figure(data=[trace], layout=layout)\n",
    "iplot(fig,show_link = True,auto_play = True)"
   ]
  },
  {
   "cell_type": "markdown",
   "metadata": {},
   "source": [
    "#### Almost all films got rating $3$, $4$ and $5$"
   ]
  },
  {
   "cell_type": "markdown",
   "metadata": {},
   "source": [
    "### Histogram of Number of Ratings Per Film"
   ]
  },
  {
   "cell_type": "code",
   "execution_count": 3,
   "metadata": {},
   "outputs": [
    {
     "data": {
      "application/vnd.plotly.v1+json": {
       "config": {
        "linkText": "Export to plot.ly",
        "plotlyServerURL": "https://plot.ly",
        "showLink": true
       },
       "data": [
        {
         "name": "Ratings",
         "type": "histogram",
         "x": [
          100,
          100,
          90,
          100,
          86,
          26,
          100,
          100,
          100,
          89,
          100,
          100,
          100,
          100,
          100,
          39,
          92,
          10,
          69,
          72,
          84,
          100,
          100,
          100,
          100,
          73,
          57,
          100,
          100,
          37,
          100,
          81,
          97,
          7,
          11,
          13,
          8,
          100,
          87,
          57,
          37,
          100,
          40,
          79,
          80,
          27,
          100,
          100,
          81,
          100,
          81,
          91,
          100,
          100,
          100,
          100,
          40,
          100,
          83,
          64,
          59,
          100,
          82,
          100,
          100,
          100,
          100,
          100,
          100,
          100,
          100,
          100,
          100,
          7,
          5,
          54,
          100,
          33,
          100,
          68,
          100,
          100,
          100,
          18,
          58,
          100,
          100,
          100,
          100,
          95,
          100,
          100,
          100,
          100,
          100,
          100,
          100,
          100,
          100,
          100,
          73,
          54,
          15,
          5,
          74,
          71,
          42,
          65,
          100,
          31,
          100,
          20,
          9,
          67,
          15,
          100,
          100,
          100,
          4,
          67,
          100,
          100,
          100,
          100,
          100,
          97,
          100,
          65,
          100,
          23,
          95,
          100,
          100,
          100,
          100,
          100,
          100,
          19,
          50,
          61,
          72,
          57,
          100,
          100,
          65,
          10,
          100,
          100,
          23,
          100,
          100,
          82,
          100,
          100,
          98,
          100,
          100,
          60,
          100,
          69,
          100,
          100,
          92,
          100,
          64,
          58,
          67,
          100,
          100,
          100,
          65,
          100,
          100,
          100,
          100,
          100,
          100,
          100,
          100,
          100,
          100,
          100,
          100,
          100,
          100,
          100,
          100,
          100,
          66,
          100,
          100,
          100,
          100,
          100,
          100,
          100,
          100,
          100,
          100,
          100,
          89,
          100,
          100,
          100,
          100,
          50,
          66,
          100,
          100,
          100,
          100,
          92,
          100,
          100,
          100,
          100,
          100,
          100,
          100,
          66,
          74,
          100,
          100,
          44,
          100,
          100,
          100,
          100,
          100,
          100,
          100,
          100,
          100,
          100,
          100,
          45,
          100,
          100,
          100,
          100,
          100,
          100,
          100,
          48,
          100,
          100,
          5,
          100,
          100,
          100,
          46,
          100,
          26,
          62,
          100,
          16,
          100,
          100,
          100,
          100,
          43,
          66,
          19,
          100,
          100,
          35,
          9,
          100,
          100,
          100,
          100,
          100,
          100,
          100,
          100,
          100,
          71,
          60,
          28,
          85,
          100,
          100,
          100,
          100,
          100,
          100,
          78,
          100,
          100,
          96,
          100,
          100,
          100,
          100,
          77,
          6,
          50,
          100,
          73,
          100,
          100,
          100,
          100,
          100,
          87,
          96,
          100,
          30,
          28,
          100,
          75,
          80,
          100,
          5,
          100,
          100,
          100,
          100,
          100,
          20,
          100,
          100,
          100,
          100,
          100,
          100,
          100,
          100,
          45,
          41,
          100,
          100,
          100,
          64,
          21,
          43,
          18,
          91,
          47,
          100,
          11,
          52,
          100,
          55,
          65,
          100,
          100,
          27,
          31,
          41,
          20,
          26,
          14,
          72,
          41,
          97,
          100,
          100,
          18,
          10,
          10,
          28,
          47,
          37,
          48,
          47,
          100,
          31,
          55,
          39,
          67,
          34,
          39,
          11,
          23,
          24,
          13,
          100,
          43,
          100,
          100,
          100,
          31,
          69,
          100,
          87,
          65,
          28,
          27,
          10,
          59,
          68,
          100,
          12,
          56,
          54,
          12,
          26,
          89,
          18,
          76,
          100,
          100,
          100,
          100,
          49,
          43,
          100,
          70,
          100,
          100,
          93,
          55,
          62,
          25,
          64,
          73,
          100,
          100,
          81,
          100,
          26,
          100,
          19,
          85,
          32,
          100,
          100,
          97,
          93,
          100,
          100,
          100,
          67,
          100,
          99,
          5,
          6,
          5,
          14,
          53,
          4,
          100,
          46,
          22,
          9,
          100,
          85,
          100,
          63,
          100,
          66,
          16,
          16,
          100,
          48,
          27,
          90,
          24,
          28,
          74,
          100,
          71,
          27,
          85,
          52,
          48,
          64,
          67,
          100,
          100,
          100,
          100,
          100,
          100,
          100,
          95,
          100,
          100,
          100,
          63,
          100,
          100,
          100,
          100,
          64,
          68,
          65,
          52,
          50,
          67,
          59,
          60,
          56,
          59,
          100,
          68,
          100,
          62,
          31,
          100,
          57,
          39,
          100,
          68,
          90,
          98,
          100,
          100,
          100,
          100,
          57,
          72,
          100,
          100,
          63,
          91,
          89,
          80,
          100,
          100,
          35,
          100,
          46,
          73,
          100,
          100,
          100,
          93,
          80,
          100,
          22,
          15,
          13,
          54,
          10,
          30,
          66,
          44,
          43,
          49,
          51,
          21,
          71,
          12,
          100,
          41,
          12,
          92,
          100,
          24,
          45,
          63,
          100,
          10,
          12,
          17,
          70,
          100,
          22,
          59,
          48,
          29,
          27,
          22,
          100,
          35,
          100,
          67,
          50,
          28,
          29,
          33,
          15,
          44,
          93,
          41,
          92,
          19,
          32,
          59,
          100,
          37,
          79,
          39,
          34,
          14,
          100,
          43,
          18,
          100,
          9,
          12,
          5,
          64,
          100,
          100,
          4,
          1,
          2,
          20,
          50,
          100,
          81,
          31,
          66,
          66,
          30,
          60,
          41,
          40,
          34,
          27,
          51,
          59,
          64,
          18,
          18,
          64,
          43,
          11,
          39,
          39,
          22,
          82,
          4,
          75,
          100,
          77,
          31,
          100,
          58,
          69,
          24,
          23,
          91,
          38,
          44,
          40,
          82,
          33,
          89,
          4,
          35,
          27,
          38,
          70,
          67,
          50,
          72,
          100,
          90,
          34,
          100,
          100,
          44,
          100,
          79,
          100,
          100,
          88,
          82,
          100,
          46,
          100,
          5,
          12,
          6,
          13,
          36,
          46,
          65,
          86,
          48,
          54,
          77,
          1,
          100,
          100,
          34,
          27,
          100,
          49,
          100,
          100,
          50,
          69,
          44,
          87,
          100,
          16,
          100,
          91,
          44,
          13,
          79,
          40,
          10,
          100,
          15,
          10,
          53,
          19,
          24,
          100,
          6,
          70,
          100,
          100,
          79,
          1,
          51,
          72,
          13,
          87,
          58,
          82,
          16,
          29,
          86,
          54,
          58,
          34,
          76,
          16,
          14,
          63,
          45,
          81,
          24,
          39,
          100,
          15,
          27,
          100,
          78,
          59,
          31,
          100,
          63,
          58,
          100,
          39,
          92,
          16,
          100,
          100,
          100,
          51,
          100,
          100,
          39,
          24,
          57,
          96,
          100,
          4,
          21,
          11,
          46,
          44,
          100,
          100,
          29,
          32,
          9,
          11,
          52,
          42,
          57,
          41,
          49,
          17,
          32,
          26,
          9,
          4,
          76,
          31,
          69,
          84,
          10,
          37,
          2,
          39,
          14,
          13,
          3,
          47,
          66,
          10,
          86,
          10,
          46,
          21,
          36,
          31,
          9,
          5,
          26,
          16,
          40,
          9,
          8,
          27,
          50,
          9,
          31,
          43,
          45,
          18,
          18,
          56,
          1,
          100,
          21,
          3,
          25,
          40,
          93,
          22,
          4,
          82,
          49,
          83,
          80,
          57,
          13,
          34,
          1,
          91,
          22,
          49,
          25,
          15,
          26,
          25,
          4,
          4,
          53,
          48,
          27,
          30,
          42,
          100,
          44,
          55,
          9,
          53,
          4,
          4,
          1,
          14,
          16,
          66,
          36,
          1,
          3,
          15,
          16,
          3,
          18,
          24,
          86,
          21,
          100,
          6,
          5,
          24,
          9,
          75,
          42,
          81,
          39,
          53,
          47,
          52,
          33,
          100,
          59,
          45,
          34,
          13,
          7,
          13,
          53,
          64,
          15,
          13,
          43,
          6,
          53,
          14,
          19,
          100,
          44,
          2,
          58,
          9,
          42,
          12,
          42,
          18,
          20,
          27,
          21,
          2,
          20,
          13,
          4,
          4,
          9,
          2,
          11,
          13,
          18,
          7,
          8,
          96,
          5,
          46,
          34,
          58,
          85,
          34,
          100,
          6,
          100,
          40,
          80,
          57,
          40,
          21,
          68,
          7,
          32,
          37,
          25,
          60,
          32,
          46,
          45,
          40,
          43,
          40,
          61,
          17,
          48,
          71,
          30,
          39,
          45,
          22,
          11,
          49,
          46,
          2,
          14,
          64,
          25,
          34,
          23,
          41,
          9,
          21,
          26,
          12,
          18,
          75,
          8,
          34,
          28,
          4,
          32,
          44,
          12,
          49,
          27,
          35,
          22,
          8,
          20,
          15,
          44,
          22,
          23,
          4,
          86,
          32,
          33,
          25,
          4,
          66,
          7,
          31,
          14,
          16,
          16,
          10,
          10,
          17,
          8,
          8,
          9,
          22,
          23,
          47,
          37,
          64,
          44,
          93,
          100,
          38,
          98,
          12,
          100,
          50,
          32,
          31,
          35,
          38,
          32,
          31,
          15,
          44,
          4,
          3,
          100,
          14,
          20,
          7,
          16,
          32,
          27,
          68,
          24,
          24,
          17,
          90,
          25,
          62,
          28,
          8,
          40,
          25,
          46,
          100,
          73,
          25,
          43,
          41,
          25,
          24,
          23,
          10,
          10,
          22,
          15,
          35,
          39,
          29,
          12,
          41,
          4,
          53,
          16,
          44,
          12,
          18,
          27,
          16,
          7,
          66,
          77,
          7,
          12,
          8,
          22,
          45,
          2,
          8,
          8,
          6,
          21,
          11,
          21,
          10,
          13,
          38,
          37,
          43,
          12,
          23,
          12,
          29,
          3,
          18,
          42,
          13,
          8,
          74,
          7,
          19,
          4,
          18,
          4,
          18,
          5,
          28,
          41,
          7,
          15,
          22,
          10,
          29,
          13,
          19,
          47,
          59,
          17,
          21,
          1,
          3,
          12,
          4,
          32,
          11,
          13,
          28,
          1,
          13,
          32,
          30,
          38,
          46,
          29,
          29,
          5,
          33,
          17,
          9,
          44,
          15,
          3,
          9,
          3,
          21,
          9,
          26,
          9,
          7,
          28,
          19,
          12,
          3,
          1,
          25,
          4,
          11,
          26,
          13,
          5,
          25,
          6,
          14,
          12,
          11,
          22,
          10,
          27,
          14,
          15,
          7,
          8,
          5,
          22,
          7,
          19,
          9,
          10,
          10,
          13,
          19,
          10,
          18,
          3,
          13,
          44,
          3,
          11,
          3,
          13,
          10,
          31,
          11,
          3,
          45,
          7,
          23,
          7,
          1,
          8,
          21,
          18,
          6,
          19,
          17,
          20,
          15,
          38,
          12,
          6,
          6,
          9,
          30,
          6,
          39,
          26,
          20,
          30,
          39,
          25,
          4,
          12,
          14,
          32,
          8,
          48,
          13,
          18,
          22,
          17,
          6,
          8,
          1,
          1,
          6,
          8,
          18,
          26,
          6,
          5,
          7,
          36,
          19,
          7,
          6,
          19,
          12,
          6,
          8,
          9,
          7,
          11,
          8,
          3,
          4,
          23,
          4,
          4,
          4,
          8,
          15,
          7,
          19,
          12,
          33,
          10,
          10,
          7,
          7,
          5,
          15,
          11,
          4,
          8,
          19,
          16,
          9,
          16,
          13,
          9,
          19,
          26,
          15,
          17,
          6,
          7,
          7,
          2,
          15,
          3,
          3,
          7,
          7,
          20,
          12,
          9,
          8,
          9,
          5,
          5,
          18,
          2,
          7,
          2,
          2,
          2,
          1,
          1,
          16,
          7,
          14,
          11,
          23,
          7,
          4,
          3,
          4,
          1,
          2,
          6,
          3,
          5,
          1,
          6,
          3,
          6,
          1,
          4,
          4,
          2,
          5,
          2,
          11,
          10,
          9,
          4,
          1,
          1,
          1,
          2,
          1,
          5,
          2,
          5,
          4,
          1,
          1,
          2,
          3,
          1,
          5,
          2,
          6,
          3,
          3,
          2,
          2,
          2,
          3,
          2,
          1,
          1,
          2,
          1,
          5,
          6,
          4,
          3,
          2,
          3,
          1,
          2,
          10,
          7,
          4,
          5,
          7,
          6,
          8,
          4,
          6,
          3,
          5,
          6,
          3,
          6,
          3,
          2,
          3,
          5,
          9,
          7,
          6,
          5,
          5,
          2,
          7,
          10,
          18,
          4,
          4,
          13,
          6,
          5,
          20,
          3,
          7,
          4,
          28,
          6,
          8,
          1,
          9,
          5,
          2,
          3,
          16,
          3,
          11,
          4,
          4,
          3,
          10,
          8,
          5,
          12,
          4,
          3,
          5,
          3,
          2,
          10,
          7,
          2,
          9,
          5,
          8,
          5,
          7,
          5,
          4,
          19,
          4,
          15,
          1,
          3,
          8,
          2,
          15,
          1,
          1,
          6,
          2,
          7,
          1,
          1,
          7,
          1,
          1,
          7,
          3,
          3,
          3,
          6,
          2,
          6,
          12,
          5,
          9,
          2,
          9,
          6,
          8,
          1,
          2,
          18,
          8,
          11,
          2,
          1,
          12,
          3,
          4,
          1,
          5,
          4,
          5,
          3,
          2,
          1,
          1,
          1,
          5,
          5,
          2,
          1,
          4,
          2,
          5,
          2,
          10,
          3,
          1,
          3,
          1,
          3,
          5,
          1,
          5,
          6,
          3,
          7,
          1,
          3,
          5,
          12,
          2,
          1,
          4,
          7,
          2,
          8,
          1,
          1,
          7,
          3,
          5,
          5,
          7,
          2,
          1,
          6,
          4,
          1,
          4,
          3,
          4,
          10,
          2,
          2,
          1,
          3,
          4,
          1,
          2,
          1,
          2,
          2,
          2,
          3,
          4,
          2,
          5,
          2,
          1,
          7,
          1,
          4,
          1,
          1,
          1,
          1,
          1,
          1,
          1,
          1,
          1,
          1,
          1,
          1,
          2,
          1,
          1,
          1,
          1,
          2,
          1,
          1,
          1,
          1,
          1,
          1,
          2,
          1,
          1,
          2,
          4,
          2,
          6,
          5,
          1,
          2,
          1,
          1,
          5,
          6,
          1,
          4,
          1,
          3,
          1,
          1,
          4,
          1,
          3,
          4,
          3,
          3,
          2,
          4,
          1,
          1,
          10,
          1,
          2,
          1,
          1,
          9,
          1,
          3,
          3,
          1,
          1,
          1,
          1,
          4,
          2,
          1,
          2,
          1,
          1,
          1,
          1,
          1,
          1,
          1,
          3,
          1,
          1,
          2,
          4,
          2,
          1,
          2,
          1,
          1,
          1,
          1,
          1,
          3,
          1,
          1,
          1,
          2,
          1,
          3,
          1,
          1,
          1,
          2,
          1,
          4,
          1,
          1,
          1,
          1,
          1,
          1,
          1,
          2,
          1,
          1,
          1,
          1,
          1,
          1,
          1,
          1,
          1,
          1
         ],
         "xbins": {
          "end": 100,
          "size": 2,
          "start": 0
         }
        }
       ],
       "layout": {
        "bargap": 0.2,
        "template": {
         "data": {
          "bar": [
           {
            "error_x": {
             "color": "#2a3f5f"
            },
            "error_y": {
             "color": "#2a3f5f"
            },
            "marker": {
             "line": {
              "color": "#E5ECF6",
              "width": 0.5
             }
            },
            "type": "bar"
           }
          ],
          "barpolar": [
           {
            "marker": {
             "line": {
              "color": "#E5ECF6",
              "width": 0.5
             }
            },
            "type": "barpolar"
           }
          ],
          "carpet": [
           {
            "aaxis": {
             "endlinecolor": "#2a3f5f",
             "gridcolor": "white",
             "linecolor": "white",
             "minorgridcolor": "white",
             "startlinecolor": "#2a3f5f"
            },
            "baxis": {
             "endlinecolor": "#2a3f5f",
             "gridcolor": "white",
             "linecolor": "white",
             "minorgridcolor": "white",
             "startlinecolor": "#2a3f5f"
            },
            "type": "carpet"
           }
          ],
          "choropleth": [
           {
            "colorbar": {
             "outlinewidth": 0,
             "ticks": ""
            },
            "type": "choropleth"
           }
          ],
          "contour": [
           {
            "colorbar": {
             "outlinewidth": 0,
             "ticks": ""
            },
            "colorscale": [
             [
              0,
              "#0d0887"
             ],
             [
              0.1111111111111111,
              "#46039f"
             ],
             [
              0.2222222222222222,
              "#7201a8"
             ],
             [
              0.3333333333333333,
              "#9c179e"
             ],
             [
              0.4444444444444444,
              "#bd3786"
             ],
             [
              0.5555555555555556,
              "#d8576b"
             ],
             [
              0.6666666666666666,
              "#ed7953"
             ],
             [
              0.7777777777777778,
              "#fb9f3a"
             ],
             [
              0.8888888888888888,
              "#fdca26"
             ],
             [
              1,
              "#f0f921"
             ]
            ],
            "type": "contour"
           }
          ],
          "contourcarpet": [
           {
            "colorbar": {
             "outlinewidth": 0,
             "ticks": ""
            },
            "type": "contourcarpet"
           }
          ],
          "heatmap": [
           {
            "colorbar": {
             "outlinewidth": 0,
             "ticks": ""
            },
            "colorscale": [
             [
              0,
              "#0d0887"
             ],
             [
              0.1111111111111111,
              "#46039f"
             ],
             [
              0.2222222222222222,
              "#7201a8"
             ],
             [
              0.3333333333333333,
              "#9c179e"
             ],
             [
              0.4444444444444444,
              "#bd3786"
             ],
             [
              0.5555555555555556,
              "#d8576b"
             ],
             [
              0.6666666666666666,
              "#ed7953"
             ],
             [
              0.7777777777777778,
              "#fb9f3a"
             ],
             [
              0.8888888888888888,
              "#fdca26"
             ],
             [
              1,
              "#f0f921"
             ]
            ],
            "type": "heatmap"
           }
          ],
          "heatmapgl": [
           {
            "colorbar": {
             "outlinewidth": 0,
             "ticks": ""
            },
            "colorscale": [
             [
              0,
              "#0d0887"
             ],
             [
              0.1111111111111111,
              "#46039f"
             ],
             [
              0.2222222222222222,
              "#7201a8"
             ],
             [
              0.3333333333333333,
              "#9c179e"
             ],
             [
              0.4444444444444444,
              "#bd3786"
             ],
             [
              0.5555555555555556,
              "#d8576b"
             ],
             [
              0.6666666666666666,
              "#ed7953"
             ],
             [
              0.7777777777777778,
              "#fb9f3a"
             ],
             [
              0.8888888888888888,
              "#fdca26"
             ],
             [
              1,
              "#f0f921"
             ]
            ],
            "type": "heatmapgl"
           }
          ],
          "histogram": [
           {
            "marker": {
             "colorbar": {
              "outlinewidth": 0,
              "ticks": ""
             }
            },
            "type": "histogram"
           }
          ],
          "histogram2d": [
           {
            "colorbar": {
             "outlinewidth": 0,
             "ticks": ""
            },
            "colorscale": [
             [
              0,
              "#0d0887"
             ],
             [
              0.1111111111111111,
              "#46039f"
             ],
             [
              0.2222222222222222,
              "#7201a8"
             ],
             [
              0.3333333333333333,
              "#9c179e"
             ],
             [
              0.4444444444444444,
              "#bd3786"
             ],
             [
              0.5555555555555556,
              "#d8576b"
             ],
             [
              0.6666666666666666,
              "#ed7953"
             ],
             [
              0.7777777777777778,
              "#fb9f3a"
             ],
             [
              0.8888888888888888,
              "#fdca26"
             ],
             [
              1,
              "#f0f921"
             ]
            ],
            "type": "histogram2d"
           }
          ],
          "histogram2dcontour": [
           {
            "colorbar": {
             "outlinewidth": 0,
             "ticks": ""
            },
            "colorscale": [
             [
              0,
              "#0d0887"
             ],
             [
              0.1111111111111111,
              "#46039f"
             ],
             [
              0.2222222222222222,
              "#7201a8"
             ],
             [
              0.3333333333333333,
              "#9c179e"
             ],
             [
              0.4444444444444444,
              "#bd3786"
             ],
             [
              0.5555555555555556,
              "#d8576b"
             ],
             [
              0.6666666666666666,
              "#ed7953"
             ],
             [
              0.7777777777777778,
              "#fb9f3a"
             ],
             [
              0.8888888888888888,
              "#fdca26"
             ],
             [
              1,
              "#f0f921"
             ]
            ],
            "type": "histogram2dcontour"
           }
          ],
          "mesh3d": [
           {
            "colorbar": {
             "outlinewidth": 0,
             "ticks": ""
            },
            "type": "mesh3d"
           }
          ],
          "parcoords": [
           {
            "line": {
             "colorbar": {
              "outlinewidth": 0,
              "ticks": ""
             }
            },
            "type": "parcoords"
           }
          ],
          "pie": [
           {
            "automargin": true,
            "type": "pie"
           }
          ],
          "scatter": [
           {
            "marker": {
             "colorbar": {
              "outlinewidth": 0,
              "ticks": ""
             }
            },
            "type": "scatter"
           }
          ],
          "scatter3d": [
           {
            "line": {
             "colorbar": {
              "outlinewidth": 0,
              "ticks": ""
             }
            },
            "marker": {
             "colorbar": {
              "outlinewidth": 0,
              "ticks": ""
             }
            },
            "type": "scatter3d"
           }
          ],
          "scattercarpet": [
           {
            "marker": {
             "colorbar": {
              "outlinewidth": 0,
              "ticks": ""
             }
            },
            "type": "scattercarpet"
           }
          ],
          "scattergeo": [
           {
            "marker": {
             "colorbar": {
              "outlinewidth": 0,
              "ticks": ""
             }
            },
            "type": "scattergeo"
           }
          ],
          "scattergl": [
           {
            "marker": {
             "colorbar": {
              "outlinewidth": 0,
              "ticks": ""
             }
            },
            "type": "scattergl"
           }
          ],
          "scattermapbox": [
           {
            "marker": {
             "colorbar": {
              "outlinewidth": 0,
              "ticks": ""
             }
            },
            "type": "scattermapbox"
           }
          ],
          "scatterpolar": [
           {
            "marker": {
             "colorbar": {
              "outlinewidth": 0,
              "ticks": ""
             }
            },
            "type": "scatterpolar"
           }
          ],
          "scatterpolargl": [
           {
            "marker": {
             "colorbar": {
              "outlinewidth": 0,
              "ticks": ""
             }
            },
            "type": "scatterpolargl"
           }
          ],
          "scatterternary": [
           {
            "marker": {
             "colorbar": {
              "outlinewidth": 0,
              "ticks": ""
             }
            },
            "type": "scatterternary"
           }
          ],
          "surface": [
           {
            "colorbar": {
             "outlinewidth": 0,
             "ticks": ""
            },
            "colorscale": [
             [
              0,
              "#0d0887"
             ],
             [
              0.1111111111111111,
              "#46039f"
             ],
             [
              0.2222222222222222,
              "#7201a8"
             ],
             [
              0.3333333333333333,
              "#9c179e"
             ],
             [
              0.4444444444444444,
              "#bd3786"
             ],
             [
              0.5555555555555556,
              "#d8576b"
             ],
             [
              0.6666666666666666,
              "#ed7953"
             ],
             [
              0.7777777777777778,
              "#fb9f3a"
             ],
             [
              0.8888888888888888,
              "#fdca26"
             ],
             [
              1,
              "#f0f921"
             ]
            ],
            "type": "surface"
           }
          ],
          "table": [
           {
            "cells": {
             "fill": {
              "color": "#EBF0F8"
             },
             "line": {
              "color": "white"
             }
            },
            "header": {
             "fill": {
              "color": "#C8D4E3"
             },
             "line": {
              "color": "white"
             }
            },
            "type": "table"
           }
          ]
         },
         "layout": {
          "annotationdefaults": {
           "arrowcolor": "#2a3f5f",
           "arrowhead": 0,
           "arrowwidth": 1
          },
          "coloraxis": {
           "colorbar": {
            "outlinewidth": 0,
            "ticks": ""
           }
          },
          "colorscale": {
           "diverging": [
            [
             0,
             "#8e0152"
            ],
            [
             0.1,
             "#c51b7d"
            ],
            [
             0.2,
             "#de77ae"
            ],
            [
             0.3,
             "#f1b6da"
            ],
            [
             0.4,
             "#fde0ef"
            ],
            [
             0.5,
             "#f7f7f7"
            ],
            [
             0.6,
             "#e6f5d0"
            ],
            [
             0.7,
             "#b8e186"
            ],
            [
             0.8,
             "#7fbc41"
            ],
            [
             0.9,
             "#4d9221"
            ],
            [
             1,
             "#276419"
            ]
           ],
           "sequential": [
            [
             0,
             "#0d0887"
            ],
            [
             0.1111111111111111,
             "#46039f"
            ],
            [
             0.2222222222222222,
             "#7201a8"
            ],
            [
             0.3333333333333333,
             "#9c179e"
            ],
            [
             0.4444444444444444,
             "#bd3786"
            ],
            [
             0.5555555555555556,
             "#d8576b"
            ],
            [
             0.6666666666666666,
             "#ed7953"
            ],
            [
             0.7777777777777778,
             "#fb9f3a"
            ],
            [
             0.8888888888888888,
             "#fdca26"
            ],
            [
             1,
             "#f0f921"
            ]
           ],
           "sequentialminus": [
            [
             0,
             "#0d0887"
            ],
            [
             0.1111111111111111,
             "#46039f"
            ],
            [
             0.2222222222222222,
             "#7201a8"
            ],
            [
             0.3333333333333333,
             "#9c179e"
            ],
            [
             0.4444444444444444,
             "#bd3786"
            ],
            [
             0.5555555555555556,
             "#d8576b"
            ],
            [
             0.6666666666666666,
             "#ed7953"
            ],
            [
             0.7777777777777778,
             "#fb9f3a"
            ],
            [
             0.8888888888888888,
             "#fdca26"
            ],
            [
             1,
             "#f0f921"
            ]
           ]
          },
          "colorway": [
           "#636efa",
           "#EF553B",
           "#00cc96",
           "#ab63fa",
           "#FFA15A",
           "#19d3f3",
           "#FF6692",
           "#B6E880",
           "#FF97FF",
           "#FECB52"
          ],
          "font": {
           "color": "#2a3f5f"
          },
          "geo": {
           "bgcolor": "white",
           "lakecolor": "white",
           "landcolor": "#E5ECF6",
           "showlakes": true,
           "showland": true,
           "subunitcolor": "white"
          },
          "hoverlabel": {
           "align": "left"
          },
          "hovermode": "closest",
          "mapbox": {
           "style": "light"
          },
          "paper_bgcolor": "white",
          "plot_bgcolor": "#E5ECF6",
          "polar": {
           "angularaxis": {
            "gridcolor": "white",
            "linecolor": "white",
            "ticks": ""
           },
           "bgcolor": "#E5ECF6",
           "radialaxis": {
            "gridcolor": "white",
            "linecolor": "white",
            "ticks": ""
           }
          },
          "scene": {
           "xaxis": {
            "backgroundcolor": "#E5ECF6",
            "gridcolor": "white",
            "gridwidth": 2,
            "linecolor": "white",
            "showbackground": true,
            "ticks": "",
            "zerolinecolor": "white"
           },
           "yaxis": {
            "backgroundcolor": "#E5ECF6",
            "gridcolor": "white",
            "gridwidth": 2,
            "linecolor": "white",
            "showbackground": true,
            "ticks": "",
            "zerolinecolor": "white"
           },
           "zaxis": {
            "backgroundcolor": "#E5ECF6",
            "gridcolor": "white",
            "gridwidth": 2,
            "linecolor": "white",
            "showbackground": true,
            "ticks": "",
            "zerolinecolor": "white"
           }
          },
          "shapedefaults": {
           "line": {
            "color": "#2a3f5f"
           }
          },
          "ternary": {
           "aaxis": {
            "gridcolor": "white",
            "linecolor": "white",
            "ticks": ""
           },
           "baxis": {
            "gridcolor": "white",
            "linecolor": "white",
            "ticks": ""
           },
           "bgcolor": "#E5ECF6",
           "caxis": {
            "gridcolor": "white",
            "linecolor": "white",
            "ticks": ""
           }
          },
          "title": {
           "x": 0.05
          },
          "xaxis": {
           "automargin": true,
           "gridcolor": "white",
           "linecolor": "white",
           "ticks": "",
           "title": {
            "standoff": 15
           },
           "zerolinecolor": "white",
           "zerolinewidth": 2
          },
          "yaxis": {
           "automargin": true,
           "gridcolor": "white",
           "linecolor": "white",
           "ticks": "",
           "title": {
            "standoff": 15
           },
           "zerolinecolor": "white",
           "zerolinewidth": 2
          }
         }
        },
        "title": {
         "text": "Histogram of Number of Ratings Per Film "
        },
        "xaxis": {
         "title": {
          "text": "Number of Ratings per Film"
         }
        },
        "yaxis": {
         "title": {
          "text": "Quantity of Films"
         }
        }
       }
      },
      "text/html": [
       "<div>\n",
       "        \n",
       "        \n",
       "            <div id=\"dddc4156-fd6c-43f3-87c3-04d76c4ea137\" class=\"plotly-graph-div\" style=\"height:525px; width:100%;\"></div>\n",
       "            <script type=\"text/javascript\">\n",
       "                require([\"plotly\"], function(Plotly) {\n",
       "                    window.PLOTLYENV=window.PLOTLYENV || {};\n",
       "                    window.PLOTLYENV.BASE_URL='https://plot.ly';\n",
       "                    \n",
       "                if (document.getElementById(\"dddc4156-fd6c-43f3-87c3-04d76c4ea137\")) {\n",
       "                    Plotly.newPlot(\n",
       "                        'dddc4156-fd6c-43f3-87c3-04d76c4ea137',\n",
       "                        [{\"name\": \"Ratings\", \"type\": \"histogram\", \"x\": [100, 100, 90, 100, 86, 26, 100, 100, 100, 89, 100, 100, 100, 100, 100, 39, 92, 10, 69, 72, 84, 100, 100, 100, 100, 73, 57, 100, 100, 37, 100, 81, 97, 7, 11, 13, 8, 100, 87, 57, 37, 100, 40, 79, 80, 27, 100, 100, 81, 100, 81, 91, 100, 100, 100, 100, 40, 100, 83, 64, 59, 100, 82, 100, 100, 100, 100, 100, 100, 100, 100, 100, 100, 7, 5, 54, 100, 33, 100, 68, 100, 100, 100, 18, 58, 100, 100, 100, 100, 95, 100, 100, 100, 100, 100, 100, 100, 100, 100, 100, 73, 54, 15, 5, 74, 71, 42, 65, 100, 31, 100, 20, 9, 67, 15, 100, 100, 100, 4, 67, 100, 100, 100, 100, 100, 97, 100, 65, 100, 23, 95, 100, 100, 100, 100, 100, 100, 19, 50, 61, 72, 57, 100, 100, 65, 10, 100, 100, 23, 100, 100, 82, 100, 100, 98, 100, 100, 60, 100, 69, 100, 100, 92, 100, 64, 58, 67, 100, 100, 100, 65, 100, 100, 100, 100, 100, 100, 100, 100, 100, 100, 100, 100, 100, 100, 100, 100, 100, 66, 100, 100, 100, 100, 100, 100, 100, 100, 100, 100, 100, 89, 100, 100, 100, 100, 50, 66, 100, 100, 100, 100, 92, 100, 100, 100, 100, 100, 100, 100, 66, 74, 100, 100, 44, 100, 100, 100, 100, 100, 100, 100, 100, 100, 100, 100, 45, 100, 100, 100, 100, 100, 100, 100, 48, 100, 100, 5, 100, 100, 100, 46, 100, 26, 62, 100, 16, 100, 100, 100, 100, 43, 66, 19, 100, 100, 35, 9, 100, 100, 100, 100, 100, 100, 100, 100, 100, 71, 60, 28, 85, 100, 100, 100, 100, 100, 100, 78, 100, 100, 96, 100, 100, 100, 100, 77, 6, 50, 100, 73, 100, 100, 100, 100, 100, 87, 96, 100, 30, 28, 100, 75, 80, 100, 5, 100, 100, 100, 100, 100, 20, 100, 100, 100, 100, 100, 100, 100, 100, 45, 41, 100, 100, 100, 64, 21, 43, 18, 91, 47, 100, 11, 52, 100, 55, 65, 100, 100, 27, 31, 41, 20, 26, 14, 72, 41, 97, 100, 100, 18, 10, 10, 28, 47, 37, 48, 47, 100, 31, 55, 39, 67, 34, 39, 11, 23, 24, 13, 100, 43, 100, 100, 100, 31, 69, 100, 87, 65, 28, 27, 10, 59, 68, 100, 12, 56, 54, 12, 26, 89, 18, 76, 100, 100, 100, 100, 49, 43, 100, 70, 100, 100, 93, 55, 62, 25, 64, 73, 100, 100, 81, 100, 26, 100, 19, 85, 32, 100, 100, 97, 93, 100, 100, 100, 67, 100, 99, 5, 6, 5, 14, 53, 4, 100, 46, 22, 9, 100, 85, 100, 63, 100, 66, 16, 16, 100, 48, 27, 90, 24, 28, 74, 100, 71, 27, 85, 52, 48, 64, 67, 100, 100, 100, 100, 100, 100, 100, 95, 100, 100, 100, 63, 100, 100, 100, 100, 64, 68, 65, 52, 50, 67, 59, 60, 56, 59, 100, 68, 100, 62, 31, 100, 57, 39, 100, 68, 90, 98, 100, 100, 100, 100, 57, 72, 100, 100, 63, 91, 89, 80, 100, 100, 35, 100, 46, 73, 100, 100, 100, 93, 80, 100, 22, 15, 13, 54, 10, 30, 66, 44, 43, 49, 51, 21, 71, 12, 100, 41, 12, 92, 100, 24, 45, 63, 100, 10, 12, 17, 70, 100, 22, 59, 48, 29, 27, 22, 100, 35, 100, 67, 50, 28, 29, 33, 15, 44, 93, 41, 92, 19, 32, 59, 100, 37, 79, 39, 34, 14, 100, 43, 18, 100, 9, 12, 5, 64, 100, 100, 4, 1, 2, 20, 50, 100, 81, 31, 66, 66, 30, 60, 41, 40, 34, 27, 51, 59, 64, 18, 18, 64, 43, 11, 39, 39, 22, 82, 4, 75, 100, 77, 31, 100, 58, 69, 24, 23, 91, 38, 44, 40, 82, 33, 89, 4, 35, 27, 38, 70, 67, 50, 72, 100, 90, 34, 100, 100, 44, 100, 79, 100, 100, 88, 82, 100, 46, 100, 5, 12, 6, 13, 36, 46, 65, 86, 48, 54, 77, 1, 100, 100, 34, 27, 100, 49, 100, 100, 50, 69, 44, 87, 100, 16, 100, 91, 44, 13, 79, 40, 10, 100, 15, 10, 53, 19, 24, 100, 6, 70, 100, 100, 79, 1, 51, 72, 13, 87, 58, 82, 16, 29, 86, 54, 58, 34, 76, 16, 14, 63, 45, 81, 24, 39, 100, 15, 27, 100, 78, 59, 31, 100, 63, 58, 100, 39, 92, 16, 100, 100, 100, 51, 100, 100, 39, 24, 57, 96, 100, 4, 21, 11, 46, 44, 100, 100, 29, 32, 9, 11, 52, 42, 57, 41, 49, 17, 32, 26, 9, 4, 76, 31, 69, 84, 10, 37, 2, 39, 14, 13, 3, 47, 66, 10, 86, 10, 46, 21, 36, 31, 9, 5, 26, 16, 40, 9, 8, 27, 50, 9, 31, 43, 45, 18, 18, 56, 1, 100, 21, 3, 25, 40, 93, 22, 4, 82, 49, 83, 80, 57, 13, 34, 1, 91, 22, 49, 25, 15, 26, 25, 4, 4, 53, 48, 27, 30, 42, 100, 44, 55, 9, 53, 4, 4, 1, 14, 16, 66, 36, 1, 3, 15, 16, 3, 18, 24, 86, 21, 100, 6, 5, 24, 9, 75, 42, 81, 39, 53, 47, 52, 33, 100, 59, 45, 34, 13, 7, 13, 53, 64, 15, 13, 43, 6, 53, 14, 19, 100, 44, 2, 58, 9, 42, 12, 42, 18, 20, 27, 21, 2, 20, 13, 4, 4, 9, 2, 11, 13, 18, 7, 8, 96, 5, 46, 34, 58, 85, 34, 100, 6, 100, 40, 80, 57, 40, 21, 68, 7, 32, 37, 25, 60, 32, 46, 45, 40, 43, 40, 61, 17, 48, 71, 30, 39, 45, 22, 11, 49, 46, 2, 14, 64, 25, 34, 23, 41, 9, 21, 26, 12, 18, 75, 8, 34, 28, 4, 32, 44, 12, 49, 27, 35, 22, 8, 20, 15, 44, 22, 23, 4, 86, 32, 33, 25, 4, 66, 7, 31, 14, 16, 16, 10, 10, 17, 8, 8, 9, 22, 23, 47, 37, 64, 44, 93, 100, 38, 98, 12, 100, 50, 32, 31, 35, 38, 32, 31, 15, 44, 4, 3, 100, 14, 20, 7, 16, 32, 27, 68, 24, 24, 17, 90, 25, 62, 28, 8, 40, 25, 46, 100, 73, 25, 43, 41, 25, 24, 23, 10, 10, 22, 15, 35, 39, 29, 12, 41, 4, 53, 16, 44, 12, 18, 27, 16, 7, 66, 77, 7, 12, 8, 22, 45, 2, 8, 8, 6, 21, 11, 21, 10, 13, 38, 37, 43, 12, 23, 12, 29, 3, 18, 42, 13, 8, 74, 7, 19, 4, 18, 4, 18, 5, 28, 41, 7, 15, 22, 10, 29, 13, 19, 47, 59, 17, 21, 1, 3, 12, 4, 32, 11, 13, 28, 1, 13, 32, 30, 38, 46, 29, 29, 5, 33, 17, 9, 44, 15, 3, 9, 3, 21, 9, 26, 9, 7, 28, 19, 12, 3, 1, 25, 4, 11, 26, 13, 5, 25, 6, 14, 12, 11, 22, 10, 27, 14, 15, 7, 8, 5, 22, 7, 19, 9, 10, 10, 13, 19, 10, 18, 3, 13, 44, 3, 11, 3, 13, 10, 31, 11, 3, 45, 7, 23, 7, 1, 8, 21, 18, 6, 19, 17, 20, 15, 38, 12, 6, 6, 9, 30, 6, 39, 26, 20, 30, 39, 25, 4, 12, 14, 32, 8, 48, 13, 18, 22, 17, 6, 8, 1, 1, 6, 8, 18, 26, 6, 5, 7, 36, 19, 7, 6, 19, 12, 6, 8, 9, 7, 11, 8, 3, 4, 23, 4, 4, 4, 8, 15, 7, 19, 12, 33, 10, 10, 7, 7, 5, 15, 11, 4, 8, 19, 16, 9, 16, 13, 9, 19, 26, 15, 17, 6, 7, 7, 2, 15, 3, 3, 7, 7, 20, 12, 9, 8, 9, 5, 5, 18, 2, 7, 2, 2, 2, 1, 1, 16, 7, 14, 11, 23, 7, 4, 3, 4, 1, 2, 6, 3, 5, 1, 6, 3, 6, 1, 4, 4, 2, 5, 2, 11, 10, 9, 4, 1, 1, 1, 2, 1, 5, 2, 5, 4, 1, 1, 2, 3, 1, 5, 2, 6, 3, 3, 2, 2, 2, 3, 2, 1, 1, 2, 1, 5, 6, 4, 3, 2, 3, 1, 2, 10, 7, 4, 5, 7, 6, 8, 4, 6, 3, 5, 6, 3, 6, 3, 2, 3, 5, 9, 7, 6, 5, 5, 2, 7, 10, 18, 4, 4, 13, 6, 5, 20, 3, 7, 4, 28, 6, 8, 1, 9, 5, 2, 3, 16, 3, 11, 4, 4, 3, 10, 8, 5, 12, 4, 3, 5, 3, 2, 10, 7, 2, 9, 5, 8, 5, 7, 5, 4, 19, 4, 15, 1, 3, 8, 2, 15, 1, 1, 6, 2, 7, 1, 1, 7, 1, 1, 7, 3, 3, 3, 6, 2, 6, 12, 5, 9, 2, 9, 6, 8, 1, 2, 18, 8, 11, 2, 1, 12, 3, 4, 1, 5, 4, 5, 3, 2, 1, 1, 1, 5, 5, 2, 1, 4, 2, 5, 2, 10, 3, 1, 3, 1, 3, 5, 1, 5, 6, 3, 7, 1, 3, 5, 12, 2, 1, 4, 7, 2, 8, 1, 1, 7, 3, 5, 5, 7, 2, 1, 6, 4, 1, 4, 3, 4, 10, 2, 2, 1, 3, 4, 1, 2, 1, 2, 2, 2, 3, 4, 2, 5, 2, 1, 7, 1, 4, 1, 1, 1, 1, 1, 1, 1, 1, 1, 1, 1, 1, 2, 1, 1, 1, 1, 2, 1, 1, 1, 1, 1, 1, 2, 1, 1, 2, 4, 2, 6, 5, 1, 2, 1, 1, 5, 6, 1, 4, 1, 3, 1, 1, 4, 1, 3, 4, 3, 3, 2, 4, 1, 1, 10, 1, 2, 1, 1, 9, 1, 3, 3, 1, 1, 1, 1, 4, 2, 1, 2, 1, 1, 1, 1, 1, 1, 1, 3, 1, 1, 2, 4, 2, 1, 2, 1, 1, 1, 1, 1, 3, 1, 1, 1, 2, 1, 3, 1, 1, 1, 2, 1, 4, 1, 1, 1, 1, 1, 1, 1, 2, 1, 1, 1, 1, 1, 1, 1, 1, 1, 1], \"xbins\": {\"end\": 100, \"size\": 2, \"start\": 0}}],\n",
       "                        {\"bargap\": 0.2, \"template\": {\"data\": {\"bar\": [{\"error_x\": {\"color\": \"#2a3f5f\"}, \"error_y\": {\"color\": \"#2a3f5f\"}, \"marker\": {\"line\": {\"color\": \"#E5ECF6\", \"width\": 0.5}}, \"type\": \"bar\"}], \"barpolar\": [{\"marker\": {\"line\": {\"color\": \"#E5ECF6\", \"width\": 0.5}}, \"type\": \"barpolar\"}], \"carpet\": [{\"aaxis\": {\"endlinecolor\": \"#2a3f5f\", \"gridcolor\": \"white\", \"linecolor\": \"white\", \"minorgridcolor\": \"white\", \"startlinecolor\": \"#2a3f5f\"}, \"baxis\": {\"endlinecolor\": \"#2a3f5f\", \"gridcolor\": \"white\", \"linecolor\": \"white\", \"minorgridcolor\": \"white\", \"startlinecolor\": \"#2a3f5f\"}, \"type\": \"carpet\"}], \"choropleth\": [{\"colorbar\": {\"outlinewidth\": 0, \"ticks\": \"\"}, \"type\": \"choropleth\"}], \"contour\": [{\"colorbar\": {\"outlinewidth\": 0, \"ticks\": \"\"}, \"colorscale\": [[0.0, \"#0d0887\"], [0.1111111111111111, \"#46039f\"], [0.2222222222222222, \"#7201a8\"], [0.3333333333333333, \"#9c179e\"], [0.4444444444444444, \"#bd3786\"], [0.5555555555555556, \"#d8576b\"], [0.6666666666666666, \"#ed7953\"], [0.7777777777777778, \"#fb9f3a\"], [0.8888888888888888, \"#fdca26\"], [1.0, \"#f0f921\"]], \"type\": \"contour\"}], \"contourcarpet\": [{\"colorbar\": {\"outlinewidth\": 0, \"ticks\": \"\"}, \"type\": \"contourcarpet\"}], \"heatmap\": [{\"colorbar\": {\"outlinewidth\": 0, \"ticks\": \"\"}, \"colorscale\": [[0.0, \"#0d0887\"], [0.1111111111111111, \"#46039f\"], [0.2222222222222222, \"#7201a8\"], [0.3333333333333333, \"#9c179e\"], [0.4444444444444444, \"#bd3786\"], [0.5555555555555556, \"#d8576b\"], [0.6666666666666666, \"#ed7953\"], [0.7777777777777778, \"#fb9f3a\"], [0.8888888888888888, \"#fdca26\"], [1.0, \"#f0f921\"]], \"type\": \"heatmap\"}], \"heatmapgl\": [{\"colorbar\": {\"outlinewidth\": 0, \"ticks\": \"\"}, \"colorscale\": [[0.0, \"#0d0887\"], [0.1111111111111111, \"#46039f\"], [0.2222222222222222, \"#7201a8\"], [0.3333333333333333, \"#9c179e\"], [0.4444444444444444, \"#bd3786\"], [0.5555555555555556, \"#d8576b\"], [0.6666666666666666, \"#ed7953\"], [0.7777777777777778, \"#fb9f3a\"], [0.8888888888888888, \"#fdca26\"], [1.0, \"#f0f921\"]], \"type\": \"heatmapgl\"}], \"histogram\": [{\"marker\": {\"colorbar\": {\"outlinewidth\": 0, \"ticks\": \"\"}}, \"type\": \"histogram\"}], \"histogram2d\": [{\"colorbar\": {\"outlinewidth\": 0, \"ticks\": \"\"}, \"colorscale\": [[0.0, \"#0d0887\"], [0.1111111111111111, \"#46039f\"], [0.2222222222222222, \"#7201a8\"], [0.3333333333333333, \"#9c179e\"], [0.4444444444444444, \"#bd3786\"], [0.5555555555555556, \"#d8576b\"], [0.6666666666666666, \"#ed7953\"], [0.7777777777777778, \"#fb9f3a\"], [0.8888888888888888, \"#fdca26\"], [1.0, \"#f0f921\"]], \"type\": \"histogram2d\"}], \"histogram2dcontour\": [{\"colorbar\": {\"outlinewidth\": 0, \"ticks\": \"\"}, \"colorscale\": [[0.0, \"#0d0887\"], [0.1111111111111111, \"#46039f\"], [0.2222222222222222, \"#7201a8\"], [0.3333333333333333, \"#9c179e\"], [0.4444444444444444, \"#bd3786\"], [0.5555555555555556, \"#d8576b\"], [0.6666666666666666, \"#ed7953\"], [0.7777777777777778, \"#fb9f3a\"], [0.8888888888888888, \"#fdca26\"], [1.0, \"#f0f921\"]], \"type\": \"histogram2dcontour\"}], \"mesh3d\": [{\"colorbar\": {\"outlinewidth\": 0, \"ticks\": \"\"}, \"type\": \"mesh3d\"}], \"parcoords\": [{\"line\": {\"colorbar\": {\"outlinewidth\": 0, \"ticks\": \"\"}}, \"type\": \"parcoords\"}], \"pie\": [{\"automargin\": true, \"type\": \"pie\"}], \"scatter\": [{\"marker\": {\"colorbar\": {\"outlinewidth\": 0, \"ticks\": \"\"}}, \"type\": \"scatter\"}], \"scatter3d\": [{\"line\": {\"colorbar\": {\"outlinewidth\": 0, \"ticks\": \"\"}}, \"marker\": {\"colorbar\": {\"outlinewidth\": 0, \"ticks\": \"\"}}, \"type\": \"scatter3d\"}], \"scattercarpet\": [{\"marker\": {\"colorbar\": {\"outlinewidth\": 0, \"ticks\": \"\"}}, \"type\": \"scattercarpet\"}], \"scattergeo\": [{\"marker\": {\"colorbar\": {\"outlinewidth\": 0, \"ticks\": \"\"}}, \"type\": \"scattergeo\"}], \"scattergl\": [{\"marker\": {\"colorbar\": {\"outlinewidth\": 0, \"ticks\": \"\"}}, \"type\": \"scattergl\"}], \"scattermapbox\": [{\"marker\": {\"colorbar\": {\"outlinewidth\": 0, \"ticks\": \"\"}}, \"type\": \"scattermapbox\"}], \"scatterpolar\": [{\"marker\": {\"colorbar\": {\"outlinewidth\": 0, \"ticks\": \"\"}}, \"type\": \"scatterpolar\"}], \"scatterpolargl\": [{\"marker\": {\"colorbar\": {\"outlinewidth\": 0, \"ticks\": \"\"}}, \"type\": \"scatterpolargl\"}], \"scatterternary\": [{\"marker\": {\"colorbar\": {\"outlinewidth\": 0, \"ticks\": \"\"}}, \"type\": \"scatterternary\"}], \"surface\": [{\"colorbar\": {\"outlinewidth\": 0, \"ticks\": \"\"}, \"colorscale\": [[0.0, \"#0d0887\"], [0.1111111111111111, \"#46039f\"], [0.2222222222222222, \"#7201a8\"], [0.3333333333333333, \"#9c179e\"], [0.4444444444444444, \"#bd3786\"], [0.5555555555555556, \"#d8576b\"], [0.6666666666666666, \"#ed7953\"], [0.7777777777777778, \"#fb9f3a\"], [0.8888888888888888, \"#fdca26\"], [1.0, \"#f0f921\"]], \"type\": \"surface\"}], \"table\": [{\"cells\": {\"fill\": {\"color\": \"#EBF0F8\"}, \"line\": {\"color\": \"white\"}}, \"header\": {\"fill\": {\"color\": \"#C8D4E3\"}, \"line\": {\"color\": \"white\"}}, \"type\": \"table\"}]}, \"layout\": {\"annotationdefaults\": {\"arrowcolor\": \"#2a3f5f\", \"arrowhead\": 0, \"arrowwidth\": 1}, \"coloraxis\": {\"colorbar\": {\"outlinewidth\": 0, \"ticks\": \"\"}}, \"colorscale\": {\"diverging\": [[0, \"#8e0152\"], [0.1, \"#c51b7d\"], [0.2, \"#de77ae\"], [0.3, \"#f1b6da\"], [0.4, \"#fde0ef\"], [0.5, \"#f7f7f7\"], [0.6, \"#e6f5d0\"], [0.7, \"#b8e186\"], [0.8, \"#7fbc41\"], [0.9, \"#4d9221\"], [1, \"#276419\"]], \"sequential\": [[0.0, \"#0d0887\"], [0.1111111111111111, \"#46039f\"], [0.2222222222222222, \"#7201a8\"], [0.3333333333333333, \"#9c179e\"], [0.4444444444444444, \"#bd3786\"], [0.5555555555555556, \"#d8576b\"], [0.6666666666666666, \"#ed7953\"], [0.7777777777777778, \"#fb9f3a\"], [0.8888888888888888, \"#fdca26\"], [1.0, \"#f0f921\"]], \"sequentialminus\": [[0.0, \"#0d0887\"], [0.1111111111111111, \"#46039f\"], [0.2222222222222222, \"#7201a8\"], [0.3333333333333333, \"#9c179e\"], [0.4444444444444444, \"#bd3786\"], [0.5555555555555556, \"#d8576b\"], [0.6666666666666666, \"#ed7953\"], [0.7777777777777778, \"#fb9f3a\"], [0.8888888888888888, \"#fdca26\"], [1.0, \"#f0f921\"]]}, \"colorway\": [\"#636efa\", \"#EF553B\", \"#00cc96\", \"#ab63fa\", \"#FFA15A\", \"#19d3f3\", \"#FF6692\", \"#B6E880\", \"#FF97FF\", \"#FECB52\"], \"font\": {\"color\": \"#2a3f5f\"}, \"geo\": {\"bgcolor\": \"white\", \"lakecolor\": \"white\", \"landcolor\": \"#E5ECF6\", \"showlakes\": true, \"showland\": true, \"subunitcolor\": \"white\"}, \"hoverlabel\": {\"align\": \"left\"}, \"hovermode\": \"closest\", \"mapbox\": {\"style\": \"light\"}, \"paper_bgcolor\": \"white\", \"plot_bgcolor\": \"#E5ECF6\", \"polar\": {\"angularaxis\": {\"gridcolor\": \"white\", \"linecolor\": \"white\", \"ticks\": \"\"}, \"bgcolor\": \"#E5ECF6\", \"radialaxis\": {\"gridcolor\": \"white\", \"linecolor\": \"white\", \"ticks\": \"\"}}, \"scene\": {\"xaxis\": {\"backgroundcolor\": \"#E5ECF6\", \"gridcolor\": \"white\", \"gridwidth\": 2, \"linecolor\": \"white\", \"showbackground\": true, \"ticks\": \"\", \"zerolinecolor\": \"white\"}, \"yaxis\": {\"backgroundcolor\": \"#E5ECF6\", \"gridcolor\": \"white\", \"gridwidth\": 2, \"linecolor\": \"white\", \"showbackground\": true, \"ticks\": \"\", \"zerolinecolor\": \"white\"}, \"zaxis\": {\"backgroundcolor\": \"#E5ECF6\", \"gridcolor\": \"white\", \"gridwidth\": 2, \"linecolor\": \"white\", \"showbackground\": true, \"ticks\": \"\", \"zerolinecolor\": \"white\"}}, \"shapedefaults\": {\"line\": {\"color\": \"#2a3f5f\"}}, \"ternary\": {\"aaxis\": {\"gridcolor\": \"white\", \"linecolor\": \"white\", \"ticks\": \"\"}, \"baxis\": {\"gridcolor\": \"white\", \"linecolor\": \"white\", \"ticks\": \"\"}, \"bgcolor\": \"#E5ECF6\", \"caxis\": {\"gridcolor\": \"white\", \"linecolor\": \"white\", \"ticks\": \"\"}}, \"title\": {\"x\": 0.05}, \"xaxis\": {\"automargin\": true, \"gridcolor\": \"white\", \"linecolor\": \"white\", \"ticks\": \"\", \"title\": {\"standoff\": 15}, \"zerolinecolor\": \"white\", \"zerolinewidth\": 2}, \"yaxis\": {\"automargin\": true, \"gridcolor\": \"white\", \"linecolor\": \"white\", \"ticks\": \"\", \"title\": {\"standoff\": 15}, \"zerolinecolor\": \"white\", \"zerolinewidth\": 2}}}, \"title\": {\"text\": \"Histogram of Number of Ratings Per Film \"}, \"xaxis\": {\"title\": {\"text\": \"Number of Ratings per Film\"}}, \"yaxis\": {\"title\": {\"text\": \"Quantity of Films\"}}},\n",
       "                        {\"showLink\": true, \"linkText\": \"Export to plot.ly\", \"plotlyServerURL\": \"https://plot.ly\", \"responsive\": true}\n",
       "                    ).then(function(){\n",
       "                            \n",
       "var gd = document.getElementById('dddc4156-fd6c-43f3-87c3-04d76c4ea137');\n",
       "var x = new MutationObserver(function (mutations, observer) {{\n",
       "        var display = window.getComputedStyle(gd).display;\n",
       "        if (!display || display === 'none') {{\n",
       "            console.log([gd, 'removed!']);\n",
       "            Plotly.purge(gd);\n",
       "            observer.disconnect();\n",
       "        }}\n",
       "}});\n",
       "\n",
       "// Listen for the removal of the full notebook cells\n",
       "var notebookContainer = gd.closest('#notebook-container');\n",
       "if (notebookContainer) {{\n",
       "    x.observe(notebookContainer, {childList: true});\n",
       "}}\n",
       "\n",
       "// Listen for the clearing of the current output cell\n",
       "var outputEl = gd.closest('.output');\n",
       "if (outputEl) {{\n",
       "    x.observe(outputEl, {childList: true});\n",
       "}}\n",
       "\n",
       "                        })\n",
       "                };\n",
       "                });\n",
       "            </script>\n",
       "        </div>"
      ]
     },
     "metadata": {},
     "output_type": "display_data"
    }
   ],
   "source": [
    "df = data.groupby('item id')['rating'].count().clip(upper = 100) # number of ratings per film if >100 then = 100\n",
    "\n",
    "trace = go.Histogram(x = df.values,\n",
    "                     name = 'Ratings',\n",
    "                     xbins = dict(start = 0,\n",
    "                                  end = 100,\n",
    "                                  size = 2))\n",
    "\n",
    "layout = go.Layout(title = 'Histogram of Number of Ratings Per Film ',\n",
    "                   xaxis = dict(title = 'Number of Ratings per Film'),\n",
    "                   yaxis = dict(title = 'Quantity of Films'),\n",
    "                   bargap = 0.2)\n",
    "\n",
    "fig = go.Figure(data=[trace], layout=layout)\n",
    "iplot(fig,show_link = True)"
   ]
  },
  {
   "cell_type": "markdown",
   "metadata": {},
   "source": [
    "#### The distribution is not normal. Most of films got just 1 rating"
   ]
  },
  {
   "cell_type": "markdown",
   "metadata": {},
   "source": [
    "### Histogram of Number of Ratings Per User"
   ]
  },
  {
   "cell_type": "code",
   "execution_count": 4,
   "metadata": {},
   "outputs": [
    {
     "data": {
      "application/vnd.plotly.v1+json": {
       "config": {
        "linkText": "Export to plot.ly",
        "plotlyServerURL": "https://plot.ly",
        "showLink": true
       },
       "data": [
        {
         "name": "Ratings",
         "type": "histogram",
         "x": [
          50,
          50,
          50,
          24,
          50,
          50,
          50,
          50,
          22,
          50,
          50,
          50,
          50,
          50,
          50,
          50,
          28,
          50,
          20,
          48,
          50,
          50,
          50,
          50,
          50,
          50,
          25,
          50,
          34,
          43,
          36,
          41,
          24,
          20,
          25,
          20,
          50,
          50,
          22,
          35,
          50,
          50,
          50,
          50,
          48,
          27,
          25,
          50,
          50,
          24,
          23,
          50,
          28,
          50,
          21,
          50,
          50,
          50,
          50,
          50,
          21,
          50,
          50,
          50,
          50,
          38,
          30,
          34,
          50,
          50,
          38,
          50,
          50,
          39,
          50,
          50,
          50,
          21,
          50,
          29,
          50,
          50,
          50,
          50,
          50,
          23,
          50,
          21,
          50,
          50,
          50,
          50,
          20,
          50,
          50,
          50,
          50,
          27,
          50,
          50,
          50,
          50,
          29,
          50,
          23,
          50,
          22,
          33,
          50,
          50,
          24,
          46,
          50,
          48,
          50,
          50,
          50,
          50,
          50,
          26,
          50,
          50,
          50,
          24,
          50,
          45,
          23,
          50,
          30,
          50,
          30,
          22,
          26,
          25,
          50,
          35,
          47,
          50,
          24,
          21,
          50,
          33,
          20,
          50,
          50,
          29,
          20,
          50,
          36,
          32,
          50,
          50,
          23,
          50,
          22,
          37,
          50,
          50,
          50,
          50,
          50,
          42,
          23,
          50,
          30,
          20,
          50,
          50,
          37,
          22,
          28,
          27,
          43,
          50,
          38,
          50,
          50,
          50,
          42,
          50,
          50,
          28,
          50,
          50,
          48,
          50,
          50,
          50,
          50,
          50,
          27,
          35,
          50,
          50,
          50,
          39,
          50,
          50,
          40,
          50,
          50,
          20,
          43,
          42,
          22,
          50,
          50,
          33,
          33,
          50,
          37,
          25,
          50,
          50,
          50,
          50,
          50,
          50,
          28,
          22,
          50,
          50,
          50,
          50,
          27,
          50,
          50,
          21,
          30,
          50,
          21,
          50,
          50,
          50,
          50,
          50,
          48,
          29,
          50,
          24,
          23,
          20,
          50,
          50,
          22,
          50,
          26,
          50,
          50,
          50,
          50,
          21,
          50,
          50,
          50,
          50,
          50,
          23,
          46,
          24,
          27,
          50,
          50,
          50,
          46,
          23,
          50,
          50,
          50,
          50,
          50,
          50,
          22,
          50,
          50,
          50,
          50,
          23,
          50,
          50,
          26,
          22,
          50,
          47,
          32,
          50,
          50,
          50,
          27,
          50,
          50,
          50,
          50,
          50,
          50,
          50,
          50,
          50,
          50,
          20,
          50,
          21,
          50,
          26,
          50,
          32,
          50,
          50,
          20,
          21,
          50,
          50,
          50,
          50,
          50,
          50,
          22,
          50,
          23,
          50,
          50,
          50,
          50,
          50,
          50,
          50,
          50,
          50,
          50,
          50,
          50,
          50,
          26,
          50,
          22,
          50,
          34,
          50,
          50,
          44,
          21,
          50,
          50,
          50,
          50,
          50,
          50,
          50,
          41,
          50,
          44,
          42,
          25,
          50,
          26,
          24,
          50,
          43,
          27,
          50,
          50,
          25,
          50,
          20,
          50,
          33,
          50,
          45,
          22,
          50,
          50,
          50,
          50,
          50,
          28,
          30,
          33,
          50,
          50,
          50,
          50,
          50,
          50,
          22,
          50,
          23,
          50,
          50,
          50,
          31,
          50,
          50,
          50,
          50,
          50,
          50,
          50,
          50,
          50,
          22,
          50,
          50,
          50,
          44,
          50,
          50,
          50,
          27,
          50,
          28,
          50,
          50,
          50,
          25,
          24,
          50,
          50,
          20,
          32,
          36,
          50,
          50,
          50,
          44,
          50,
          50,
          31,
          50,
          50,
          50,
          21,
          50,
          41,
          44,
          50,
          50,
          50,
          33,
          31,
          50,
          20,
          50,
          24,
          24,
          50,
          36,
          50,
          38,
          50,
          50,
          50,
          50,
          50,
          50,
          50,
          50,
          50,
          50,
          50,
          50,
          23,
          33,
          50,
          50,
          50,
          50,
          44,
          50,
          43,
          50,
          31,
          50,
          35,
          50,
          20,
          50,
          35,
          50,
          50,
          50,
          50,
          26,
          50,
          50,
          26,
          50,
          50,
          50,
          50,
          50,
          33,
          50,
          50,
          47,
          50,
          50,
          50,
          50,
          50,
          50,
          50,
          37,
          50,
          50,
          50,
          50,
          50,
          50,
          33,
          30,
          24,
          21,
          22,
          50,
          40,
          21,
          37,
          50,
          49,
          23,
          50,
          30,
          50,
          50,
          50,
          50,
          50,
          50,
          43,
          45,
          30,
          50,
          50,
          50,
          50,
          50,
          50,
          50,
          50,
          50,
          50,
          50,
          50,
          31,
          50,
          50,
          23,
          50,
          25,
          40,
          50,
          50,
          50,
          50,
          50,
          44,
          50,
          20,
          50,
          50,
          50,
          50,
          30,
          34,
          35,
          50,
          50,
          50,
          50,
          22,
          20,
          20,
          50,
          46,
          26,
          36,
          50,
          24,
          50,
          47,
          28,
          50,
          27,
          24,
          50,
          50,
          50,
          50,
          43,
          48,
          50,
          50,
          50,
          25,
          50,
          20,
          41,
          25,
          47,
          50,
          50,
          29,
          47,
          27,
          50,
          50,
          37,
          50,
          28,
          50,
          42,
          27,
          28,
          39,
          50,
          43,
          50,
          50,
          50,
          50,
          50,
          50,
          45,
          50,
          50,
          32,
          50,
          27,
          50,
          50,
          20,
          50,
          50,
          50,
          34,
          20,
          50,
          50,
          50,
          50,
          40,
          50,
          50,
          42,
          50,
          38,
          50,
          50,
          24,
          50,
          21,
          22,
          50,
          50,
          50,
          24,
          29,
          50,
          50,
          50,
          50,
          23,
          50,
          50,
          50,
          50,
          47,
          46,
          50,
          46,
          50,
          29,
          35,
          41,
          34,
          50,
          49,
          28,
          50,
          38,
          22,
          50,
          50,
          50,
          20,
          50,
          21,
          24,
          36,
          50,
          32,
          40,
          50,
          50,
          38,
          29,
          50,
          50,
          50,
          21,
          33,
          31,
          47,
          50,
          50,
          29,
          50,
          50,
          50,
          50,
          50,
          50,
          30,
          44,
          50,
          50,
          50,
          39,
          50,
          30,
          50,
          42,
          22,
          50,
          25,
          24,
          50,
          26,
          21,
          38,
          50,
          20,
          50,
          50,
          50,
          24,
          33,
          50,
          35,
          20,
          50,
          26,
          35,
          27,
          50,
          50,
          50,
          50,
          50,
          33,
          50,
          50,
          50,
          34,
          38,
          50,
          50,
          50,
          32,
          41,
          50,
          21,
          50,
          50,
          23,
          50,
          37,
          50,
          29,
          50,
          50,
          33,
          50,
          50,
          28,
          50,
          36,
          50,
          37,
          50,
          42,
          50,
          30,
          39,
          27,
          50,
          50,
          50,
          33,
          50,
          25,
          47,
          50,
          39,
          50,
          50,
          26,
          50,
          24,
          28,
          26,
          50,
          33,
          50,
          50,
          50,
          50,
          23,
          20,
          26,
          21,
          20,
          29,
          35,
          50,
          25,
          36,
          21,
          28,
          21,
          50,
          25,
          50,
          20,
          50,
          50,
          28,
          50,
          50,
          50,
          50,
          25,
          50,
          50,
          50,
          50,
          46,
          50,
          50,
          50,
          31,
          27,
          50,
          50,
          31,
          50,
          50,
          50,
          23,
          50,
          50,
          49,
          41,
          50,
          23,
          26,
          22,
          21,
          39,
          50,
          43,
          50,
          50,
          50,
          50,
          20,
          50,
          50,
          47,
          50,
          50,
          50,
          20,
          34,
          50,
          21,
          50,
          50,
          29,
          50,
          50,
          50,
          50,
          43,
          50,
          50,
          50,
          20,
          50,
          50,
          47,
          50,
          50,
          50,
          20,
          50,
          50,
          30,
          50,
          45,
          50,
          49,
          50,
          47,
          40,
          41,
          50,
          50,
          26,
          50,
          50,
          50,
          50,
          23,
          26,
          50,
          35,
          50,
          50,
          26,
          50,
          50,
          50,
          50,
          32,
          20,
          50,
          32,
          49,
          50,
          50,
          50,
          50,
          50,
          39,
          50,
          40,
          50,
          49,
          50,
          22,
          50,
          50
         ],
         "xbins": {
          "end": 50,
          "size": 2,
          "start": 0
         }
        }
       ],
       "layout": {
        "bargap": 0.2,
        "template": {
         "data": {
          "bar": [
           {
            "error_x": {
             "color": "#2a3f5f"
            },
            "error_y": {
             "color": "#2a3f5f"
            },
            "marker": {
             "line": {
              "color": "#E5ECF6",
              "width": 0.5
             }
            },
            "type": "bar"
           }
          ],
          "barpolar": [
           {
            "marker": {
             "line": {
              "color": "#E5ECF6",
              "width": 0.5
             }
            },
            "type": "barpolar"
           }
          ],
          "carpet": [
           {
            "aaxis": {
             "endlinecolor": "#2a3f5f",
             "gridcolor": "white",
             "linecolor": "white",
             "minorgridcolor": "white",
             "startlinecolor": "#2a3f5f"
            },
            "baxis": {
             "endlinecolor": "#2a3f5f",
             "gridcolor": "white",
             "linecolor": "white",
             "minorgridcolor": "white",
             "startlinecolor": "#2a3f5f"
            },
            "type": "carpet"
           }
          ],
          "choropleth": [
           {
            "colorbar": {
             "outlinewidth": 0,
             "ticks": ""
            },
            "type": "choropleth"
           }
          ],
          "contour": [
           {
            "colorbar": {
             "outlinewidth": 0,
             "ticks": ""
            },
            "colorscale": [
             [
              0,
              "#0d0887"
             ],
             [
              0.1111111111111111,
              "#46039f"
             ],
             [
              0.2222222222222222,
              "#7201a8"
             ],
             [
              0.3333333333333333,
              "#9c179e"
             ],
             [
              0.4444444444444444,
              "#bd3786"
             ],
             [
              0.5555555555555556,
              "#d8576b"
             ],
             [
              0.6666666666666666,
              "#ed7953"
             ],
             [
              0.7777777777777778,
              "#fb9f3a"
             ],
             [
              0.8888888888888888,
              "#fdca26"
             ],
             [
              1,
              "#f0f921"
             ]
            ],
            "type": "contour"
           }
          ],
          "contourcarpet": [
           {
            "colorbar": {
             "outlinewidth": 0,
             "ticks": ""
            },
            "type": "contourcarpet"
           }
          ],
          "heatmap": [
           {
            "colorbar": {
             "outlinewidth": 0,
             "ticks": ""
            },
            "colorscale": [
             [
              0,
              "#0d0887"
             ],
             [
              0.1111111111111111,
              "#46039f"
             ],
             [
              0.2222222222222222,
              "#7201a8"
             ],
             [
              0.3333333333333333,
              "#9c179e"
             ],
             [
              0.4444444444444444,
              "#bd3786"
             ],
             [
              0.5555555555555556,
              "#d8576b"
             ],
             [
              0.6666666666666666,
              "#ed7953"
             ],
             [
              0.7777777777777778,
              "#fb9f3a"
             ],
             [
              0.8888888888888888,
              "#fdca26"
             ],
             [
              1,
              "#f0f921"
             ]
            ],
            "type": "heatmap"
           }
          ],
          "heatmapgl": [
           {
            "colorbar": {
             "outlinewidth": 0,
             "ticks": ""
            },
            "colorscale": [
             [
              0,
              "#0d0887"
             ],
             [
              0.1111111111111111,
              "#46039f"
             ],
             [
              0.2222222222222222,
              "#7201a8"
             ],
             [
              0.3333333333333333,
              "#9c179e"
             ],
             [
              0.4444444444444444,
              "#bd3786"
             ],
             [
              0.5555555555555556,
              "#d8576b"
             ],
             [
              0.6666666666666666,
              "#ed7953"
             ],
             [
              0.7777777777777778,
              "#fb9f3a"
             ],
             [
              0.8888888888888888,
              "#fdca26"
             ],
             [
              1,
              "#f0f921"
             ]
            ],
            "type": "heatmapgl"
           }
          ],
          "histogram": [
           {
            "marker": {
             "colorbar": {
              "outlinewidth": 0,
              "ticks": ""
             }
            },
            "type": "histogram"
           }
          ],
          "histogram2d": [
           {
            "colorbar": {
             "outlinewidth": 0,
             "ticks": ""
            },
            "colorscale": [
             [
              0,
              "#0d0887"
             ],
             [
              0.1111111111111111,
              "#46039f"
             ],
             [
              0.2222222222222222,
              "#7201a8"
             ],
             [
              0.3333333333333333,
              "#9c179e"
             ],
             [
              0.4444444444444444,
              "#bd3786"
             ],
             [
              0.5555555555555556,
              "#d8576b"
             ],
             [
              0.6666666666666666,
              "#ed7953"
             ],
             [
              0.7777777777777778,
              "#fb9f3a"
             ],
             [
              0.8888888888888888,
              "#fdca26"
             ],
             [
              1,
              "#f0f921"
             ]
            ],
            "type": "histogram2d"
           }
          ],
          "histogram2dcontour": [
           {
            "colorbar": {
             "outlinewidth": 0,
             "ticks": ""
            },
            "colorscale": [
             [
              0,
              "#0d0887"
             ],
             [
              0.1111111111111111,
              "#46039f"
             ],
             [
              0.2222222222222222,
              "#7201a8"
             ],
             [
              0.3333333333333333,
              "#9c179e"
             ],
             [
              0.4444444444444444,
              "#bd3786"
             ],
             [
              0.5555555555555556,
              "#d8576b"
             ],
             [
              0.6666666666666666,
              "#ed7953"
             ],
             [
              0.7777777777777778,
              "#fb9f3a"
             ],
             [
              0.8888888888888888,
              "#fdca26"
             ],
             [
              1,
              "#f0f921"
             ]
            ],
            "type": "histogram2dcontour"
           }
          ],
          "mesh3d": [
           {
            "colorbar": {
             "outlinewidth": 0,
             "ticks": ""
            },
            "type": "mesh3d"
           }
          ],
          "parcoords": [
           {
            "line": {
             "colorbar": {
              "outlinewidth": 0,
              "ticks": ""
             }
            },
            "type": "parcoords"
           }
          ],
          "pie": [
           {
            "automargin": true,
            "type": "pie"
           }
          ],
          "scatter": [
           {
            "marker": {
             "colorbar": {
              "outlinewidth": 0,
              "ticks": ""
             }
            },
            "type": "scatter"
           }
          ],
          "scatter3d": [
           {
            "line": {
             "colorbar": {
              "outlinewidth": 0,
              "ticks": ""
             }
            },
            "marker": {
             "colorbar": {
              "outlinewidth": 0,
              "ticks": ""
             }
            },
            "type": "scatter3d"
           }
          ],
          "scattercarpet": [
           {
            "marker": {
             "colorbar": {
              "outlinewidth": 0,
              "ticks": ""
             }
            },
            "type": "scattercarpet"
           }
          ],
          "scattergeo": [
           {
            "marker": {
             "colorbar": {
              "outlinewidth": 0,
              "ticks": ""
             }
            },
            "type": "scattergeo"
           }
          ],
          "scattergl": [
           {
            "marker": {
             "colorbar": {
              "outlinewidth": 0,
              "ticks": ""
             }
            },
            "type": "scattergl"
           }
          ],
          "scattermapbox": [
           {
            "marker": {
             "colorbar": {
              "outlinewidth": 0,
              "ticks": ""
             }
            },
            "type": "scattermapbox"
           }
          ],
          "scatterpolar": [
           {
            "marker": {
             "colorbar": {
              "outlinewidth": 0,
              "ticks": ""
             }
            },
            "type": "scatterpolar"
           }
          ],
          "scatterpolargl": [
           {
            "marker": {
             "colorbar": {
              "outlinewidth": 0,
              "ticks": ""
             }
            },
            "type": "scatterpolargl"
           }
          ],
          "scatterternary": [
           {
            "marker": {
             "colorbar": {
              "outlinewidth": 0,
              "ticks": ""
             }
            },
            "type": "scatterternary"
           }
          ],
          "surface": [
           {
            "colorbar": {
             "outlinewidth": 0,
             "ticks": ""
            },
            "colorscale": [
             [
              0,
              "#0d0887"
             ],
             [
              0.1111111111111111,
              "#46039f"
             ],
             [
              0.2222222222222222,
              "#7201a8"
             ],
             [
              0.3333333333333333,
              "#9c179e"
             ],
             [
              0.4444444444444444,
              "#bd3786"
             ],
             [
              0.5555555555555556,
              "#d8576b"
             ],
             [
              0.6666666666666666,
              "#ed7953"
             ],
             [
              0.7777777777777778,
              "#fb9f3a"
             ],
             [
              0.8888888888888888,
              "#fdca26"
             ],
             [
              1,
              "#f0f921"
             ]
            ],
            "type": "surface"
           }
          ],
          "table": [
           {
            "cells": {
             "fill": {
              "color": "#EBF0F8"
             },
             "line": {
              "color": "white"
             }
            },
            "header": {
             "fill": {
              "color": "#C8D4E3"
             },
             "line": {
              "color": "white"
             }
            },
            "type": "table"
           }
          ]
         },
         "layout": {
          "annotationdefaults": {
           "arrowcolor": "#2a3f5f",
           "arrowhead": 0,
           "arrowwidth": 1
          },
          "coloraxis": {
           "colorbar": {
            "outlinewidth": 0,
            "ticks": ""
           }
          },
          "colorscale": {
           "diverging": [
            [
             0,
             "#8e0152"
            ],
            [
             0.1,
             "#c51b7d"
            ],
            [
             0.2,
             "#de77ae"
            ],
            [
             0.3,
             "#f1b6da"
            ],
            [
             0.4,
             "#fde0ef"
            ],
            [
             0.5,
             "#f7f7f7"
            ],
            [
             0.6,
             "#e6f5d0"
            ],
            [
             0.7,
             "#b8e186"
            ],
            [
             0.8,
             "#7fbc41"
            ],
            [
             0.9,
             "#4d9221"
            ],
            [
             1,
             "#276419"
            ]
           ],
           "sequential": [
            [
             0,
             "#0d0887"
            ],
            [
             0.1111111111111111,
             "#46039f"
            ],
            [
             0.2222222222222222,
             "#7201a8"
            ],
            [
             0.3333333333333333,
             "#9c179e"
            ],
            [
             0.4444444444444444,
             "#bd3786"
            ],
            [
             0.5555555555555556,
             "#d8576b"
            ],
            [
             0.6666666666666666,
             "#ed7953"
            ],
            [
             0.7777777777777778,
             "#fb9f3a"
            ],
            [
             0.8888888888888888,
             "#fdca26"
            ],
            [
             1,
             "#f0f921"
            ]
           ],
           "sequentialminus": [
            [
             0,
             "#0d0887"
            ],
            [
             0.1111111111111111,
             "#46039f"
            ],
            [
             0.2222222222222222,
             "#7201a8"
            ],
            [
             0.3333333333333333,
             "#9c179e"
            ],
            [
             0.4444444444444444,
             "#bd3786"
            ],
            [
             0.5555555555555556,
             "#d8576b"
            ],
            [
             0.6666666666666666,
             "#ed7953"
            ],
            [
             0.7777777777777778,
             "#fb9f3a"
            ],
            [
             0.8888888888888888,
             "#fdca26"
            ],
            [
             1,
             "#f0f921"
            ]
           ]
          },
          "colorway": [
           "#636efa",
           "#EF553B",
           "#00cc96",
           "#ab63fa",
           "#FFA15A",
           "#19d3f3",
           "#FF6692",
           "#B6E880",
           "#FF97FF",
           "#FECB52"
          ],
          "font": {
           "color": "#2a3f5f"
          },
          "geo": {
           "bgcolor": "white",
           "lakecolor": "white",
           "landcolor": "#E5ECF6",
           "showlakes": true,
           "showland": true,
           "subunitcolor": "white"
          },
          "hoverlabel": {
           "align": "left"
          },
          "hovermode": "closest",
          "mapbox": {
           "style": "light"
          },
          "paper_bgcolor": "white",
          "plot_bgcolor": "#E5ECF6",
          "polar": {
           "angularaxis": {
            "gridcolor": "white",
            "linecolor": "white",
            "ticks": ""
           },
           "bgcolor": "#E5ECF6",
           "radialaxis": {
            "gridcolor": "white",
            "linecolor": "white",
            "ticks": ""
           }
          },
          "scene": {
           "xaxis": {
            "backgroundcolor": "#E5ECF6",
            "gridcolor": "white",
            "gridwidth": 2,
            "linecolor": "white",
            "showbackground": true,
            "ticks": "",
            "zerolinecolor": "white"
           },
           "yaxis": {
            "backgroundcolor": "#E5ECF6",
            "gridcolor": "white",
            "gridwidth": 2,
            "linecolor": "white",
            "showbackground": true,
            "ticks": "",
            "zerolinecolor": "white"
           },
           "zaxis": {
            "backgroundcolor": "#E5ECF6",
            "gridcolor": "white",
            "gridwidth": 2,
            "linecolor": "white",
            "showbackground": true,
            "ticks": "",
            "zerolinecolor": "white"
           }
          },
          "shapedefaults": {
           "line": {
            "color": "#2a3f5f"
           }
          },
          "ternary": {
           "aaxis": {
            "gridcolor": "white",
            "linecolor": "white",
            "ticks": ""
           },
           "baxis": {
            "gridcolor": "white",
            "linecolor": "white",
            "ticks": ""
           },
           "bgcolor": "#E5ECF6",
           "caxis": {
            "gridcolor": "white",
            "linecolor": "white",
            "ticks": ""
           }
          },
          "title": {
           "x": 0.05
          },
          "xaxis": {
           "automargin": true,
           "gridcolor": "white",
           "linecolor": "white",
           "ticks": "",
           "title": {
            "standoff": 15
           },
           "zerolinecolor": "white",
           "zerolinewidth": 2
          },
          "yaxis": {
           "automargin": true,
           "gridcolor": "white",
           "linecolor": "white",
           "ticks": "",
           "title": {
            "standoff": 15
           },
           "zerolinecolor": "white",
           "zerolinewidth": 2
          }
         }
        },
        "title": {
         "text": "Histogram of Number of Ratings per User (Clipped at 50)"
        },
        "xaxis": {
         "title": {
          "text": "Number of Ratings given by user"
         }
        },
        "yaxis": {
         "title": {
          "text": "Quantity of users"
         }
        }
       }
      },
      "text/html": [
       "<div>\n",
       "        \n",
       "        \n",
       "            <div id=\"ad67cc2a-56fa-4f2b-acd3-8af93609b5de\" class=\"plotly-graph-div\" style=\"height:525px; width:100%;\"></div>\n",
       "            <script type=\"text/javascript\">\n",
       "                require([\"plotly\"], function(Plotly) {\n",
       "                    window.PLOTLYENV=window.PLOTLYENV || {};\n",
       "                    window.PLOTLYENV.BASE_URL='https://plot.ly';\n",
       "                    \n",
       "                if (document.getElementById(\"ad67cc2a-56fa-4f2b-acd3-8af93609b5de\")) {\n",
       "                    Plotly.newPlot(\n",
       "                        'ad67cc2a-56fa-4f2b-acd3-8af93609b5de',\n",
       "                        [{\"name\": \"Ratings\", \"type\": \"histogram\", \"x\": [50, 50, 50, 24, 50, 50, 50, 50, 22, 50, 50, 50, 50, 50, 50, 50, 28, 50, 20, 48, 50, 50, 50, 50, 50, 50, 25, 50, 34, 43, 36, 41, 24, 20, 25, 20, 50, 50, 22, 35, 50, 50, 50, 50, 48, 27, 25, 50, 50, 24, 23, 50, 28, 50, 21, 50, 50, 50, 50, 50, 21, 50, 50, 50, 50, 38, 30, 34, 50, 50, 38, 50, 50, 39, 50, 50, 50, 21, 50, 29, 50, 50, 50, 50, 50, 23, 50, 21, 50, 50, 50, 50, 20, 50, 50, 50, 50, 27, 50, 50, 50, 50, 29, 50, 23, 50, 22, 33, 50, 50, 24, 46, 50, 48, 50, 50, 50, 50, 50, 26, 50, 50, 50, 24, 50, 45, 23, 50, 30, 50, 30, 22, 26, 25, 50, 35, 47, 50, 24, 21, 50, 33, 20, 50, 50, 29, 20, 50, 36, 32, 50, 50, 23, 50, 22, 37, 50, 50, 50, 50, 50, 42, 23, 50, 30, 20, 50, 50, 37, 22, 28, 27, 43, 50, 38, 50, 50, 50, 42, 50, 50, 28, 50, 50, 48, 50, 50, 50, 50, 50, 27, 35, 50, 50, 50, 39, 50, 50, 40, 50, 50, 20, 43, 42, 22, 50, 50, 33, 33, 50, 37, 25, 50, 50, 50, 50, 50, 50, 28, 22, 50, 50, 50, 50, 27, 50, 50, 21, 30, 50, 21, 50, 50, 50, 50, 50, 48, 29, 50, 24, 23, 20, 50, 50, 22, 50, 26, 50, 50, 50, 50, 21, 50, 50, 50, 50, 50, 23, 46, 24, 27, 50, 50, 50, 46, 23, 50, 50, 50, 50, 50, 50, 22, 50, 50, 50, 50, 23, 50, 50, 26, 22, 50, 47, 32, 50, 50, 50, 27, 50, 50, 50, 50, 50, 50, 50, 50, 50, 50, 20, 50, 21, 50, 26, 50, 32, 50, 50, 20, 21, 50, 50, 50, 50, 50, 50, 22, 50, 23, 50, 50, 50, 50, 50, 50, 50, 50, 50, 50, 50, 50, 50, 26, 50, 22, 50, 34, 50, 50, 44, 21, 50, 50, 50, 50, 50, 50, 50, 41, 50, 44, 42, 25, 50, 26, 24, 50, 43, 27, 50, 50, 25, 50, 20, 50, 33, 50, 45, 22, 50, 50, 50, 50, 50, 28, 30, 33, 50, 50, 50, 50, 50, 50, 22, 50, 23, 50, 50, 50, 31, 50, 50, 50, 50, 50, 50, 50, 50, 50, 22, 50, 50, 50, 44, 50, 50, 50, 27, 50, 28, 50, 50, 50, 25, 24, 50, 50, 20, 32, 36, 50, 50, 50, 44, 50, 50, 31, 50, 50, 50, 21, 50, 41, 44, 50, 50, 50, 33, 31, 50, 20, 50, 24, 24, 50, 36, 50, 38, 50, 50, 50, 50, 50, 50, 50, 50, 50, 50, 50, 50, 23, 33, 50, 50, 50, 50, 44, 50, 43, 50, 31, 50, 35, 50, 20, 50, 35, 50, 50, 50, 50, 26, 50, 50, 26, 50, 50, 50, 50, 50, 33, 50, 50, 47, 50, 50, 50, 50, 50, 50, 50, 37, 50, 50, 50, 50, 50, 50, 33, 30, 24, 21, 22, 50, 40, 21, 37, 50, 49, 23, 50, 30, 50, 50, 50, 50, 50, 50, 43, 45, 30, 50, 50, 50, 50, 50, 50, 50, 50, 50, 50, 50, 50, 31, 50, 50, 23, 50, 25, 40, 50, 50, 50, 50, 50, 44, 50, 20, 50, 50, 50, 50, 30, 34, 35, 50, 50, 50, 50, 22, 20, 20, 50, 46, 26, 36, 50, 24, 50, 47, 28, 50, 27, 24, 50, 50, 50, 50, 43, 48, 50, 50, 50, 25, 50, 20, 41, 25, 47, 50, 50, 29, 47, 27, 50, 50, 37, 50, 28, 50, 42, 27, 28, 39, 50, 43, 50, 50, 50, 50, 50, 50, 45, 50, 50, 32, 50, 27, 50, 50, 20, 50, 50, 50, 34, 20, 50, 50, 50, 50, 40, 50, 50, 42, 50, 38, 50, 50, 24, 50, 21, 22, 50, 50, 50, 24, 29, 50, 50, 50, 50, 23, 50, 50, 50, 50, 47, 46, 50, 46, 50, 29, 35, 41, 34, 50, 49, 28, 50, 38, 22, 50, 50, 50, 20, 50, 21, 24, 36, 50, 32, 40, 50, 50, 38, 29, 50, 50, 50, 21, 33, 31, 47, 50, 50, 29, 50, 50, 50, 50, 50, 50, 30, 44, 50, 50, 50, 39, 50, 30, 50, 42, 22, 50, 25, 24, 50, 26, 21, 38, 50, 20, 50, 50, 50, 24, 33, 50, 35, 20, 50, 26, 35, 27, 50, 50, 50, 50, 50, 33, 50, 50, 50, 34, 38, 50, 50, 50, 32, 41, 50, 21, 50, 50, 23, 50, 37, 50, 29, 50, 50, 33, 50, 50, 28, 50, 36, 50, 37, 50, 42, 50, 30, 39, 27, 50, 50, 50, 33, 50, 25, 47, 50, 39, 50, 50, 26, 50, 24, 28, 26, 50, 33, 50, 50, 50, 50, 23, 20, 26, 21, 20, 29, 35, 50, 25, 36, 21, 28, 21, 50, 25, 50, 20, 50, 50, 28, 50, 50, 50, 50, 25, 50, 50, 50, 50, 46, 50, 50, 50, 31, 27, 50, 50, 31, 50, 50, 50, 23, 50, 50, 49, 41, 50, 23, 26, 22, 21, 39, 50, 43, 50, 50, 50, 50, 20, 50, 50, 47, 50, 50, 50, 20, 34, 50, 21, 50, 50, 29, 50, 50, 50, 50, 43, 50, 50, 50, 20, 50, 50, 47, 50, 50, 50, 20, 50, 50, 30, 50, 45, 50, 49, 50, 47, 40, 41, 50, 50, 26, 50, 50, 50, 50, 23, 26, 50, 35, 50, 50, 26, 50, 50, 50, 50, 32, 20, 50, 32, 49, 50, 50, 50, 50, 50, 39, 50, 40, 50, 49, 50, 22, 50, 50], \"xbins\": {\"end\": 50, \"size\": 2, \"start\": 0}}],\n",
       "                        {\"bargap\": 0.2, \"template\": {\"data\": {\"bar\": [{\"error_x\": {\"color\": \"#2a3f5f\"}, \"error_y\": {\"color\": \"#2a3f5f\"}, \"marker\": {\"line\": {\"color\": \"#E5ECF6\", \"width\": 0.5}}, \"type\": \"bar\"}], \"barpolar\": [{\"marker\": {\"line\": {\"color\": \"#E5ECF6\", \"width\": 0.5}}, \"type\": \"barpolar\"}], \"carpet\": [{\"aaxis\": {\"endlinecolor\": \"#2a3f5f\", \"gridcolor\": \"white\", \"linecolor\": \"white\", \"minorgridcolor\": \"white\", \"startlinecolor\": \"#2a3f5f\"}, \"baxis\": {\"endlinecolor\": \"#2a3f5f\", \"gridcolor\": \"white\", \"linecolor\": \"white\", \"minorgridcolor\": \"white\", \"startlinecolor\": \"#2a3f5f\"}, \"type\": \"carpet\"}], \"choropleth\": [{\"colorbar\": {\"outlinewidth\": 0, \"ticks\": \"\"}, \"type\": \"choropleth\"}], \"contour\": [{\"colorbar\": {\"outlinewidth\": 0, \"ticks\": \"\"}, \"colorscale\": [[0.0, \"#0d0887\"], [0.1111111111111111, \"#46039f\"], [0.2222222222222222, \"#7201a8\"], [0.3333333333333333, \"#9c179e\"], [0.4444444444444444, \"#bd3786\"], [0.5555555555555556, \"#d8576b\"], [0.6666666666666666, \"#ed7953\"], [0.7777777777777778, \"#fb9f3a\"], [0.8888888888888888, \"#fdca26\"], [1.0, \"#f0f921\"]], \"type\": \"contour\"}], \"contourcarpet\": [{\"colorbar\": {\"outlinewidth\": 0, \"ticks\": \"\"}, \"type\": \"contourcarpet\"}], \"heatmap\": [{\"colorbar\": {\"outlinewidth\": 0, \"ticks\": \"\"}, \"colorscale\": [[0.0, \"#0d0887\"], [0.1111111111111111, \"#46039f\"], [0.2222222222222222, \"#7201a8\"], [0.3333333333333333, \"#9c179e\"], [0.4444444444444444, \"#bd3786\"], [0.5555555555555556, \"#d8576b\"], [0.6666666666666666, \"#ed7953\"], [0.7777777777777778, \"#fb9f3a\"], [0.8888888888888888, \"#fdca26\"], [1.0, \"#f0f921\"]], \"type\": \"heatmap\"}], \"heatmapgl\": [{\"colorbar\": {\"outlinewidth\": 0, \"ticks\": \"\"}, \"colorscale\": [[0.0, \"#0d0887\"], [0.1111111111111111, \"#46039f\"], [0.2222222222222222, \"#7201a8\"], [0.3333333333333333, \"#9c179e\"], [0.4444444444444444, \"#bd3786\"], [0.5555555555555556, \"#d8576b\"], [0.6666666666666666, \"#ed7953\"], [0.7777777777777778, \"#fb9f3a\"], [0.8888888888888888, \"#fdca26\"], [1.0, \"#f0f921\"]], \"type\": \"heatmapgl\"}], \"histogram\": [{\"marker\": {\"colorbar\": {\"outlinewidth\": 0, \"ticks\": \"\"}}, \"type\": \"histogram\"}], \"histogram2d\": [{\"colorbar\": {\"outlinewidth\": 0, \"ticks\": \"\"}, \"colorscale\": [[0.0, \"#0d0887\"], [0.1111111111111111, \"#46039f\"], [0.2222222222222222, \"#7201a8\"], [0.3333333333333333, \"#9c179e\"], [0.4444444444444444, \"#bd3786\"], [0.5555555555555556, \"#d8576b\"], [0.6666666666666666, \"#ed7953\"], [0.7777777777777778, \"#fb9f3a\"], [0.8888888888888888, \"#fdca26\"], [1.0, \"#f0f921\"]], \"type\": \"histogram2d\"}], \"histogram2dcontour\": [{\"colorbar\": {\"outlinewidth\": 0, \"ticks\": \"\"}, \"colorscale\": [[0.0, \"#0d0887\"], [0.1111111111111111, \"#46039f\"], [0.2222222222222222, \"#7201a8\"], [0.3333333333333333, \"#9c179e\"], [0.4444444444444444, \"#bd3786\"], [0.5555555555555556, \"#d8576b\"], [0.6666666666666666, \"#ed7953\"], [0.7777777777777778, \"#fb9f3a\"], [0.8888888888888888, \"#fdca26\"], [1.0, \"#f0f921\"]], \"type\": \"histogram2dcontour\"}], \"mesh3d\": [{\"colorbar\": {\"outlinewidth\": 0, \"ticks\": \"\"}, \"type\": \"mesh3d\"}], \"parcoords\": [{\"line\": {\"colorbar\": {\"outlinewidth\": 0, \"ticks\": \"\"}}, \"type\": \"parcoords\"}], \"pie\": [{\"automargin\": true, \"type\": \"pie\"}], \"scatter\": [{\"marker\": {\"colorbar\": {\"outlinewidth\": 0, \"ticks\": \"\"}}, \"type\": \"scatter\"}], \"scatter3d\": [{\"line\": {\"colorbar\": {\"outlinewidth\": 0, \"ticks\": \"\"}}, \"marker\": {\"colorbar\": {\"outlinewidth\": 0, \"ticks\": \"\"}}, \"type\": \"scatter3d\"}], \"scattercarpet\": [{\"marker\": {\"colorbar\": {\"outlinewidth\": 0, \"ticks\": \"\"}}, \"type\": \"scattercarpet\"}], \"scattergeo\": [{\"marker\": {\"colorbar\": {\"outlinewidth\": 0, \"ticks\": \"\"}}, \"type\": \"scattergeo\"}], \"scattergl\": [{\"marker\": {\"colorbar\": {\"outlinewidth\": 0, \"ticks\": \"\"}}, \"type\": \"scattergl\"}], \"scattermapbox\": [{\"marker\": {\"colorbar\": {\"outlinewidth\": 0, \"ticks\": \"\"}}, \"type\": \"scattermapbox\"}], \"scatterpolar\": [{\"marker\": {\"colorbar\": {\"outlinewidth\": 0, \"ticks\": \"\"}}, \"type\": \"scatterpolar\"}], \"scatterpolargl\": [{\"marker\": {\"colorbar\": {\"outlinewidth\": 0, \"ticks\": \"\"}}, \"type\": \"scatterpolargl\"}], \"scatterternary\": [{\"marker\": {\"colorbar\": {\"outlinewidth\": 0, \"ticks\": \"\"}}, \"type\": \"scatterternary\"}], \"surface\": [{\"colorbar\": {\"outlinewidth\": 0, \"ticks\": \"\"}, \"colorscale\": [[0.0, \"#0d0887\"], [0.1111111111111111, \"#46039f\"], [0.2222222222222222, \"#7201a8\"], [0.3333333333333333, \"#9c179e\"], [0.4444444444444444, \"#bd3786\"], [0.5555555555555556, \"#d8576b\"], [0.6666666666666666, \"#ed7953\"], [0.7777777777777778, \"#fb9f3a\"], [0.8888888888888888, \"#fdca26\"], [1.0, \"#f0f921\"]], \"type\": \"surface\"}], \"table\": [{\"cells\": {\"fill\": {\"color\": \"#EBF0F8\"}, \"line\": {\"color\": \"white\"}}, \"header\": {\"fill\": {\"color\": \"#C8D4E3\"}, \"line\": {\"color\": \"white\"}}, \"type\": \"table\"}]}, \"layout\": {\"annotationdefaults\": {\"arrowcolor\": \"#2a3f5f\", \"arrowhead\": 0, \"arrowwidth\": 1}, \"coloraxis\": {\"colorbar\": {\"outlinewidth\": 0, \"ticks\": \"\"}}, \"colorscale\": {\"diverging\": [[0, \"#8e0152\"], [0.1, \"#c51b7d\"], [0.2, \"#de77ae\"], [0.3, \"#f1b6da\"], [0.4, \"#fde0ef\"], [0.5, \"#f7f7f7\"], [0.6, \"#e6f5d0\"], [0.7, \"#b8e186\"], [0.8, \"#7fbc41\"], [0.9, \"#4d9221\"], [1, \"#276419\"]], \"sequential\": [[0.0, \"#0d0887\"], [0.1111111111111111, \"#46039f\"], [0.2222222222222222, \"#7201a8\"], [0.3333333333333333, \"#9c179e\"], [0.4444444444444444, \"#bd3786\"], [0.5555555555555556, \"#d8576b\"], [0.6666666666666666, \"#ed7953\"], [0.7777777777777778, \"#fb9f3a\"], [0.8888888888888888, \"#fdca26\"], [1.0, \"#f0f921\"]], \"sequentialminus\": [[0.0, \"#0d0887\"], [0.1111111111111111, \"#46039f\"], [0.2222222222222222, \"#7201a8\"], [0.3333333333333333, \"#9c179e\"], [0.4444444444444444, \"#bd3786\"], [0.5555555555555556, \"#d8576b\"], [0.6666666666666666, \"#ed7953\"], [0.7777777777777778, \"#fb9f3a\"], [0.8888888888888888, \"#fdca26\"], [1.0, \"#f0f921\"]]}, \"colorway\": [\"#636efa\", \"#EF553B\", \"#00cc96\", \"#ab63fa\", \"#FFA15A\", \"#19d3f3\", \"#FF6692\", \"#B6E880\", \"#FF97FF\", \"#FECB52\"], \"font\": {\"color\": \"#2a3f5f\"}, \"geo\": {\"bgcolor\": \"white\", \"lakecolor\": \"white\", \"landcolor\": \"#E5ECF6\", \"showlakes\": true, \"showland\": true, \"subunitcolor\": \"white\"}, \"hoverlabel\": {\"align\": \"left\"}, \"hovermode\": \"closest\", \"mapbox\": {\"style\": \"light\"}, \"paper_bgcolor\": \"white\", \"plot_bgcolor\": \"#E5ECF6\", \"polar\": {\"angularaxis\": {\"gridcolor\": \"white\", \"linecolor\": \"white\", \"ticks\": \"\"}, \"bgcolor\": \"#E5ECF6\", \"radialaxis\": {\"gridcolor\": \"white\", \"linecolor\": \"white\", \"ticks\": \"\"}}, \"scene\": {\"xaxis\": {\"backgroundcolor\": \"#E5ECF6\", \"gridcolor\": \"white\", \"gridwidth\": 2, \"linecolor\": \"white\", \"showbackground\": true, \"ticks\": \"\", \"zerolinecolor\": \"white\"}, \"yaxis\": {\"backgroundcolor\": \"#E5ECF6\", \"gridcolor\": \"white\", \"gridwidth\": 2, \"linecolor\": \"white\", \"showbackground\": true, \"ticks\": \"\", \"zerolinecolor\": \"white\"}, \"zaxis\": {\"backgroundcolor\": \"#E5ECF6\", \"gridcolor\": \"white\", \"gridwidth\": 2, \"linecolor\": \"white\", \"showbackground\": true, \"ticks\": \"\", \"zerolinecolor\": \"white\"}}, \"shapedefaults\": {\"line\": {\"color\": \"#2a3f5f\"}}, \"ternary\": {\"aaxis\": {\"gridcolor\": \"white\", \"linecolor\": \"white\", \"ticks\": \"\"}, \"baxis\": {\"gridcolor\": \"white\", \"linecolor\": \"white\", \"ticks\": \"\"}, \"bgcolor\": \"#E5ECF6\", \"caxis\": {\"gridcolor\": \"white\", \"linecolor\": \"white\", \"ticks\": \"\"}}, \"title\": {\"x\": 0.05}, \"xaxis\": {\"automargin\": true, \"gridcolor\": \"white\", \"linecolor\": \"white\", \"ticks\": \"\", \"title\": {\"standoff\": 15}, \"zerolinecolor\": \"white\", \"zerolinewidth\": 2}, \"yaxis\": {\"automargin\": true, \"gridcolor\": \"white\", \"linecolor\": \"white\", \"ticks\": \"\", \"title\": {\"standoff\": 15}, \"zerolinecolor\": \"white\", \"zerolinewidth\": 2}}}, \"title\": {\"text\": \"Histogram of Number of Ratings per User (Clipped at 50)\"}, \"xaxis\": {\"title\": {\"text\": \"Number of Ratings given by user\"}}, \"yaxis\": {\"title\": {\"text\": \"Quantity of users\"}}},\n",
       "                        {\"showLink\": true, \"linkText\": \"Export to plot.ly\", \"plotlyServerURL\": \"https://plot.ly\", \"responsive\": true}\n",
       "                    ).then(function(){\n",
       "                            \n",
       "var gd = document.getElementById('ad67cc2a-56fa-4f2b-acd3-8af93609b5de');\n",
       "var x = new MutationObserver(function (mutations, observer) {{\n",
       "        var display = window.getComputedStyle(gd).display;\n",
       "        if (!display || display === 'none') {{\n",
       "            console.log([gd, 'removed!']);\n",
       "            Plotly.purge(gd);\n",
       "            observer.disconnect();\n",
       "        }}\n",
       "}});\n",
       "\n",
       "// Listen for the removal of the full notebook cells\n",
       "var notebookContainer = gd.closest('#notebook-container');\n",
       "if (notebookContainer) {{\n",
       "    x.observe(notebookContainer, {childList: true});\n",
       "}}\n",
       "\n",
       "// Listen for the clearing of the current output cell\n",
       "var outputEl = gd.closest('.output');\n",
       "if (outputEl) {{\n",
       "    x.observe(outputEl, {childList: true});\n",
       "}}\n",
       "\n",
       "                        })\n",
       "                };\n",
       "                });\n",
       "            </script>\n",
       "        </div>"
      ]
     },
     "metadata": {},
     "output_type": "display_data"
    }
   ],
   "source": [
    "df = data.groupby('user id')['rating'].count().clip(upper=50) # number of ratings which one user gave\n",
    "\n",
    "# Create trace\n",
    "trace = go.Histogram(x = df.values,\n",
    "                     name = 'Ratings',\n",
    "                     xbins = dict(start = 0,\n",
    "                                  end = 50,\n",
    "                                  size = 2))\n",
    "# Create layout\n",
    "layout = go.Layout(title = 'Histogram of Number of Ratings per User (Clipped at 50)',\n",
    "                   xaxis = dict(title = 'Number of Ratings given by user'),\n",
    "                   yaxis = dict(title = 'Quantity of users'),\n",
    "                   bargap = 0.2)\n",
    "\n",
    "# Create plot\n",
    "fig = go.Figure(data=[trace], layout=layout)\n",
    "iplot(fig,show_link = True)"
   ]
  },
  {
   "cell_type": "code",
   "execution_count": 5,
   "metadata": {},
   "outputs": [
    {
     "data": {
      "application/vnd.plotly.v1+json": {
       "config": {
        "linkText": "Export to plot.ly",
        "plotlyServerURL": "https://plot.ly",
        "showLink": true
       },
       "data": [
        {
         "marker": {
          "color": [
           3,
           3,
           1,
           2,
           1,
           4,
           2,
           5,
           3,
           3,
           2,
           5,
           5,
           3,
           3,
           3,
           5,
           2,
           4,
           2,
           4,
           4,
           4,
           2,
           4,
           2,
           5,
           2,
           4,
           5,
           3,
           4,
           4,
           4,
           3,
           4,
           1,
           5,
           1,
           4,
           4,
           4,
           2,
           3,
           5,
           5,
           5,
           5,
           5,
           3,
           4,
           2,
           4,
           5,
           5,
           2,
           4,
           5,
           5,
           4,
           3,
           1,
           4,
           3,
           4,
           5,
           1,
           5,
           5,
           4,
           4,
           3,
           1,
           3,
           4,
           2,
           4,
           3,
           3,
           5,
           5,
           3,
           5,
           3,
           5,
           4,
           5,
           3,
           4,
           4,
           4,
           4,
           4,
           5,
           2,
           5,
           4,
           3,
           4,
           4,
           3,
           5,
           4,
           3,
           4,
           5,
           4,
           5,
           5,
           4,
           3,
           5,
           5,
           4,
           4,
           4,
           4,
           3,
           3,
           4,
           4,
           3,
           4,
           5,
           5,
           2,
           5,
           5,
           3,
           3,
           3,
           3,
           4,
           3,
           3,
           3,
           5,
           5,
           4,
           4,
           1,
           4,
           2,
           2,
           2,
           4,
           2,
           5,
           2,
           2,
           4,
           3,
           3,
           4,
           3,
           4,
           4,
           3,
           4,
           4,
           3,
           4,
           5,
           3,
           5,
           2,
           3,
           2,
           4,
           4,
           4,
           4,
           3,
           2,
           4,
           4,
           1,
           5,
           4,
           3,
           1,
           4,
           3,
           2,
           4,
           4,
           3,
           4,
           4,
           5,
           4,
           5,
           3,
           3,
           4,
           4,
           3,
           3,
           2,
           4
          ],
          "colorscale": [
           [
            0,
            "#440154"
           ],
           [
            0.1111111111111111,
            "#482878"
           ],
           [
            0.2222222222222222,
            "#3e4989"
           ],
           [
            0.3333333333333333,
            "#31688e"
           ],
           [
            0.4444444444444444,
            "#26828e"
           ],
           [
            0.5555555555555556,
            "#1f9e89"
           ],
           [
            0.6666666666666666,
            "#35b779"
           ],
           [
            0.7777777777777778,
            "#6ece58"
           ],
           [
            0.8888888888888888,
            "#b5de2b"
           ],
           [
            1,
            "#fde725"
           ]
          ],
          "opacity": 0.8,
          "size": 5
         },
         "mode": "markers",
         "type": "scatter3d",
         "x": [
          196,
          186,
          22,
          244,
          166,
          298,
          115,
          253,
          305,
          6,
          62,
          286,
          200,
          210,
          224,
          303,
          122,
          194,
          291,
          234,
          119,
          167,
          299,
          291,
          308,
          95,
          38,
          102,
          63,
          160,
          50,
          301,
          225,
          290,
          97,
          157,
          181,
          278,
          276,
          7,
          10,
          284,
          201,
          276,
          287,
          246,
          242,
          249,
          99,
          178,
          251,
          81,
          260,
          25,
          59,
          72,
          87,
          290,
          42,
          292,
          115,
          20,
          201,
          13,
          246,
          138,
          167,
          60,
          57,
          223,
          189,
          243,
          92,
          246,
          194,
          241,
          178,
          254,
          293,
          127,
          225,
          299,
          225,
          276,
          291,
          222,
          267,
          42,
          11,
          95,
          8,
          162,
          87,
          279,
          145,
          119,
          62,
          62,
          28,
          135,
          32,
          90,
          286,
          293,
          216,
          166,
          250,
          271,
          160,
          265,
          198,
          42,
          168,
          110,
          58,
          90,
          271,
          62,
          279,
          237,
          94,
          128,
          298,
          44,
          264,
          194,
          72,
          222,
          250,
          41,
          224,
          82,
          262,
          293,
          216,
          250,
          59,
          286,
          244,
          7,
          174,
          87,
          194,
          82,
          13,
          13,
          244,
          305,
          95,
          43,
          299,
          57,
          84,
          269,
          299,
          194,
          160,
          99,
          10,
          259,
          85,
          303,
          213,
          121,
          90,
          49,
          42,
          155,
          68,
          172,
          19,
          268,
          5,
          305,
          44,
          43,
          279,
          80,
          254,
          298,
          279,
          66,
          18,
          268,
          99,
          13,
          26,
          7,
          222,
          200,
          119,
          213,
          276,
          94,
          130,
          38,
          160,
          293,
          26,
          130
         ],
         "y": [
          242,
          302,
          377,
          51,
          346,
          474,
          265,
          465,
          451,
          86,
          257,
          1014,
          222,
          40,
          29,
          785,
          387,
          274,
          1042,
          1184,
          392,
          486,
          144,
          118,
          1,
          546,
          95,
          768,
          277,
          234,
          246,
          98,
          193,
          88,
          194,
          274,
          1081,
          603,
          796,
          32,
          16,
          304,
          979,
          564,
          327,
          201,
          1137,
          241,
          4,
          332,
          100,
          432,
          322,
          181,
          196,
          679,
          384,
          143,
          423,
          515,
          20,
          288,
          219,
          526,
          919,
          26,
          232,
          427,
          304,
          274,
          512,
          15,
          1049,
          416,
          165,
          690,
          248,
          1444,
          5,
          229,
          237,
          229,
          480,
          54,
          144,
          366,
          518,
          403,
          111,
          625,
          338,
          25,
          1016,
          154,
          275,
          1153,
          498,
          382,
          209,
          23,
          294,
          382,
          208,
          685,
          144,
          328,
          496,
          132,
          174,
          118,
          498,
          96,
          151,
          307,
          144,
          648,
          346,
          21,
          832,
          514,
          789,
          485,
          317,
          195,
          200,
          385,
          195,
          750,
          264,
          265,
          245,
          135,
          1147,
          471,
          658,
          140,
          23,
          379,
          815,
          479,
          368,
          274,
          1211,
          1134,
          836,
          272,
          756,
          427,
          787,
          14,
          955,
          419,
          405,
          504,
          111,
          466,
          135,
          268,
          486,
          117,
          427,
          919,
          273,
          514,
          98,
          559,
          794,
          323,
          117,
          177,
          4,
          231,
          2,
          117,
          294,
          137,
          1336,
          466,
          164,
          281,
          1240,
          298,
          443,
          1035,
          79,
          98,
          258,
          455,
          755,
          673,
          328,
          172,
          322,
          1217,
          379,
          328,
          719,
          1267,
          930,
          216
         ],
         "z": [
          3,
          3,
          1,
          2,
          1,
          4,
          2,
          5,
          3,
          3,
          2,
          5,
          5,
          3,
          3,
          3,
          5,
          2,
          4,
          2,
          4,
          4,
          4,
          2,
          4,
          2,
          5,
          2,
          4,
          5,
          3,
          4,
          4,
          4,
          3,
          4,
          1,
          5,
          1,
          4,
          4,
          4,
          2,
          3,
          5,
          5,
          5,
          5,
          5,
          3,
          4,
          2,
          4,
          5,
          5,
          2,
          4,
          5,
          5,
          4,
          3,
          1,
          4,
          3,
          4,
          5,
          1,
          5,
          5,
          4,
          4,
          3,
          1,
          3,
          4,
          2,
          4,
          3,
          3,
          5,
          5,
          3,
          5,
          3,
          5,
          4,
          5,
          3,
          4,
          4,
          4,
          4,
          4,
          5,
          2,
          5,
          4,
          3,
          4,
          4,
          3,
          5,
          4,
          3,
          4,
          5,
          4,
          5,
          5,
          4,
          3,
          5,
          5,
          4,
          4,
          4,
          4,
          3,
          3,
          4,
          4,
          3,
          4,
          5,
          5,
          2,
          5,
          5,
          3,
          3,
          3,
          3,
          4,
          3,
          3,
          3,
          5,
          5,
          4,
          4,
          1,
          4,
          2,
          2,
          2,
          4,
          2,
          5,
          2,
          2,
          4,
          3,
          3,
          4,
          3,
          4,
          4,
          3,
          4,
          4,
          3,
          4,
          5,
          3,
          5,
          2,
          3,
          2,
          4,
          4,
          4,
          4,
          3,
          2,
          4,
          4,
          1,
          5,
          4,
          3,
          1,
          4,
          3,
          2,
          4,
          4,
          3,
          4,
          4,
          5,
          4,
          5,
          3,
          3,
          4,
          4,
          3,
          3,
          2,
          4
         ]
        }
       ],
       "layout": {
        "margin": {
         "b": 10,
         "l": 10,
         "r": 20,
         "t": 10
        },
        "scene": {
         "xaxis": {
          "title": {
           "text": "User"
          }
         },
         "yaxis": {
          "title": {
           "text": "Movie"
          }
         },
         "zaxis": {
          "title": {
           "text": "Rating"
          }
         }
        },
        "template": {
         "data": {
          "bar": [
           {
            "error_x": {
             "color": "#2a3f5f"
            },
            "error_y": {
             "color": "#2a3f5f"
            },
            "marker": {
             "line": {
              "color": "#E5ECF6",
              "width": 0.5
             }
            },
            "type": "bar"
           }
          ],
          "barpolar": [
           {
            "marker": {
             "line": {
              "color": "#E5ECF6",
              "width": 0.5
             }
            },
            "type": "barpolar"
           }
          ],
          "carpet": [
           {
            "aaxis": {
             "endlinecolor": "#2a3f5f",
             "gridcolor": "white",
             "linecolor": "white",
             "minorgridcolor": "white",
             "startlinecolor": "#2a3f5f"
            },
            "baxis": {
             "endlinecolor": "#2a3f5f",
             "gridcolor": "white",
             "linecolor": "white",
             "minorgridcolor": "white",
             "startlinecolor": "#2a3f5f"
            },
            "type": "carpet"
           }
          ],
          "choropleth": [
           {
            "colorbar": {
             "outlinewidth": 0,
             "ticks": ""
            },
            "type": "choropleth"
           }
          ],
          "contour": [
           {
            "colorbar": {
             "outlinewidth": 0,
             "ticks": ""
            },
            "colorscale": [
             [
              0,
              "#0d0887"
             ],
             [
              0.1111111111111111,
              "#46039f"
             ],
             [
              0.2222222222222222,
              "#7201a8"
             ],
             [
              0.3333333333333333,
              "#9c179e"
             ],
             [
              0.4444444444444444,
              "#bd3786"
             ],
             [
              0.5555555555555556,
              "#d8576b"
             ],
             [
              0.6666666666666666,
              "#ed7953"
             ],
             [
              0.7777777777777778,
              "#fb9f3a"
             ],
             [
              0.8888888888888888,
              "#fdca26"
             ],
             [
              1,
              "#f0f921"
             ]
            ],
            "type": "contour"
           }
          ],
          "contourcarpet": [
           {
            "colorbar": {
             "outlinewidth": 0,
             "ticks": ""
            },
            "type": "contourcarpet"
           }
          ],
          "heatmap": [
           {
            "colorbar": {
             "outlinewidth": 0,
             "ticks": ""
            },
            "colorscale": [
             [
              0,
              "#0d0887"
             ],
             [
              0.1111111111111111,
              "#46039f"
             ],
             [
              0.2222222222222222,
              "#7201a8"
             ],
             [
              0.3333333333333333,
              "#9c179e"
             ],
             [
              0.4444444444444444,
              "#bd3786"
             ],
             [
              0.5555555555555556,
              "#d8576b"
             ],
             [
              0.6666666666666666,
              "#ed7953"
             ],
             [
              0.7777777777777778,
              "#fb9f3a"
             ],
             [
              0.8888888888888888,
              "#fdca26"
             ],
             [
              1,
              "#f0f921"
             ]
            ],
            "type": "heatmap"
           }
          ],
          "heatmapgl": [
           {
            "colorbar": {
             "outlinewidth": 0,
             "ticks": ""
            },
            "colorscale": [
             [
              0,
              "#0d0887"
             ],
             [
              0.1111111111111111,
              "#46039f"
             ],
             [
              0.2222222222222222,
              "#7201a8"
             ],
             [
              0.3333333333333333,
              "#9c179e"
             ],
             [
              0.4444444444444444,
              "#bd3786"
             ],
             [
              0.5555555555555556,
              "#d8576b"
             ],
             [
              0.6666666666666666,
              "#ed7953"
             ],
             [
              0.7777777777777778,
              "#fb9f3a"
             ],
             [
              0.8888888888888888,
              "#fdca26"
             ],
             [
              1,
              "#f0f921"
             ]
            ],
            "type": "heatmapgl"
           }
          ],
          "histogram": [
           {
            "marker": {
             "colorbar": {
              "outlinewidth": 0,
              "ticks": ""
             }
            },
            "type": "histogram"
           }
          ],
          "histogram2d": [
           {
            "colorbar": {
             "outlinewidth": 0,
             "ticks": ""
            },
            "colorscale": [
             [
              0,
              "#0d0887"
             ],
             [
              0.1111111111111111,
              "#46039f"
             ],
             [
              0.2222222222222222,
              "#7201a8"
             ],
             [
              0.3333333333333333,
              "#9c179e"
             ],
             [
              0.4444444444444444,
              "#bd3786"
             ],
             [
              0.5555555555555556,
              "#d8576b"
             ],
             [
              0.6666666666666666,
              "#ed7953"
             ],
             [
              0.7777777777777778,
              "#fb9f3a"
             ],
             [
              0.8888888888888888,
              "#fdca26"
             ],
             [
              1,
              "#f0f921"
             ]
            ],
            "type": "histogram2d"
           }
          ],
          "histogram2dcontour": [
           {
            "colorbar": {
             "outlinewidth": 0,
             "ticks": ""
            },
            "colorscale": [
             [
              0,
              "#0d0887"
             ],
             [
              0.1111111111111111,
              "#46039f"
             ],
             [
              0.2222222222222222,
              "#7201a8"
             ],
             [
              0.3333333333333333,
              "#9c179e"
             ],
             [
              0.4444444444444444,
              "#bd3786"
             ],
             [
              0.5555555555555556,
              "#d8576b"
             ],
             [
              0.6666666666666666,
              "#ed7953"
             ],
             [
              0.7777777777777778,
              "#fb9f3a"
             ],
             [
              0.8888888888888888,
              "#fdca26"
             ],
             [
              1,
              "#f0f921"
             ]
            ],
            "type": "histogram2dcontour"
           }
          ],
          "mesh3d": [
           {
            "colorbar": {
             "outlinewidth": 0,
             "ticks": ""
            },
            "type": "mesh3d"
           }
          ],
          "parcoords": [
           {
            "line": {
             "colorbar": {
              "outlinewidth": 0,
              "ticks": ""
             }
            },
            "type": "parcoords"
           }
          ],
          "pie": [
           {
            "automargin": true,
            "type": "pie"
           }
          ],
          "scatter": [
           {
            "marker": {
             "colorbar": {
              "outlinewidth": 0,
              "ticks": ""
             }
            },
            "type": "scatter"
           }
          ],
          "scatter3d": [
           {
            "line": {
             "colorbar": {
              "outlinewidth": 0,
              "ticks": ""
             }
            },
            "marker": {
             "colorbar": {
              "outlinewidth": 0,
              "ticks": ""
             }
            },
            "type": "scatter3d"
           }
          ],
          "scattercarpet": [
           {
            "marker": {
             "colorbar": {
              "outlinewidth": 0,
              "ticks": ""
             }
            },
            "type": "scattercarpet"
           }
          ],
          "scattergeo": [
           {
            "marker": {
             "colorbar": {
              "outlinewidth": 0,
              "ticks": ""
             }
            },
            "type": "scattergeo"
           }
          ],
          "scattergl": [
           {
            "marker": {
             "colorbar": {
              "outlinewidth": 0,
              "ticks": ""
             }
            },
            "type": "scattergl"
           }
          ],
          "scattermapbox": [
           {
            "marker": {
             "colorbar": {
              "outlinewidth": 0,
              "ticks": ""
             }
            },
            "type": "scattermapbox"
           }
          ],
          "scatterpolar": [
           {
            "marker": {
             "colorbar": {
              "outlinewidth": 0,
              "ticks": ""
             }
            },
            "type": "scatterpolar"
           }
          ],
          "scatterpolargl": [
           {
            "marker": {
             "colorbar": {
              "outlinewidth": 0,
              "ticks": ""
             }
            },
            "type": "scatterpolargl"
           }
          ],
          "scatterternary": [
           {
            "marker": {
             "colorbar": {
              "outlinewidth": 0,
              "ticks": ""
             }
            },
            "type": "scatterternary"
           }
          ],
          "surface": [
           {
            "colorbar": {
             "outlinewidth": 0,
             "ticks": ""
            },
            "colorscale": [
             [
              0,
              "#0d0887"
             ],
             [
              0.1111111111111111,
              "#46039f"
             ],
             [
              0.2222222222222222,
              "#7201a8"
             ],
             [
              0.3333333333333333,
              "#9c179e"
             ],
             [
              0.4444444444444444,
              "#bd3786"
             ],
             [
              0.5555555555555556,
              "#d8576b"
             ],
             [
              0.6666666666666666,
              "#ed7953"
             ],
             [
              0.7777777777777778,
              "#fb9f3a"
             ],
             [
              0.8888888888888888,
              "#fdca26"
             ],
             [
              1,
              "#f0f921"
             ]
            ],
            "type": "surface"
           }
          ],
          "table": [
           {
            "cells": {
             "fill": {
              "color": "#EBF0F8"
             },
             "line": {
              "color": "white"
             }
            },
            "header": {
             "fill": {
              "color": "#C8D4E3"
             },
             "line": {
              "color": "white"
             }
            },
            "type": "table"
           }
          ]
         },
         "layout": {
          "annotationdefaults": {
           "arrowcolor": "#2a3f5f",
           "arrowhead": 0,
           "arrowwidth": 1
          },
          "coloraxis": {
           "colorbar": {
            "outlinewidth": 0,
            "ticks": ""
           }
          },
          "colorscale": {
           "diverging": [
            [
             0,
             "#8e0152"
            ],
            [
             0.1,
             "#c51b7d"
            ],
            [
             0.2,
             "#de77ae"
            ],
            [
             0.3,
             "#f1b6da"
            ],
            [
             0.4,
             "#fde0ef"
            ],
            [
             0.5,
             "#f7f7f7"
            ],
            [
             0.6,
             "#e6f5d0"
            ],
            [
             0.7,
             "#b8e186"
            ],
            [
             0.8,
             "#7fbc41"
            ],
            [
             0.9,
             "#4d9221"
            ],
            [
             1,
             "#276419"
            ]
           ],
           "sequential": [
            [
             0,
             "#0d0887"
            ],
            [
             0.1111111111111111,
             "#46039f"
            ],
            [
             0.2222222222222222,
             "#7201a8"
            ],
            [
             0.3333333333333333,
             "#9c179e"
            ],
            [
             0.4444444444444444,
             "#bd3786"
            ],
            [
             0.5555555555555556,
             "#d8576b"
            ],
            [
             0.6666666666666666,
             "#ed7953"
            ],
            [
             0.7777777777777778,
             "#fb9f3a"
            ],
            [
             0.8888888888888888,
             "#fdca26"
            ],
            [
             1,
             "#f0f921"
            ]
           ],
           "sequentialminus": [
            [
             0,
             "#0d0887"
            ],
            [
             0.1111111111111111,
             "#46039f"
            ],
            [
             0.2222222222222222,
             "#7201a8"
            ],
            [
             0.3333333333333333,
             "#9c179e"
            ],
            [
             0.4444444444444444,
             "#bd3786"
            ],
            [
             0.5555555555555556,
             "#d8576b"
            ],
            [
             0.6666666666666666,
             "#ed7953"
            ],
            [
             0.7777777777777778,
             "#fb9f3a"
            ],
            [
             0.8888888888888888,
             "#fdca26"
            ],
            [
             1,
             "#f0f921"
            ]
           ]
          },
          "colorway": [
           "#636efa",
           "#EF553B",
           "#00cc96",
           "#ab63fa",
           "#FFA15A",
           "#19d3f3",
           "#FF6692",
           "#B6E880",
           "#FF97FF",
           "#FECB52"
          ],
          "font": {
           "color": "#2a3f5f"
          },
          "geo": {
           "bgcolor": "white",
           "lakecolor": "white",
           "landcolor": "#E5ECF6",
           "showlakes": true,
           "showland": true,
           "subunitcolor": "white"
          },
          "hoverlabel": {
           "align": "left"
          },
          "hovermode": "closest",
          "mapbox": {
           "style": "light"
          },
          "paper_bgcolor": "white",
          "plot_bgcolor": "#E5ECF6",
          "polar": {
           "angularaxis": {
            "gridcolor": "white",
            "linecolor": "white",
            "ticks": ""
           },
           "bgcolor": "#E5ECF6",
           "radialaxis": {
            "gridcolor": "white",
            "linecolor": "white",
            "ticks": ""
           }
          },
          "scene": {
           "xaxis": {
            "backgroundcolor": "#E5ECF6",
            "gridcolor": "white",
            "gridwidth": 2,
            "linecolor": "white",
            "showbackground": true,
            "ticks": "",
            "zerolinecolor": "white"
           },
           "yaxis": {
            "backgroundcolor": "#E5ECF6",
            "gridcolor": "white",
            "gridwidth": 2,
            "linecolor": "white",
            "showbackground": true,
            "ticks": "",
            "zerolinecolor": "white"
           },
           "zaxis": {
            "backgroundcolor": "#E5ECF6",
            "gridcolor": "white",
            "gridwidth": 2,
            "linecolor": "white",
            "showbackground": true,
            "ticks": "",
            "zerolinecolor": "white"
           }
          },
          "shapedefaults": {
           "line": {
            "color": "#2a3f5f"
           }
          },
          "ternary": {
           "aaxis": {
            "gridcolor": "white",
            "linecolor": "white",
            "ticks": ""
           },
           "baxis": {
            "gridcolor": "white",
            "linecolor": "white",
            "ticks": ""
           },
           "bgcolor": "#E5ECF6",
           "caxis": {
            "gridcolor": "white",
            "linecolor": "white",
            "ticks": ""
           }
          },
          "title": {
           "x": 0.05
          },
          "xaxis": {
           "automargin": true,
           "gridcolor": "white",
           "linecolor": "white",
           "ticks": "",
           "title": {
            "standoff": 15
           },
           "zerolinecolor": "white",
           "zerolinewidth": 2
          },
          "yaxis": {
           "automargin": true,
           "gridcolor": "white",
           "linecolor": "white",
           "ticks": "",
           "title": {
            "standoff": 15
           },
           "zerolinecolor": "white",
           "zerolinewidth": 2
          }
         }
        },
        "width": 700
       }
      },
      "text/html": [
       "<div>\n",
       "        \n",
       "        \n",
       "            <div id=\"abaec919-2ab9-4e85-b912-9678f3eb565b\" class=\"plotly-graph-div\" style=\"height:525px; width:700px;\"></div>\n",
       "            <script type=\"text/javascript\">\n",
       "                require([\"plotly\"], function(Plotly) {\n",
       "                    window.PLOTLYENV=window.PLOTLYENV || {};\n",
       "                    window.PLOTLYENV.BASE_URL='https://plot.ly';\n",
       "                    \n",
       "                if (document.getElementById(\"abaec919-2ab9-4e85-b912-9678f3eb565b\")) {\n",
       "                    Plotly.newPlot(\n",
       "                        'abaec919-2ab9-4e85-b912-9678f3eb565b',\n",
       "                        [{\"marker\": {\"color\": [3, 3, 1, 2, 1, 4, 2, 5, 3, 3, 2, 5, 5, 3, 3, 3, 5, 2, 4, 2, 4, 4, 4, 2, 4, 2, 5, 2, 4, 5, 3, 4, 4, 4, 3, 4, 1, 5, 1, 4, 4, 4, 2, 3, 5, 5, 5, 5, 5, 3, 4, 2, 4, 5, 5, 2, 4, 5, 5, 4, 3, 1, 4, 3, 4, 5, 1, 5, 5, 4, 4, 3, 1, 3, 4, 2, 4, 3, 3, 5, 5, 3, 5, 3, 5, 4, 5, 3, 4, 4, 4, 4, 4, 5, 2, 5, 4, 3, 4, 4, 3, 5, 4, 3, 4, 5, 4, 5, 5, 4, 3, 5, 5, 4, 4, 4, 4, 3, 3, 4, 4, 3, 4, 5, 5, 2, 5, 5, 3, 3, 3, 3, 4, 3, 3, 3, 5, 5, 4, 4, 1, 4, 2, 2, 2, 4, 2, 5, 2, 2, 4, 3, 3, 4, 3, 4, 4, 3, 4, 4, 3, 4, 5, 3, 5, 2, 3, 2, 4, 4, 4, 4, 3, 2, 4, 4, 1, 5, 4, 3, 1, 4, 3, 2, 4, 4, 3, 4, 4, 5, 4, 5, 3, 3, 4, 4, 3, 3, 2, 4], \"colorscale\": [[0.0, \"#440154\"], [0.1111111111111111, \"#482878\"], [0.2222222222222222, \"#3e4989\"], [0.3333333333333333, \"#31688e\"], [0.4444444444444444, \"#26828e\"], [0.5555555555555556, \"#1f9e89\"], [0.6666666666666666, \"#35b779\"], [0.7777777777777778, \"#6ece58\"], [0.8888888888888888, \"#b5de2b\"], [1.0, \"#fde725\"]], \"opacity\": 0.8, \"size\": 5}, \"mode\": \"markers\", \"type\": \"scatter3d\", \"x\": [196, 186, 22, 244, 166, 298, 115, 253, 305, 6, 62, 286, 200, 210, 224, 303, 122, 194, 291, 234, 119, 167, 299, 291, 308, 95, 38, 102, 63, 160, 50, 301, 225, 290, 97, 157, 181, 278, 276, 7, 10, 284, 201, 276, 287, 246, 242, 249, 99, 178, 251, 81, 260, 25, 59, 72, 87, 290, 42, 292, 115, 20, 201, 13, 246, 138, 167, 60, 57, 223, 189, 243, 92, 246, 194, 241, 178, 254, 293, 127, 225, 299, 225, 276, 291, 222, 267, 42, 11, 95, 8, 162, 87, 279, 145, 119, 62, 62, 28, 135, 32, 90, 286, 293, 216, 166, 250, 271, 160, 265, 198, 42, 168, 110, 58, 90, 271, 62, 279, 237, 94, 128, 298, 44, 264, 194, 72, 222, 250, 41, 224, 82, 262, 293, 216, 250, 59, 286, 244, 7, 174, 87, 194, 82, 13, 13, 244, 305, 95, 43, 299, 57, 84, 269, 299, 194, 160, 99, 10, 259, 85, 303, 213, 121, 90, 49, 42, 155, 68, 172, 19, 268, 5, 305, 44, 43, 279, 80, 254, 298, 279, 66, 18, 268, 99, 13, 26, 7, 222, 200, 119, 213, 276, 94, 130, 38, 160, 293, 26, 130], \"y\": [242, 302, 377, 51, 346, 474, 265, 465, 451, 86, 257, 1014, 222, 40, 29, 785, 387, 274, 1042, 1184, 392, 486, 144, 118, 1, 546, 95, 768, 277, 234, 246, 98, 193, 88, 194, 274, 1081, 603, 796, 32, 16, 304, 979, 564, 327, 201, 1137, 241, 4, 332, 100, 432, 322, 181, 196, 679, 384, 143, 423, 515, 20, 288, 219, 526, 919, 26, 232, 427, 304, 274, 512, 15, 1049, 416, 165, 690, 248, 1444, 5, 229, 237, 229, 480, 54, 144, 366, 518, 403, 111, 625, 338, 25, 1016, 154, 275, 1153, 498, 382, 209, 23, 294, 382, 208, 685, 144, 328, 496, 132, 174, 118, 498, 96, 151, 307, 144, 648, 346, 21, 832, 514, 789, 485, 317, 195, 200, 385, 195, 750, 264, 265, 245, 135, 1147, 471, 658, 140, 23, 379, 815, 479, 368, 274, 1211, 1134, 836, 272, 756, 427, 787, 14, 955, 419, 405, 504, 111, 466, 135, 268, 486, 117, 427, 919, 273, 514, 98, 559, 794, 323, 117, 177, 4, 231, 2, 117, 294, 137, 1336, 466, 164, 281, 1240, 298, 443, 1035, 79, 98, 258, 455, 755, 673, 328, 172, 322, 1217, 379, 328, 719, 1267, 930, 216], \"z\": [3, 3, 1, 2, 1, 4, 2, 5, 3, 3, 2, 5, 5, 3, 3, 3, 5, 2, 4, 2, 4, 4, 4, 2, 4, 2, 5, 2, 4, 5, 3, 4, 4, 4, 3, 4, 1, 5, 1, 4, 4, 4, 2, 3, 5, 5, 5, 5, 5, 3, 4, 2, 4, 5, 5, 2, 4, 5, 5, 4, 3, 1, 4, 3, 4, 5, 1, 5, 5, 4, 4, 3, 1, 3, 4, 2, 4, 3, 3, 5, 5, 3, 5, 3, 5, 4, 5, 3, 4, 4, 4, 4, 4, 5, 2, 5, 4, 3, 4, 4, 3, 5, 4, 3, 4, 5, 4, 5, 5, 4, 3, 5, 5, 4, 4, 4, 4, 3, 3, 4, 4, 3, 4, 5, 5, 2, 5, 5, 3, 3, 3, 3, 4, 3, 3, 3, 5, 5, 4, 4, 1, 4, 2, 2, 2, 4, 2, 5, 2, 2, 4, 3, 3, 4, 3, 4, 4, 3, 4, 4, 3, 4, 5, 3, 5, 2, 3, 2, 4, 4, 4, 4, 3, 2, 4, 4, 1, 5, 4, 3, 1, 4, 3, 2, 4, 4, 3, 4, 4, 5, 4, 5, 3, 3, 4, 4, 3, 3, 2, 4]}],\n",
       "                        {\"margin\": {\"b\": 10, \"l\": 10, \"r\": 20, \"t\": 10}, \"scene\": {\"xaxis\": {\"title\": {\"text\": \"User\"}}, \"yaxis\": {\"title\": {\"text\": \"Movie\"}}, \"zaxis\": {\"title\": {\"text\": \"Rating\"}}}, \"template\": {\"data\": {\"bar\": [{\"error_x\": {\"color\": \"#2a3f5f\"}, \"error_y\": {\"color\": \"#2a3f5f\"}, \"marker\": {\"line\": {\"color\": \"#E5ECF6\", \"width\": 0.5}}, \"type\": \"bar\"}], \"barpolar\": [{\"marker\": {\"line\": {\"color\": \"#E5ECF6\", \"width\": 0.5}}, \"type\": \"barpolar\"}], \"carpet\": [{\"aaxis\": {\"endlinecolor\": \"#2a3f5f\", \"gridcolor\": \"white\", \"linecolor\": \"white\", \"minorgridcolor\": \"white\", \"startlinecolor\": \"#2a3f5f\"}, \"baxis\": {\"endlinecolor\": \"#2a3f5f\", \"gridcolor\": \"white\", \"linecolor\": \"white\", \"minorgridcolor\": \"white\", \"startlinecolor\": \"#2a3f5f\"}, \"type\": \"carpet\"}], \"choropleth\": [{\"colorbar\": {\"outlinewidth\": 0, \"ticks\": \"\"}, \"type\": \"choropleth\"}], \"contour\": [{\"colorbar\": {\"outlinewidth\": 0, \"ticks\": \"\"}, \"colorscale\": [[0.0, \"#0d0887\"], [0.1111111111111111, \"#46039f\"], [0.2222222222222222, \"#7201a8\"], [0.3333333333333333, \"#9c179e\"], [0.4444444444444444, \"#bd3786\"], [0.5555555555555556, \"#d8576b\"], [0.6666666666666666, \"#ed7953\"], [0.7777777777777778, \"#fb9f3a\"], [0.8888888888888888, \"#fdca26\"], [1.0, \"#f0f921\"]], \"type\": \"contour\"}], \"contourcarpet\": [{\"colorbar\": {\"outlinewidth\": 0, \"ticks\": \"\"}, \"type\": \"contourcarpet\"}], \"heatmap\": [{\"colorbar\": {\"outlinewidth\": 0, \"ticks\": \"\"}, \"colorscale\": [[0.0, \"#0d0887\"], [0.1111111111111111, \"#46039f\"], [0.2222222222222222, \"#7201a8\"], [0.3333333333333333, \"#9c179e\"], [0.4444444444444444, \"#bd3786\"], [0.5555555555555556, \"#d8576b\"], [0.6666666666666666, \"#ed7953\"], [0.7777777777777778, \"#fb9f3a\"], [0.8888888888888888, \"#fdca26\"], [1.0, \"#f0f921\"]], \"type\": \"heatmap\"}], \"heatmapgl\": [{\"colorbar\": {\"outlinewidth\": 0, \"ticks\": \"\"}, \"colorscale\": [[0.0, \"#0d0887\"], [0.1111111111111111, \"#46039f\"], [0.2222222222222222, \"#7201a8\"], [0.3333333333333333, \"#9c179e\"], [0.4444444444444444, \"#bd3786\"], [0.5555555555555556, \"#d8576b\"], [0.6666666666666666, \"#ed7953\"], [0.7777777777777778, \"#fb9f3a\"], [0.8888888888888888, \"#fdca26\"], [1.0, \"#f0f921\"]], \"type\": \"heatmapgl\"}], \"histogram\": [{\"marker\": {\"colorbar\": {\"outlinewidth\": 0, \"ticks\": \"\"}}, \"type\": \"histogram\"}], \"histogram2d\": [{\"colorbar\": {\"outlinewidth\": 0, \"ticks\": \"\"}, \"colorscale\": [[0.0, \"#0d0887\"], [0.1111111111111111, \"#46039f\"], [0.2222222222222222, \"#7201a8\"], [0.3333333333333333, \"#9c179e\"], [0.4444444444444444, \"#bd3786\"], [0.5555555555555556, \"#d8576b\"], [0.6666666666666666, \"#ed7953\"], [0.7777777777777778, \"#fb9f3a\"], [0.8888888888888888, \"#fdca26\"], [1.0, \"#f0f921\"]], \"type\": \"histogram2d\"}], \"histogram2dcontour\": [{\"colorbar\": {\"outlinewidth\": 0, \"ticks\": \"\"}, \"colorscale\": [[0.0, \"#0d0887\"], [0.1111111111111111, \"#46039f\"], [0.2222222222222222, \"#7201a8\"], [0.3333333333333333, \"#9c179e\"], [0.4444444444444444, \"#bd3786\"], [0.5555555555555556, \"#d8576b\"], [0.6666666666666666, \"#ed7953\"], [0.7777777777777778, \"#fb9f3a\"], [0.8888888888888888, \"#fdca26\"], [1.0, \"#f0f921\"]], \"type\": \"histogram2dcontour\"}], \"mesh3d\": [{\"colorbar\": {\"outlinewidth\": 0, \"ticks\": \"\"}, \"type\": \"mesh3d\"}], \"parcoords\": [{\"line\": {\"colorbar\": {\"outlinewidth\": 0, \"ticks\": \"\"}}, \"type\": \"parcoords\"}], \"pie\": [{\"automargin\": true, \"type\": \"pie\"}], \"scatter\": [{\"marker\": {\"colorbar\": {\"outlinewidth\": 0, \"ticks\": \"\"}}, \"type\": \"scatter\"}], \"scatter3d\": [{\"line\": {\"colorbar\": {\"outlinewidth\": 0, \"ticks\": \"\"}}, \"marker\": {\"colorbar\": {\"outlinewidth\": 0, \"ticks\": \"\"}}, \"type\": \"scatter3d\"}], \"scattercarpet\": [{\"marker\": {\"colorbar\": {\"outlinewidth\": 0, \"ticks\": \"\"}}, \"type\": \"scattercarpet\"}], \"scattergeo\": [{\"marker\": {\"colorbar\": {\"outlinewidth\": 0, \"ticks\": \"\"}}, \"type\": \"scattergeo\"}], \"scattergl\": [{\"marker\": {\"colorbar\": {\"outlinewidth\": 0, \"ticks\": \"\"}}, \"type\": \"scattergl\"}], \"scattermapbox\": [{\"marker\": {\"colorbar\": {\"outlinewidth\": 0, \"ticks\": \"\"}}, \"type\": \"scattermapbox\"}], \"scatterpolar\": [{\"marker\": {\"colorbar\": {\"outlinewidth\": 0, \"ticks\": \"\"}}, \"type\": \"scatterpolar\"}], \"scatterpolargl\": [{\"marker\": {\"colorbar\": {\"outlinewidth\": 0, \"ticks\": \"\"}}, \"type\": \"scatterpolargl\"}], \"scatterternary\": [{\"marker\": {\"colorbar\": {\"outlinewidth\": 0, \"ticks\": \"\"}}, \"type\": \"scatterternary\"}], \"surface\": [{\"colorbar\": {\"outlinewidth\": 0, \"ticks\": \"\"}, \"colorscale\": [[0.0, \"#0d0887\"], [0.1111111111111111, \"#46039f\"], [0.2222222222222222, \"#7201a8\"], [0.3333333333333333, \"#9c179e\"], [0.4444444444444444, \"#bd3786\"], [0.5555555555555556, \"#d8576b\"], [0.6666666666666666, \"#ed7953\"], [0.7777777777777778, \"#fb9f3a\"], [0.8888888888888888, \"#fdca26\"], [1.0, \"#f0f921\"]], \"type\": \"surface\"}], \"table\": [{\"cells\": {\"fill\": {\"color\": \"#EBF0F8\"}, \"line\": {\"color\": \"white\"}}, \"header\": {\"fill\": {\"color\": \"#C8D4E3\"}, \"line\": {\"color\": \"white\"}}, \"type\": \"table\"}]}, \"layout\": {\"annotationdefaults\": {\"arrowcolor\": \"#2a3f5f\", \"arrowhead\": 0, \"arrowwidth\": 1}, \"coloraxis\": {\"colorbar\": {\"outlinewidth\": 0, \"ticks\": \"\"}}, \"colorscale\": {\"diverging\": [[0, \"#8e0152\"], [0.1, \"#c51b7d\"], [0.2, \"#de77ae\"], [0.3, \"#f1b6da\"], [0.4, \"#fde0ef\"], [0.5, \"#f7f7f7\"], [0.6, \"#e6f5d0\"], [0.7, \"#b8e186\"], [0.8, \"#7fbc41\"], [0.9, \"#4d9221\"], [1, \"#276419\"]], \"sequential\": [[0.0, \"#0d0887\"], [0.1111111111111111, \"#46039f\"], [0.2222222222222222, \"#7201a8\"], [0.3333333333333333, \"#9c179e\"], [0.4444444444444444, \"#bd3786\"], [0.5555555555555556, \"#d8576b\"], [0.6666666666666666, \"#ed7953\"], [0.7777777777777778, \"#fb9f3a\"], [0.8888888888888888, \"#fdca26\"], [1.0, \"#f0f921\"]], \"sequentialminus\": [[0.0, \"#0d0887\"], [0.1111111111111111, \"#46039f\"], [0.2222222222222222, \"#7201a8\"], [0.3333333333333333, \"#9c179e\"], [0.4444444444444444, \"#bd3786\"], [0.5555555555555556, \"#d8576b\"], [0.6666666666666666, \"#ed7953\"], [0.7777777777777778, \"#fb9f3a\"], [0.8888888888888888, \"#fdca26\"], [1.0, \"#f0f921\"]]}, \"colorway\": [\"#636efa\", \"#EF553B\", \"#00cc96\", \"#ab63fa\", \"#FFA15A\", \"#19d3f3\", \"#FF6692\", \"#B6E880\", \"#FF97FF\", \"#FECB52\"], \"font\": {\"color\": \"#2a3f5f\"}, \"geo\": {\"bgcolor\": \"white\", \"lakecolor\": \"white\", \"landcolor\": \"#E5ECF6\", \"showlakes\": true, \"showland\": true, \"subunitcolor\": \"white\"}, \"hoverlabel\": {\"align\": \"left\"}, \"hovermode\": \"closest\", \"mapbox\": {\"style\": \"light\"}, \"paper_bgcolor\": \"white\", \"plot_bgcolor\": \"#E5ECF6\", \"polar\": {\"angularaxis\": {\"gridcolor\": \"white\", \"linecolor\": \"white\", \"ticks\": \"\"}, \"bgcolor\": \"#E5ECF6\", \"radialaxis\": {\"gridcolor\": \"white\", \"linecolor\": \"white\", \"ticks\": \"\"}}, \"scene\": {\"xaxis\": {\"backgroundcolor\": \"#E5ECF6\", \"gridcolor\": \"white\", \"gridwidth\": 2, \"linecolor\": \"white\", \"showbackground\": true, \"ticks\": \"\", \"zerolinecolor\": \"white\"}, \"yaxis\": {\"backgroundcolor\": \"#E5ECF6\", \"gridcolor\": \"white\", \"gridwidth\": 2, \"linecolor\": \"white\", \"showbackground\": true, \"ticks\": \"\", \"zerolinecolor\": \"white\"}, \"zaxis\": {\"backgroundcolor\": \"#E5ECF6\", \"gridcolor\": \"white\", \"gridwidth\": 2, \"linecolor\": \"white\", \"showbackground\": true, \"ticks\": \"\", \"zerolinecolor\": \"white\"}}, \"shapedefaults\": {\"line\": {\"color\": \"#2a3f5f\"}}, \"ternary\": {\"aaxis\": {\"gridcolor\": \"white\", \"linecolor\": \"white\", \"ticks\": \"\"}, \"baxis\": {\"gridcolor\": \"white\", \"linecolor\": \"white\", \"ticks\": \"\"}, \"bgcolor\": \"#E5ECF6\", \"caxis\": {\"gridcolor\": \"white\", \"linecolor\": \"white\", \"ticks\": \"\"}}, \"title\": {\"x\": 0.05}, \"xaxis\": {\"automargin\": true, \"gridcolor\": \"white\", \"linecolor\": \"white\", \"ticks\": \"\", \"title\": {\"standoff\": 15}, \"zerolinecolor\": \"white\", \"zerolinewidth\": 2}, \"yaxis\": {\"automargin\": true, \"gridcolor\": \"white\", \"linecolor\": \"white\", \"ticks\": \"\", \"title\": {\"standoff\": 15}, \"zerolinecolor\": \"white\", \"zerolinewidth\": 2}}}, \"width\": 700},\n",
       "                        {\"showLink\": true, \"linkText\": \"Export to plot.ly\", \"plotlyServerURL\": \"https://plot.ly\", \"responsive\": true}\n",
       "                    ).then(function(){\n",
       "                            \n",
       "var gd = document.getElementById('abaec919-2ab9-4e85-b912-9678f3eb565b');\n",
       "var x = new MutationObserver(function (mutations, observer) {{\n",
       "        var display = window.getComputedStyle(gd).display;\n",
       "        if (!display || display === 'none') {{\n",
       "            console.log([gd, 'removed!']);\n",
       "            Plotly.purge(gd);\n",
       "            observer.disconnect();\n",
       "        }}\n",
       "}});\n",
       "\n",
       "// Listen for the removal of the full notebook cells\n",
       "var notebookContainer = gd.closest('#notebook-container');\n",
       "if (notebookContainer) {{\n",
       "    x.observe(notebookContainer, {childList: true});\n",
       "}}\n",
       "\n",
       "// Listen for the clearing of the current output cell\n",
       "var outputEl = gd.closest('.output');\n",
       "if (outputEl) {{\n",
       "    x.observe(outputEl, {childList: true});\n",
       "}}\n",
       "\n",
       "                        })\n",
       "                };\n",
       "                });\n",
       "            </script>\n",
       "        </div>"
      ]
     },
     "metadata": {},
     "output_type": "display_data"
    }
   ],
   "source": [
    "data = pd.read_csv('ml-100k/u.data', sep = '\\t', names = ['user id', 'item id', 'rating', 'timestamp'])\n",
    "data.drop('timestamp', axis = 1, inplace = True)\n",
    "\n",
    "trace = go.Scatter3d(\n",
    "    x = data['user id'][:200],  \n",
    "    y = data['item id'][:200],  \n",
    "    z = data['rating'][:200],  \n",
    "    mode='markers',\n",
    "    marker={\n",
    "        'size': 5,\n",
    "        'opacity': 0.8,\n",
    "        'color' : data['rating'][:200],                \n",
    "        'colorscale' : 'Viridis'\n",
    "    }\n",
    ")\n",
    "\n",
    "layout = go.Layout(\n",
    "    margin={'l': 0, 'r': 0, 'b': 0, 't': 0} \n",
    ")\n",
    "\n",
    "df = [trace]\n",
    "\n",
    "fig = go.Figure(data=df, layout=layout)\n",
    "\n",
    "\n",
    "fig.update_layout(scene = dict(\n",
    "                    xaxis_title='User',\n",
    "                    yaxis_title='Movie',\n",
    "                    zaxis_title='Rating'),\n",
    "                    width=700,\n",
    "                    margin=dict(r=20, b=10, l=10, t=10))\n",
    "\n",
    "iplot(fig,show_link = True)"
   ]
  },
  {
   "cell_type": "markdown",
   "metadata": {},
   "source": [
    "## 2. Data preprocessing"
   ]
  },
  {
   "cell_type": "code",
   "execution_count": 2,
   "metadata": {},
   "outputs": [
    {
     "name": "stdout",
     "output_type": "stream",
     "text": [
      "whole data: (100000, 3)\n",
      "train data: (90570, 3)\n",
      "test data: (9430, 3)\n"
     ]
    }
   ],
   "source": [
    "data = pd.read_csv('ml-100k/u.data', sep = '\\t', names = ['user id', 'item id', 'rating', 'timestamp'])\n",
    "df_base = pd.read_csv('ml-100k/ua.base',  sep='\\t', names = ['user id', 'item id', 'rating', 'timestamp'])\n",
    "df_test = pd.read_csv('ml-100k/ua.test', sep='\\t', names = ['user id', 'item id', 'rating', 'timestamp'])\n",
    "\n",
    "df_base.drop('timestamp', axis = 1, inplace = True)\n",
    "df_test.drop('timestamp', axis = 1, inplace = True)\n",
    "data.drop('timestamp', axis = 1, inplace = True)\n",
    "\n",
    "print('whole data:', data.shape)\n",
    "print('train data:', df_base.shape)\n",
    "print('test data:', df_test.shape)"
   ]
  },
  {
   "cell_type": "code",
   "execution_count": 3,
   "metadata": {},
   "outputs": [
    {
     "data": {
      "text/html": [
       "<div>\n",
       "<style scoped>\n",
       "    .dataframe tbody tr th:only-of-type {\n",
       "        vertical-align: middle;\n",
       "    }\n",
       "\n",
       "    .dataframe tbody tr th {\n",
       "        vertical-align: top;\n",
       "    }\n",
       "\n",
       "    .dataframe thead th {\n",
       "        text-align: right;\n",
       "    }\n",
       "</style>\n",
       "<table border=\"1\" class=\"dataframe\">\n",
       "  <thead>\n",
       "    <tr style=\"text-align: right;\">\n",
       "      <th></th>\n",
       "      <th>user id</th>\n",
       "      <th>item id</th>\n",
       "      <th>rating</th>\n",
       "    </tr>\n",
       "  </thead>\n",
       "  <tbody>\n",
       "    <tr>\n",
       "      <th>0</th>\n",
       "      <td>1</td>\n",
       "      <td>1</td>\n",
       "      <td>5</td>\n",
       "    </tr>\n",
       "    <tr>\n",
       "      <th>1</th>\n",
       "      <td>1</td>\n",
       "      <td>2</td>\n",
       "      <td>3</td>\n",
       "    </tr>\n",
       "    <tr>\n",
       "      <th>2</th>\n",
       "      <td>1</td>\n",
       "      <td>3</td>\n",
       "      <td>4</td>\n",
       "    </tr>\n",
       "    <tr>\n",
       "      <th>3</th>\n",
       "      <td>1</td>\n",
       "      <td>4</td>\n",
       "      <td>3</td>\n",
       "    </tr>\n",
       "    <tr>\n",
       "      <th>4</th>\n",
       "      <td>1</td>\n",
       "      <td>5</td>\n",
       "      <td>3</td>\n",
       "    </tr>\n",
       "    <tr>\n",
       "      <th>5</th>\n",
       "      <td>1</td>\n",
       "      <td>6</td>\n",
       "      <td>5</td>\n",
       "    </tr>\n",
       "    <tr>\n",
       "      <th>6</th>\n",
       "      <td>1</td>\n",
       "      <td>7</td>\n",
       "      <td>4</td>\n",
       "    </tr>\n",
       "    <tr>\n",
       "      <th>7</th>\n",
       "      <td>1</td>\n",
       "      <td>8</td>\n",
       "      <td>1</td>\n",
       "    </tr>\n",
       "    <tr>\n",
       "      <th>8</th>\n",
       "      <td>1</td>\n",
       "      <td>9</td>\n",
       "      <td>5</td>\n",
       "    </tr>\n",
       "    <tr>\n",
       "      <th>9</th>\n",
       "      <td>1</td>\n",
       "      <td>10</td>\n",
       "      <td>3</td>\n",
       "    </tr>\n",
       "  </tbody>\n",
       "</table>\n",
       "</div>"
      ],
      "text/plain": [
       "   user id  item id  rating\n",
       "0        1        1       5\n",
       "1        1        2       3\n",
       "2        1        3       4\n",
       "3        1        4       3\n",
       "4        1        5       3\n",
       "5        1        6       5\n",
       "6        1        7       4\n",
       "7        1        8       1\n",
       "8        1        9       5\n",
       "9        1       10       3"
      ]
     },
     "execution_count": 3,
     "metadata": {},
     "output_type": "execute_result"
    }
   ],
   "source": [
    "df_base.head(10)"
   ]
  },
  {
   "cell_type": "markdown",
   "metadata": {},
   "source": [
    "#### Transform dataset into User-Item matrix"
   ]
  },
  {
   "cell_type": "code",
   "execution_count": 4,
   "metadata": {},
   "outputs": [
    {
     "name": "stdout",
     "output_type": "stream",
     "text": [
      "whole data: (100000, 3)\n",
      "train data: (943, 1682)\n",
      "test data: (943, 1682)\n"
     ]
    }
   ],
   "source": [
    "USER_NUM = 943\n",
    "ITEM_NUM = 1682\n",
    "\n",
    "def trans_to_mat(df):\n",
    "    matrix = np.zeros((USER_NUM, ITEM_NUM))\n",
    "    for i, data in df.iterrows():\n",
    "        matrix[data[0] - 1][data[1] - 1] = data[2]\n",
    "    return matrix\n",
    "\n",
    "data.sort_values(by=['user id'])\n",
    "data_mat = trans_to_mat(data)\n",
    "base_mat = trans_to_mat(df_base)\n",
    "test_mat = trans_to_mat(df_test)\n",
    "\n",
    "print('whole data:', data.shape)\n",
    "print('train data:', base_mat.shape)\n",
    "print('test data:', test_mat.shape)"
   ]
  },
  {
   "cell_type": "markdown",
   "metadata": {},
   "source": [
    "#### User-Item matrix"
   ]
  },
  {
   "cell_type": "code",
   "execution_count": 5,
   "metadata": {},
   "outputs": [
    {
     "data": {
      "text/plain": [
       "array([[5., 3., 4., ..., 0., 0., 0.],\n",
       "       [4., 0., 0., ..., 0., 0., 0.],\n",
       "       [0., 0., 0., ..., 0., 0., 0.],\n",
       "       ...,\n",
       "       [5., 0., 0., ..., 0., 0., 0.],\n",
       "       [0., 0., 0., ..., 0., 0., 0.],\n",
       "       [0., 5., 0., ..., 0., 0., 0.]])"
      ]
     },
     "execution_count": 5,
     "metadata": {},
     "output_type": "execute_result"
    }
   ],
   "source": [
    "base_mat"
   ]
  },
  {
   "cell_type": "markdown",
   "metadata": {},
   "source": [
    "#### Matrix density"
   ]
  },
  {
   "cell_type": "code",
   "execution_count": 6,
   "metadata": {},
   "outputs": [
    {
     "name": "stdout",
     "output_type": "stream",
     "text": [
      "Density of matrix is: 0.057\n"
     ]
    }
   ],
   "source": [
    "print('Density of matrix is:', round(np.count_nonzero(base_mat)/(base_mat.shape[0] * base_mat.shape[1]),3))"
   ]
  },
  {
   "cell_type": "code",
   "execution_count": 16,
   "metadata": {},
   "outputs": [
    {
     "data": {
      "image/png": "[encoded data removed]",
      "text/plain": [
       "<Figure size 1152x648 with 2 Axes>"
      ]
     },
     "metadata": {
      "needs_background": "light"
     },
     "output_type": "display_data"
    }
   ],
   "source": [
    "plt.figure(figsize = (16,9))\n",
    "plt.title('Density of matrix', fontsize = 18)\n",
    "\n",
    "plt.imshow(base_mat)\n",
    "plt.colorbar()\n",
    "plt.xlabel('Movies', fontsize = 18)\n",
    "plt.ylabel('Users', fontsize = 18)\n",
    "\n",
    "plt.xticks(fontsize=18)\n",
    "plt.yticks(fontsize=18)\n",
    "plt.show()"
   ]
  },
  {
   "cell_type": "code",
   "execution_count": 17,
   "metadata": {},
   "outputs": [
    {
     "name": "stderr",
     "output_type": "stream",
     "text": [
      "/Users/alexander/anaconda3/lib/python3.7/site-packages/seaborn/distributions.py:679: UserWarning:\n",
      "\n",
      "Passing a 2D dataset for a bivariate plot is deprecated in favor of kdeplot(x, y), and it will cause an error in future versions. Please update your code.\n",
      "\n"
     ]
    },
    {
     "data": {
      "image/png": "[encoded data removed]",
      "text/plain": [
       "<Figure size 1440x360 with 1 Axes>"
      ]
     },
     "metadata": {
      "needs_background": "light"
     },
     "output_type": "display_data"
    }
   ],
   "source": [
    "import seaborn as sns\n",
    "plt.figure(figsize=(20,5))\n",
    "plt.title('Density of matrix', fontsize = 18)\n",
    "sns.kdeplot(data = data, cmap=\"Reds\", shade=True) # it may take a while to run\n",
    "plt.xlabel('Users', fontsize = 18)\n",
    "plt.ylabel('Movies', fontsize = 18)\n",
    "\n",
    "plt.xticks(fontsize=18)\n",
    "plt.yticks(fontsize=18)\n",
    "plt.show()"
   ]
  },
  {
   "cell_type": "markdown",
   "metadata": {},
   "source": [
    "### With the help of last two graphs we are able to lessen the time of execution of our code by simple checks. We can see that movies to the end are not rated"
   ]
  },
  {
   "cell_type": "markdown",
   "metadata": {},
   "source": [
    "#### Next 3 cells can help to understand how train and test data looks like"
   ]
  },
  {
   "cell_type": "code",
   "execution_count": 26,
   "metadata": {},
   "outputs": [
    {
     "data": {
      "text/plain": [
       "array([5., 3., 4., 3., 3., 5., 4., 1., 5., 3., 2., 5., 5., 5., 5., 5., 3.,\n",
       "       4., 5., 0., 1., 4., 4., 3., 4., 3., 2., 4., 1., 3., 3., 5., 0., 2.,\n",
       "       1., 2., 2., 3., 4., 3., 2., 5., 4., 5., 5., 4., 4., 5., 3., 5., 4.,\n",
       "       4., 3., 3., 5., 4., 5., 4., 5., 5., 0., 3., 2., 5., 4., 4., 3., 4.,\n",
       "       3., 3., 3., 4., 3., 1., 4., 4., 4., 1., 4., 4., 5., 5., 3., 4., 3.,\n",
       "       5., 5., 4., 5., 4., 5., 3., 5., 2., 4., 5., 3., 4., 3., 5.])"
      ]
     },
     "execution_count": 26,
     "metadata": {},
     "output_type": "execute_result"
    }
   ],
   "source": [
    "base_mat[0][:100]"
   ]
  },
  {
   "cell_type": "code",
   "execution_count": 27,
   "metadata": {},
   "outputs": [
    {
     "data": {
      "text/plain": [
       "array([0., 0., 0., 0., 0., 0., 0., 0., 0., 0., 0., 0., 0., 0., 0., 0., 0.,\n",
       "       0., 0., 4., 0., 0., 0., 0., 0., 0., 0., 0., 0., 0., 0., 0., 4., 0.,\n",
       "       0., 0., 0., 0., 0., 0., 0., 0., 0., 0., 0., 0., 0., 0., 0., 0., 0.,\n",
       "       0., 0., 0., 0., 0., 0., 0., 0., 0., 4., 0., 0., 0., 0., 0., 0., 0.,\n",
       "       0., 0., 0., 0., 0., 0., 0., 0., 0., 0., 0., 0., 0., 0., 0., 0., 0.,\n",
       "       0., 0., 0., 0., 0., 0., 0., 0., 0., 0., 0., 0., 0., 0., 0.])"
      ]
     },
     "execution_count": 27,
     "metadata": {},
     "output_type": "execute_result"
    }
   ],
   "source": [
    "test_mat[0][:100]"
   ]
  },
  {
   "cell_type": "code",
   "execution_count": 28,
   "metadata": {},
   "outputs": [
    {
     "data": {
      "text/plain": [
       "array([5., 3., 4., 3., 3., 5., 4., 1., 5., 3., 2., 5., 5., 5., 5., 5., 3.,\n",
       "       4., 5., 4., 1., 4., 4., 3., 4., 3., 2., 4., 1., 3., 3., 5., 4., 2.,\n",
       "       1., 2., 2., 3., 4., 3., 2., 5., 4., 5., 5., 4., 4., 5., 3., 5., 4.,\n",
       "       4., 3., 3., 5., 4., 5., 4., 5., 5., 4., 3., 2., 5., 4., 4., 3., 4.,\n",
       "       3., 3., 3., 4., 3., 1., 4., 4., 4., 1., 4., 4., 5., 5., 3., 4., 3.,\n",
       "       5., 5., 4., 5., 4., 5., 3., 5., 2., 4., 5., 3., 4., 3., 5.])"
      ]
     },
     "execution_count": 28,
     "metadata": {},
     "output_type": "execute_result"
    }
   ],
   "source": [
    "data_mat[0][:100]"
   ]
  },
  {
   "cell_type": "markdown",
   "metadata": {},
   "source": [
    "#### We see that base_mat and test_mat are compound of data indeed"
   ]
  },
  {
   "cell_type": "markdown",
   "metadata": {},
   "source": [
    "### Let us consider the rank of  user-item matrix "
   ]
  },
  {
   "cell_type": "code",
   "execution_count": 18,
   "metadata": {},
   "outputs": [
    {
     "name": "stdout",
     "output_type": "stream",
     "text": [
      "The rank of matrix is : 943\n",
      "The size of matrix is : (943, 1682)\n"
     ]
    }
   ],
   "source": [
    "from numpy.linalg import matrix_rank\n",
    "\n",
    "print('The rank of matrix is :', matrix_rank(base_mat))\n",
    "print('The size of matrix is :', base_mat.shape)"
   ]
  },
  {
   "cell_type": "markdown",
   "metadata": {},
   "source": [
    "#### It is full-rank matrix!! And actually it was predictable, because user-item matrix is a sparse one.\n",
    "\n",
    "Identity matrices of big sizes are full-rank and sparse as well."
   ]
  },
  {
   "cell_type": "markdown",
   "metadata": {},
   "source": [
    "## 3. Slope-One"
   ]
  },
  {
   "cell_type": "markdown",
   "metadata": {},
   "source": [
    "#### Notations:\n",
    "\n",
    "- $u$ - the ratings of all the watched films given by the user (np.array - row of the main matrix)\n",
    "- $S(u)$ - the set of items which have the rating value in $u$ row\n",
    "- $\\chi$ -  the set of all evaluations in the training set\n",
    "- $card(S)$ -  the number of elements in a set $S$ \n",
    "- $S_i(\\chi)$ - the set of all evaluations $u \\in \\chi$ whivh contain item $i$ (non-zero)rating\n",
    "\n",
    "In this project we implement weighted Slope-one Scheme\n",
    "\n",
    "Given a training set $\\chi$, and any two items $j$ and $i$ with ratings $u_j$ and $u_i$ respectively in some user evaluation $u$ (annotated as $u \\in S_{ji}(\\chi)$),  the average deviation of item $i$ with respect to item $j$ is:\n",
    "\n",
    "$$dev_{ij} = \\sum_{u \\in S_{ji}(\\chi)} \\dfrac{u_j-u_i}{card(S_{ji}(\\chi))}$$\n",
    "\n",
    "Then, we define the WEIGHTED SLOPE ONE prediction as the following weighted average\n",
    "\n",
    "$$P(u)_j^{weighted} = \\dfrac{\\sum_{i \\in S(u)-j} (dev_{ji}+u_i)c_{ji}}{\\sum_{i \\in S(u)-j}c_{ji}}$$\n",
    "\n",
    "where $c_{ji} = card(S_{ji}(\\chi))$"
   ]
  },
  {
   "cell_type": "code",
   "execution_count": 30,
   "metadata": {},
   "outputs": [],
   "source": [
    "import os\n",
    "\n",
    "def weighted_slope_one(input_mat, test_mat):\n",
    "    user_num = input_mat.shape[0]\n",
    "    item_num = input_mat.shape[1]\n",
    "    \n",
    "    def get_deviation(i, j):\n",
    "        \"\"\"\n",
    "        function calculates deviation of items i and j\n",
    "        @param item pair\n",
    "        @return average deviation value and nb of users who evaluated both movies i & j\n",
    "        \"\"\"\n",
    "        dev_ij = 0\n",
    "        users = 0 # nb of users who evaluated both movies i & j\n",
    "        for row in range(user_num):\n",
    "            # if the user evaluated both movie i and movie j\n",
    "            if (input_mat[row][i] != 0) and (input_mat[row][j] != 0):  # trouble\n",
    "                users += 1\n",
    "                dev_ij += input_mat[row][i] - input_mat[row][j]\n",
    "        \n",
    "        # avoid zero division\n",
    "        if(users == 0):\n",
    "            deviation = 0\n",
    "        else:\n",
    "            deviation = dev_ij / users\n",
    "        return deviation, users\n",
    "\n",
    "    dev = np.zeros((item_num, item_num)) # average deviation matrix\n",
    "    evaled_users_mat = np.zeros((item_num, item_num)) # matrix of card(S_{ji})  \n",
    "    \n",
    "    for i in range(item_num):\n",
    "        for j in range(item_num):\n",
    "            if i == j:\n",
    "                # to lessen the time complexity\n",
    "                break\n",
    "            else:\n",
    "                dev_temp, users = get_deviation(i, j)\n",
    "                dev[i][j] = dev_temp\n",
    "                dev[j][i] = (-1) * dev_temp\n",
    "                evaled_users_mat[i][j] = users\n",
    "                evaled_users_mat[j][i] = users\n",
    "    \n",
    "    # get the prediction matrix\n",
    "    pred_mat = np.zeros((user_num, item_num))\n",
    "    for user in range(user_num):\n",
    "        eval_row = np.where(input_mat[user] != 0)[0] # indices of items rating unequal to 0 in row u \n",
    "        \n",
    "        for j in range(item_num):\n",
    "            if test_mat[user][j] == 0:\n",
    "                continue\n",
    "            numerator = np.sum((dev[j][eval_row] + input_mat[user][eval_row]) * evaled_users_mat[j][eval_row])\n",
    "            denominator = np.sum(evaled_users_mat[j][eval_row])\n",
    "            \n",
    "            pred_mat[user][j] = (numerator / denominator) if denominator != 0 else 0\n",
    "    \n",
    "    # save to csv\n",
    "    dir_ = 'output_data111'\n",
    "    if not os.path.exists(dir_):\n",
    "        os.makedirs(dir_)\n",
    "    pd.DataFrame(pred_mat).to_csv(f'{dir_}/pred_mat_only_slope1.csv', index=False)\n",
    "    \n",
    "    return pred_mat"
   ]
  },
  {
   "cell_type": "code",
   "execution_count": 7,
   "metadata": {},
   "outputs": [
    {
     "data": {
      "text/plain": [
       "array([[4, 3, 3, ..., 2, 3, 3],\n",
       "       [4, 3, 3, ..., 2, 4, 4],\n",
       "       [3, 3, 2, ..., 2, 3, 2],\n",
       "       ...,\n",
       "       [4, 3, 3, ..., 2, 3, 3],\n",
       "       [4, 4, 4, ..., 2, 4, 4],\n",
       "       [4, 3, 3, ..., 0, 3, 3]])"
      ]
     },
     "execution_count": 7,
     "metadata": {},
     "output_type": "execute_result"
    }
   ],
   "source": [
    "from math import isnan,ceil,floor\n",
    "\n",
    "# the function makes predictions integer and make them bounded by 0 and 5 \n",
    "def predict_correction(elem): \n",
    "    if isnan(elem):\n",
    "        return 0\n",
    "    elif elem > 5:\n",
    "        return 5\n",
    "    elif elem < 0:\n",
    "        return 0\n",
    "    \n",
    "    elif elem-int(elem) >= 0.5:\n",
    "        return ceil(elem)\n",
    "    else:\n",
    "        return floor(elem)\n",
    "\n",
    "\n",
    "# predict = weighted_slope_one(base_mat) # run this in case you want calculate once again - may take a while\n",
    "\n",
    "predict = pd.read_csv('output_data/pred_mat_only_slope1.csv')\n",
    "predict = np.array(predict)\n",
    "\n",
    "# make predictions integer and vast from 0 to 5\n",
    "vfunc = np.vectorize(predict_correction)\n",
    "predict = vfunc(predict)\n",
    "predict"
   ]
  },
  {
   "cell_type": "markdown",
   "metadata": {},
   "source": [
    "## 4. Measure the errors"
   ]
  },
  {
   "cell_type": "markdown",
   "metadata": {},
   "source": [
    "#### In accordance with the [article](https://www.atlantis-press.com/proceedings/mcei-15/25840929) we measure errors through RMSE and MAE "
   ]
  },
  {
   "cell_type": "code",
   "execution_count": 8,
   "metadata": {},
   "outputs": [],
   "source": [
    "import math\n",
    "\n",
    "def RMSE(predict, correct):\n",
    "    pred = predict[np.where((correct > 0) & (~np.isnan(predict)))]\n",
    "    cor = correct[np.where((correct > 0) & (~np.isnan(predict)))]\n",
    "    return math.sqrt(np.average((pred - cor) ** 2))\n",
    "\n",
    "def MAE(predict, correct):\n",
    "    pred = predict[np.where((correct > 0) & (~np.isnan(predict)))]\n",
    "    cor = correct[np.where((correct > 0) & (~np.isnan(predict)))]\n",
    "    return np.average(np.abs(pred - cor))"
   ]
  },
  {
   "cell_type": "code",
   "execution_count": 9,
   "metadata": {},
   "outputs": [
    {
     "name": "stdout",
     "output_type": "stream",
     "text": [
      "RMSE: 1.001\n",
      "MAE: 0.719\n"
     ]
    }
   ],
   "source": [
    "print('RMSE:', round(RMSE(predict, test_mat), 3))\n",
    "print('MAE:', round(MAE(predict, test_mat), 3))"
   ]
  },
  {
   "cell_type": "markdown",
   "metadata": {},
   "source": [
    "The error rate is rather small! Not more than point. We see that the algorithm works indeed!"
   ]
  },
  {
   "cell_type": "markdown",
   "metadata": {},
   "source": [
    "## We wanted to implement accuracy or F1 score, but they are not so representative in our case"
   ]
  },
  {
   "cell_type": "code",
   "execution_count": 52,
   "metadata": {},
   "outputs": [
    {
     "name": "stdout",
     "output_type": "stream",
     "text": [
      "Accuracy: 0.407\n"
     ]
    }
   ],
   "source": [
    "from sklearn.metrics import accuracy_score\n",
    "\n",
    "def acc(predict, correct):\n",
    "    \n",
    "    pred = predict[np.where((correct > 0) & (~np.isnan(predict)))]\n",
    "    cor = correct[np.where((correct > 0) & (~np.isnan(predict)))]\n",
    "    \n",
    "    predict = np.ravel(pred)\n",
    "    correct = np.ravel(cor)\n",
    "    \n",
    "    return accuracy_score(predict, correct)\n",
    "\n",
    "print('Accuracy:', round(acc(predict, test_mat), 3))"
   ]
  },
  {
   "cell_type": "markdown",
   "metadata": {},
   "source": [
    "##### * supose for user A we got next array of rating [1,2,3,4,5] and the test matrix for him is [2,3,4,4] (it is really close), but accuracy will give us 0"
   ]
  },
  {
   "cell_type": "markdown",
   "metadata": {},
   "source": [
    "##### it is better to use metrics which compute distance between each rating and take \"mean\""
   ]
  },
  {
   "cell_type": "markdown",
   "metadata": {},
   "source": [
    "## 5. SVD + Slope-One "
   ]
  },
  {
   "cell_type": "markdown",
   "metadata": {},
   "source": [
    "We considered next pipeline:\n",
    "\n",
    "1. Replace all the missing values in user-item matrix with items averages. \n",
    "2. Normalize matrix by subtracting users averages (calculated based on initial rating matrix, not filled-in).\n",
    "3. Perform Singular Value Decomposition of modified user-item matrix. \n",
    "    * It is bad to perform SVD on primary user-item matrix, because  we will get $U \\cdot S \\cdot V$ matrix and this matrix will contain numbers which cannot be interpreted as ratings.\n",
    "    \n",
    "    \n",
    "4. Keeping only first r rows of matrix U, r rows and r columns of matrix S and r columns of matrix V.\n",
    "    And then reconstruct matrix R: $U_{[:r,:]} \\cdot S_{[:r,:r]} \\cdot V_{[:,:r]}$.\n",
    "    \n",
    "5. Apply Slope-One algorithm to obtained modified user-item matrix R."
   ]
  },
  {
   "cell_type": "markdown",
   "metadata": {},
   "source": [
    "### SVD"
   ]
  },
  {
   "cell_type": "markdown",
   "metadata": {},
   "source": [
    "#### Let's try with rank = 300. We will explain why it is good further."
   ]
  },
  {
   "cell_type": "code",
   "execution_count": 57,
   "metadata": {},
   "outputs": [],
   "source": [
    "mask = np.array(base_mat == 0)\n",
    "\n",
    "masked_arr = np.ma.masked_array(base_mat, mask)\n",
    "item_means = np.mean(masked_arr, axis=0)\n",
    "\n",
    "utilMat = masked_arr.filled(item_means)\n",
    "x = np.tile(item_means, (utilMat.shape[0],1))\n",
    "\n",
    "utilMat = utilMat - x"
   ]
  },
  {
   "cell_type": "code",
   "execution_count": 58,
   "metadata": {},
   "outputs": [
    {
     "data": {
      "text/plain": [
       "array([[5.0766281 , 3.05483071, 4.1175441 , ..., 2.        , 3.        ,\n",
       "        3.        ],\n",
       "       [4.07374317, 3.09126157, 3.1336082 , ..., 2.        , 3.        ,\n",
       "        3.        ],\n",
       "       [3.79750434, 3.14473145, 2.90249777, ..., 2.        , 3.        ,\n",
       "        3.        ],\n",
       "       ...,\n",
       "       [4.81893895, 3.2008462 , 3.07085727, ..., 2.        , 3.        ,\n",
       "        3.        ],\n",
       "       [3.87369629, 3.17550144, 3.14350156, ..., 2.        , 3.        ,\n",
       "        3.        ],\n",
       "       [3.89154996, 4.95508392, 3.04165514, ..., 2.        , 3.        ,\n",
       "        3.        ]])"
      ]
     },
     "execution_count": 58,
     "metadata": {},
     "output_type": "execute_result"
    }
   ],
   "source": [
    "rank = 300\n",
    "\n",
    "U, sigma, V = np.linalg.svd(utilMat, full_matrices=False)\n",
    "\n",
    "\n",
    "s1 = np.diag(sigma)\n",
    "s1 = s[:rank,:rank]\n",
    "U1 = U[:,:rank]\n",
    "V1 = V[:rank,:]\n",
    "\n",
    "\n",
    "Us = np.dot(U1,s1)\n",
    "UsV = np.dot(Us,V1)\n",
    "UsV = UsV + x\n",
    "\n",
    "UsV.data"
   ]
  },
  {
   "cell_type": "markdown",
   "metadata": {},
   "source": [
    "#### Rounding SVD result"
   ]
  },
  {
   "cell_type": "code",
   "execution_count": 59,
   "metadata": {},
   "outputs": [
    {
     "data": {
      "text/plain": [
       "array([[5, 3, 4, ..., 2, 3, 3],\n",
       "       [4, 3, 3, ..., 2, 3, 3],\n",
       "       [4, 3, 3, ..., 2, 3, 3],\n",
       "       ...,\n",
       "       [5, 3, 3, ..., 2, 3, 3],\n",
       "       [4, 3, 3, ..., 2, 3, 3],\n",
       "       [4, 5, 3, ..., 2, 3, 3]])"
      ]
     },
     "execution_count": 59,
     "metadata": {},
     "output_type": "execute_result"
    }
   ],
   "source": [
    "from math import ceil,floor\n",
    "\n",
    "def myfunc(elem):\n",
    "    if elem-int(elem) >= 0.5:\n",
    "        return ceil(elem)\n",
    "    else:\n",
    "        return floor(elem)\n",
    "\n",
    "roundfunc = np.vectorize(myfunc)\n",
    "SVD_applied_pred_mat = roundfunc(UsV.data)\n",
    "SVD_applied_pred_mat"
   ]
  },
  {
   "cell_type": "code",
   "execution_count": 60,
   "metadata": {},
   "outputs": [
    {
     "name": "stdout",
     "output_type": "stream",
     "text": [
      "RMSE with only SVD: 1.071\n",
      "MAE with only SVD: 0.799\n"
     ]
    }
   ],
   "source": [
    "print('RMSE with only SVD:', round(RMSE(SVD_applied_pred_mat, test_mat), 3))\n",
    "print('MAE with only SVD:', round(MAE(SVD_applied_pred_mat, test_mat), 3))"
   ]
  },
  {
   "cell_type": "markdown",
   "metadata": {},
   "source": [
    "### Slope one"
   ]
  },
  {
   "cell_type": "code",
   "execution_count": null,
   "metadata": {},
   "outputs": [],
   "source": [
    "predict_svd_slope_one = weighted_slope_one(SVD_applied_pred_mat)"
   ]
  },
  {
   "cell_type": "code",
   "execution_count": null,
   "metadata": {},
   "outputs": [],
   "source": [
    "predict_svd_slope_one = np.array(predict_svd_slope_one)\n",
    "\n",
    "predict_svd_slope_one = vfunc(predict_svd_slope_one)\n",
    "predict_svd_slope_one"
   ]
  },
  {
   "cell_type": "markdown",
   "metadata": {},
   "source": [
    "## Now let's look on all possible ranks and apply our whole pipeline"
   ]
  },
  {
   "cell_type": "markdown",
   "metadata": {},
   "source": [
    "### Decay of singular values of User-Item matrix"
   ]
  },
  {
   "cell_type": "code",
   "execution_count": 61,
   "metadata": {},
   "outputs": [
    {
     "data": {
      "image/png": "[encoded data removed]",
      "text/plain": [
       "<Figure size 720x360 with 1 Axes>"
      ]
     },
     "metadata": {
      "needs_background": "light"
     },
     "output_type": "display_data"
    }
   ],
   "source": [
    "plt.figure(figsize = [10, 5])\n",
    "plt.title('Decay of singular values', fontsize = 18)\n",
    "plt.plot(sigma / sigma[0])\n",
    "plt.xlabel(\"Singular values indices \", fontsize=15)\n",
    "plt.yticks(fontsize=15)\n",
    "plt.xticks(fontsize=15)\n",
    "plt.grid(True)\n",
    "plt.show()"
   ]
  },
  {
   "cell_type": "code",
   "execution_count": 5,
   "metadata": {},
   "outputs": [],
   "source": [
    "# turn the flag into True if you want to calculate the errors on your own. Takes much time!!\n",
    "flag_calc_SVD_approx = False"
   ]
  },
  {
   "cell_type": "code",
   "execution_count": 7,
   "metadata": {},
   "outputs": [
    {
     "data": {
      "image/png": "[encoded data removed]",
      "text/plain": [
       "<Figure size 1008x432 with 1 Axes>"
      ]
     },
     "metadata": {
      "needs_background": "light"
     },
     "output_type": "display_data"
    }
   ],
   "source": [
    "import json\n",
    "from scipy.sparse.linalg import svds\n",
    "from scipy.linalg import svd\n",
    "import matplotlib.pyplot as plt\n",
    "\n",
    "ranks = [300, 200, 100]\n",
    "\n",
    "if flag_calc_SVD_approx:\n",
    "    \n",
    "    rmse = []\n",
    "    mae = []\n",
    "    for rank in ranks:\n",
    "        \n",
    "        u1 = U[:, :rank]\n",
    "        s1 = s[:rank]\n",
    "        v1 = V[:rank, :]\n",
    "\n",
    "\n",
    "        Us = np.dot(U,s)\n",
    "        UsV = np.dot(Us,V)\n",
    "        UsV = UsV + x\n",
    "\n",
    "        UsV = UsV.data\n",
    "\n",
    "        SVD_applied_pred_mat = roundfunc(UsV)\n",
    "\n",
    "        predict = weighted_slope_one(SVD_applied_pred_mat, test_mat)\n",
    "\n",
    "        predict = vfunc(predict)\n",
    "\n",
    "        rmse.append(RMSE(predict, test_mat))\n",
    "        mae.append(MAE(predict, test_mat))\n",
    "        ranks.append(rank)\n",
    "    \n",
    "        # just for safety\n",
    "        with open('output_data/RMSE.txt', 'w') as outfile:\n",
    "            json.dump(rmse, outfile)\n",
    "        with open('output_data/MAE.txt', 'w') as outfile:\n",
    "            json.dump(mae, outfile)\n",
    "            \n",
    "else:\n",
    "    with open('output_data/RMSE.txt') as infile:\n",
    "        rmse = json.load(infile)\n",
    "    with open('output_data/MAE.txt') as infile:\n",
    "        mae = json.load(infile)\n",
    "\n",
    "plt.figure(figsize=(14,6))\n",
    "plt.title('Errors of Recomemendation System',fontsize = 18)\n",
    "plt.plot(ranks, rmse, label='RMSE')\n",
    "plt.plot(ranks, mae, label='MAE')\n",
    "plt.xlabel('Rank of the approximated matrix', fontsize=18)\n",
    "plt.ylabel('Errors rates', fontsize=18)\n",
    "plt.yticks(fontsize=16)\n",
    "plt.xticks(fontsize=16)\n",
    "plt.legend(loc='best')\n",
    "plt.grid(True)\n",
    "plt.show()"
   ]
  },
  {
   "cell_type": "markdown",
   "metadata": {},
   "source": [
    "We tried several ranks but the best scores were obtained out of this 3 attempts. We decided to retain an amount of singular values to preserve 90% of the energy in $\\sum \\sigma_i^2$. That is, the sum of the squares of the retained singular values should be at least 90% of the sum of the squares of all the singular values."
   ]
  },
  {
   "cell_type": "code",
   "execution_count": 43,
   "metadata": {},
   "outputs": [
    {
     "name": "stdout",
     "output_type": "stream",
     "text": [
      "percentage: 94 %\n"
     ]
    }
   ],
   "source": [
    "percentage = np.linalg.norm(sigma[:300], 2) / np.linalg.norm(sigma, 2)\n",
    "\n",
    "print('percentage:', int(percentage*100), '%')"
   ]
  },
  {
   "cell_type": "markdown",
   "metadata": {},
   "source": [
    "We see that $rank=300$ is a perfect choice"
   ]
  },
  {
   "cell_type": "code",
   "execution_count": 8,
   "metadata": {},
   "outputs": [
    {
     "name": "stdout",
     "output_type": "stream",
     "text": [
      "RMSE with SVD: [2.984, 2.994, 3.016]\n",
      "MAE with SVD: [2.746, 2.757, 2.781]\n"
     ]
    }
   ],
   "source": [
    "print('RMSE with SVD:', [round(elem, 3) for elem in rmse])\n",
    "print('MAE with SVD:', [round(elem, 3) for elem in mae])"
   ]
  },
  {
   "cell_type": "markdown",
   "metadata": {},
   "source": [
    "Unfortunately we obtained results opposite to those in the [paper](https://www.atlantis-press.com/proceedings/mcei-15/25840929).\n",
    "Pure Slope-One worked better in our experiment!"
   ]
  },
  {
   "cell_type": "markdown",
   "metadata": {},
   "source": [
    "# Movies"
   ]
  },
  {
   "cell_type": "code",
   "execution_count": 6,
   "metadata": {},
   "outputs": [],
   "source": [
    "item = pd.read_csv('ml-100k/u.item', sep='|',names = ['movie id', 'movie title', 'release date', 'video release date',\n",
    "              'IMDb URL', 'unknown',' Action', 'Adventure', 'Animation',\n",
    "              'Children\"s', 'Comedy' ,'Crime' ,'Documentary', 'Drama' ,'Fantasy',\n",
    "              'Film-Noir', 'Horror', 'Musical', 'Mystery' ,'Romance', 'Sci-Fi' ,\n",
    "              'Thriller' ,'War' ,'Western'], encoding='latin-1')"
   ]
  },
  {
   "cell_type": "code",
   "execution_count": 7,
   "metadata": {},
   "outputs": [],
   "source": [
    "item.set_index('movie id',inplace = True)"
   ]
  },
  {
   "cell_type": "code",
   "execution_count": 8,
   "metadata": {},
   "outputs": [
    {
     "data": {
      "text/html": [
       "<div>\n",
       "<style scoped>\n",
       "    .dataframe tbody tr th:only-of-type {\n",
       "        vertical-align: middle;\n",
       "    }\n",
       "\n",
       "    .dataframe tbody tr th {\n",
       "        vertical-align: top;\n",
       "    }\n",
       "\n",
       "    .dataframe thead th {\n",
       "        text-align: right;\n",
       "    }\n",
       "</style>\n",
       "<table border=\"1\" class=\"dataframe\">\n",
       "  <thead>\n",
       "    <tr style=\"text-align: right;\">\n",
       "      <th></th>\n",
       "      <th>movie title</th>\n",
       "      <th>release date</th>\n",
       "      <th>video release date</th>\n",
       "      <th>IMDb URL</th>\n",
       "      <th>unknown</th>\n",
       "      <th>Action</th>\n",
       "      <th>Adventure</th>\n",
       "      <th>Animation</th>\n",
       "      <th>Children\"s</th>\n",
       "      <th>Comedy</th>\n",
       "      <th>...</th>\n",
       "      <th>Fantasy</th>\n",
       "      <th>Film-Noir</th>\n",
       "      <th>Horror</th>\n",
       "      <th>Musical</th>\n",
       "      <th>Mystery</th>\n",
       "      <th>Romance</th>\n",
       "      <th>Sci-Fi</th>\n",
       "      <th>Thriller</th>\n",
       "      <th>War</th>\n",
       "      <th>Western</th>\n",
       "    </tr>\n",
       "    <tr>\n",
       "      <th>movie id</th>\n",
       "      <th></th>\n",
       "      <th></th>\n",
       "      <th></th>\n",
       "      <th></th>\n",
       "      <th></th>\n",
       "      <th></th>\n",
       "      <th></th>\n",
       "      <th></th>\n",
       "      <th></th>\n",
       "      <th></th>\n",
       "      <th></th>\n",
       "      <th></th>\n",
       "      <th></th>\n",
       "      <th></th>\n",
       "      <th></th>\n",
       "      <th></th>\n",
       "      <th></th>\n",
       "      <th></th>\n",
       "      <th></th>\n",
       "      <th></th>\n",
       "      <th></th>\n",
       "    </tr>\n",
       "  </thead>\n",
       "  <tbody>\n",
       "    <tr>\n",
       "      <th>1</th>\n",
       "      <td>Toy Story (1995)</td>\n",
       "      <td>01-Jan-1995</td>\n",
       "      <td>NaN</td>\n",
       "      <td>http://us.imdb.com/M/title-exact?Toy%20Story%2...</td>\n",
       "      <td>0</td>\n",
       "      <td>0</td>\n",
       "      <td>0</td>\n",
       "      <td>1</td>\n",
       "      <td>1</td>\n",
       "      <td>1</td>\n",
       "      <td>...</td>\n",
       "      <td>0</td>\n",
       "      <td>0</td>\n",
       "      <td>0</td>\n",
       "      <td>0</td>\n",
       "      <td>0</td>\n",
       "      <td>0</td>\n",
       "      <td>0</td>\n",
       "      <td>0</td>\n",
       "      <td>0</td>\n",
       "      <td>0</td>\n",
       "    </tr>\n",
       "    <tr>\n",
       "      <th>2</th>\n",
       "      <td>GoldenEye (1995)</td>\n",
       "      <td>01-Jan-1995</td>\n",
       "      <td>NaN</td>\n",
       "      <td>http://us.imdb.com/M/title-exact?GoldenEye%20(...</td>\n",
       "      <td>0</td>\n",
       "      <td>1</td>\n",
       "      <td>1</td>\n",
       "      <td>0</td>\n",
       "      <td>0</td>\n",
       "      <td>0</td>\n",
       "      <td>...</td>\n",
       "      <td>0</td>\n",
       "      <td>0</td>\n",
       "      <td>0</td>\n",
       "      <td>0</td>\n",
       "      <td>0</td>\n",
       "      <td>0</td>\n",
       "      <td>0</td>\n",
       "      <td>1</td>\n",
       "      <td>0</td>\n",
       "      <td>0</td>\n",
       "    </tr>\n",
       "    <tr>\n",
       "      <th>3</th>\n",
       "      <td>Four Rooms (1995)</td>\n",
       "      <td>01-Jan-1995</td>\n",
       "      <td>NaN</td>\n",
       "      <td>http://us.imdb.com/M/title-exact?Four%20Rooms%...</td>\n",
       "      <td>0</td>\n",
       "      <td>0</td>\n",
       "      <td>0</td>\n",
       "      <td>0</td>\n",
       "      <td>0</td>\n",
       "      <td>0</td>\n",
       "      <td>...</td>\n",
       "      <td>0</td>\n",
       "      <td>0</td>\n",
       "      <td>0</td>\n",
       "      <td>0</td>\n",
       "      <td>0</td>\n",
       "      <td>0</td>\n",
       "      <td>0</td>\n",
       "      <td>1</td>\n",
       "      <td>0</td>\n",
       "      <td>0</td>\n",
       "    </tr>\n",
       "    <tr>\n",
       "      <th>4</th>\n",
       "      <td>Get Shorty (1995)</td>\n",
       "      <td>01-Jan-1995</td>\n",
       "      <td>NaN</td>\n",
       "      <td>http://us.imdb.com/M/title-exact?Get%20Shorty%...</td>\n",
       "      <td>0</td>\n",
       "      <td>1</td>\n",
       "      <td>0</td>\n",
       "      <td>0</td>\n",
       "      <td>0</td>\n",
       "      <td>1</td>\n",
       "      <td>...</td>\n",
       "      <td>0</td>\n",
       "      <td>0</td>\n",
       "      <td>0</td>\n",
       "      <td>0</td>\n",
       "      <td>0</td>\n",
       "      <td>0</td>\n",
       "      <td>0</td>\n",
       "      <td>0</td>\n",
       "      <td>0</td>\n",
       "      <td>0</td>\n",
       "    </tr>\n",
       "    <tr>\n",
       "      <th>5</th>\n",
       "      <td>Copycat (1995)</td>\n",
       "      <td>01-Jan-1995</td>\n",
       "      <td>NaN</td>\n",
       "      <td>http://us.imdb.com/M/title-exact?Copycat%20(1995)</td>\n",
       "      <td>0</td>\n",
       "      <td>0</td>\n",
       "      <td>0</td>\n",
       "      <td>0</td>\n",
       "      <td>0</td>\n",
       "      <td>0</td>\n",
       "      <td>...</td>\n",
       "      <td>0</td>\n",
       "      <td>0</td>\n",
       "      <td>0</td>\n",
       "      <td>0</td>\n",
       "      <td>0</td>\n",
       "      <td>0</td>\n",
       "      <td>0</td>\n",
       "      <td>1</td>\n",
       "      <td>0</td>\n",
       "      <td>0</td>\n",
       "    </tr>\n",
       "  </tbody>\n",
       "</table>\n",
       "<p>5 rows × 23 columns</p>\n",
       "</div>"
      ],
      "text/plain": [
       "                movie title release date  video release date  \\\n",
       "movie id                                                       \n",
       "1          Toy Story (1995)  01-Jan-1995                 NaN   \n",
       "2          GoldenEye (1995)  01-Jan-1995                 NaN   \n",
       "3         Four Rooms (1995)  01-Jan-1995                 NaN   \n",
       "4         Get Shorty (1995)  01-Jan-1995                 NaN   \n",
       "5            Copycat (1995)  01-Jan-1995                 NaN   \n",
       "\n",
       "                                                   IMDb URL  unknown   Action  \\\n",
       "movie id                                                                        \n",
       "1         http://us.imdb.com/M/title-exact?Toy%20Story%2...        0        0   \n",
       "2         http://us.imdb.com/M/title-exact?GoldenEye%20(...        0        1   \n",
       "3         http://us.imdb.com/M/title-exact?Four%20Rooms%...        0        0   \n",
       "4         http://us.imdb.com/M/title-exact?Get%20Shorty%...        0        1   \n",
       "5         http://us.imdb.com/M/title-exact?Copycat%20(1995)        0        0   \n",
       "\n",
       "          Adventure  Animation  Children\"s  Comedy  ...  Fantasy  Film-Noir  \\\n",
       "movie id                                            ...                       \n",
       "1                 0          1           1       1  ...        0          0   \n",
       "2                 1          0           0       0  ...        0          0   \n",
       "3                 0          0           0       0  ...        0          0   \n",
       "4                 0          0           0       1  ...        0          0   \n",
       "5                 0          0           0       0  ...        0          0   \n",
       "\n",
       "          Horror  Musical  Mystery  Romance  Sci-Fi  Thriller  War  Western  \n",
       "movie id                                                                     \n",
       "1              0        0        0        0       0         0    0        0  \n",
       "2              0        0        0        0       0         1    0        0  \n",
       "3              0        0        0        0       0         1    0        0  \n",
       "4              0        0        0        0       0         0    0        0  \n",
       "5              0        0        0        0       0         1    0        0  \n",
       "\n",
       "[5 rows x 23 columns]"
      ]
     },
     "execution_count": 8,
     "metadata": {},
     "output_type": "execute_result"
    }
   ],
   "source": [
    "item.head()"
   ]
  },
  {
   "cell_type": "markdown",
   "metadata": {},
   "source": [
    "## Users"
   ]
  },
  {
   "cell_type": "code",
   "execution_count": 7,
   "metadata": {},
   "outputs": [
    {
     "data": {
      "text/html": [
       "<div>\n",
       "<style scoped>\n",
       "    .dataframe tbody tr th:only-of-type {\n",
       "        vertical-align: middle;\n",
       "    }\n",
       "\n",
       "    .dataframe tbody tr th {\n",
       "        vertical-align: top;\n",
       "    }\n",
       "\n",
       "    .dataframe thead th {\n",
       "        text-align: right;\n",
       "    }\n",
       "</style>\n",
       "<table border=\"1\" class=\"dataframe\">\n",
       "  <thead>\n",
       "    <tr style=\"text-align: right;\">\n",
       "      <th></th>\n",
       "      <th>age</th>\n",
       "      <th>gender</th>\n",
       "      <th>occupation</th>\n",
       "      <th>zip code</th>\n",
       "    </tr>\n",
       "    <tr>\n",
       "      <th>user id</th>\n",
       "      <th></th>\n",
       "      <th></th>\n",
       "      <th></th>\n",
       "      <th></th>\n",
       "    </tr>\n",
       "  </thead>\n",
       "  <tbody>\n",
       "    <tr>\n",
       "      <th>1</th>\n",
       "      <td>24</td>\n",
       "      <td>M</td>\n",
       "      <td>technician</td>\n",
       "      <td>85711</td>\n",
       "    </tr>\n",
       "    <tr>\n",
       "      <th>2</th>\n",
       "      <td>53</td>\n",
       "      <td>F</td>\n",
       "      <td>other</td>\n",
       "      <td>94043</td>\n",
       "    </tr>\n",
       "    <tr>\n",
       "      <th>3</th>\n",
       "      <td>23</td>\n",
       "      <td>M</td>\n",
       "      <td>writer</td>\n",
       "      <td>32067</td>\n",
       "    </tr>\n",
       "    <tr>\n",
       "      <th>4</th>\n",
       "      <td>24</td>\n",
       "      <td>M</td>\n",
       "      <td>technician</td>\n",
       "      <td>43537</td>\n",
       "    </tr>\n",
       "    <tr>\n",
       "      <th>5</th>\n",
       "      <td>33</td>\n",
       "      <td>F</td>\n",
       "      <td>other</td>\n",
       "      <td>15213</td>\n",
       "    </tr>\n",
       "  </tbody>\n",
       "</table>\n",
       "</div>"
      ],
      "text/plain": [
       "         age gender  occupation zip code\n",
       "user id                                 \n",
       "1         24      M  technician    85711\n",
       "2         53      F       other    94043\n",
       "3         23      M      writer    32067\n",
       "4         24      M  technician    43537\n",
       "5         33      F       other    15213"
      ]
     },
     "execution_count": 7,
     "metadata": {},
     "output_type": "execute_result"
    }
   ],
   "source": [
    "user = pd.read_csv('ml-100k/u.user', sep='|', names = ['user id', 'age', 'gender', 'occupation', 'zip code'])\n",
    "user.set_index('user id', inplace = True)\n",
    "user.head()"
   ]
  },
  {
   "cell_type": "markdown",
   "metadata": {},
   "source": [
    "## Our prediction "
   ]
  },
  {
   "cell_type": "code",
   "execution_count": 9,
   "metadata": {},
   "outputs": [
    {
     "data": {
      "text/plain": [
       "array([[4, 3, 3, ..., 2, 3, 3],\n",
       "       [4, 3, 3, ..., 2, 4, 4],\n",
       "       [3, 3, 2, ..., 2, 3, 2],\n",
       "       ...,\n",
       "       [4, 3, 3, ..., 2, 3, 3],\n",
       "       [4, 4, 4, ..., 2, 4, 4],\n",
       "       [4, 3, 3, ..., 0, 3, 3]])"
      ]
     },
     "execution_count": 9,
     "metadata": {},
     "output_type": "execute_result"
    }
   ],
   "source": [
    "predict"
   ]
  },
  {
   "cell_type": "markdown",
   "metadata": {},
   "source": [
    "## Recommendations part"
   ]
  },
  {
   "cell_type": "markdown",
   "metadata": {},
   "source": [
    "We set the thershold for the algorithm to find films with `rating > treshold`. We also set a user id to calculate the list of movies the user may like"
   ]
  },
  {
   "cell_type": "code",
   "execution_count": 23,
   "metadata": {},
   "outputs": [],
   "source": [
    "th = 4\n",
    "user_id = 22"
   ]
  },
  {
   "cell_type": "code",
   "execution_count": 24,
   "metadata": {},
   "outputs": [
    {
     "name": "stdout",
     "output_type": "stream",
     "text": [
      "Celluloid Closet, The (1995)\n",
      "Umbrellas of Cherbourg, The (Parapluies de Cherbourg, Les) (1964)\n",
      "Relic, The (1997)\n",
      "Simple Wish, A (1997)\n",
      "JLG/JLG - autoportrait de décembre (1994)\n",
      "Faust (1994)\n",
      "Of Human Bondage (1934)\n",
      "My Favorite Season (1993)\n",
      "Thieves (Voleurs, Les) (1996)\n",
      "Margaret's Museum (1995)\n",
      "Grosse Fatigue (1994)\n",
      "Good Man in Africa, A (1994)\n",
      "Enfer, L' (1994)\n",
      "City of Industry (1997)\n",
      "Two Friends (1986) \n",
      "Dadetown (1995)\n",
      "Some Mother's Son (1996)\n",
      "Sudden Manhattan (1996)\n",
      "Big One, The (1997)\n",
      "Butcher Boy, The (1998)\n",
      "Favor, The (1994)\n"
     ]
    }
   ],
   "source": [
    "recommendations = item['movie title'][np.where((base_mat[user_id]==0) & (predict[user_id] > th))[0]]\n",
    "for elem in recommendations:\n",
    "    print(elem)"
   ]
  },
  {
   "cell_type": "markdown",
   "metadata": {},
   "source": [
    "## Movies seen by the user to which he gave the rating of 5"
   ]
  },
  {
   "cell_type": "code",
   "execution_count": 25,
   "metadata": {},
   "outputs": [
    {
     "name": "stdout",
     "output_type": "stream",
     "text": [
      "Toy Story (1995)\n",
      "Blade Runner (1982)\n",
      "Silence of the Lambs, The (1991)\n",
      "Fargo (1996)\n",
      "Cold Comfort Farm (1995)\n",
      "Lone Star (1996)\n",
      "Delicatessen (1991)\n",
      "Princess Bride, The (1987)\n",
      "Brazil (1985)\n",
      "Grand Day Out, A (1992)\n",
      "This Is Spinal Tap (1984)\n",
      "Ridicule (1996)\n",
      "Raising Arizona (1987)\n",
      "Full Monty, The (1997)\n",
      "Sense and Sensibility (1995)\n",
      "Star Trek: Generations (1994)\n",
      "Close Shave, A (1995)\n",
      "William Shakespeare's Romeo and Juliet (1996)\n",
      "To Kill a Mockingbird (1962)\n",
      "Heathers (1989)\n",
      "Vertigo (1958)\n",
      "Lawrence of Arabia (1962)\n",
      "Wings of Desire (1987)\n",
      "Miller's Crossing (1990)\n",
      "City of Lost Children, The (1995)\n",
      "Orlando (1993)\n"
     ]
    }
   ],
   "source": [
    "movies_5 = item['movie title'].values[np.where(base_mat[user_id] > th)[0]]\n",
    "\n",
    "for elem in movies_5:\n",
    "    print(elem)"
   ]
  },
  {
   "cell_type": "code",
   "execution_count": null,
   "metadata": {},
   "outputs": [],
   "source": []
  }
 ],
 "metadata": {
  "kernelspec": {
   "display_name": "Python 3",
   "language": "python",
   "name": "python3"
  },
  "language_info": {
   "codemirror_mode": {
    "name": "ipython",
    "version": 3
   },
   "file_extension": ".py",
   "mimetype": "text/x-python",
   "name": "python",
   "nbconvert_exporter": "python",
   "pygments_lexer": "ipython3",
   "version": "3.7.3"
  }
 },
 "nbformat": 4,
 "nbformat_minor": 2
}
